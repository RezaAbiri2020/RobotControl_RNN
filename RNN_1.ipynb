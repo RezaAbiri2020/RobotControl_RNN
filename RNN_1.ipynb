{
 "cells": [
  {
   "cell_type": "markdown",
   "id": "collaborative-compilation",
   "metadata": {},
   "source": [
    "# description: running an RNN model for classification of 4 targets in B1\n"
   ]
  },
  {
   "cell_type": "code",
   "execution_count": 1,
   "id": "removed-athens",
   "metadata": {},
   "outputs": [],
   "source": [
    "# loading the library\n",
    "import numpy as np\n",
    "import os\n",
    "import os.path\n",
    "import scipy.io\n",
    "from scipy.io import loadmat\n",
    "import hdf5storage as hdf5s\n",
    "import h5py\n"
   ]
  },
  {
   "cell_type": "code",
   "execution_count": 13,
   "id": "chinese-kidney",
   "metadata": {},
   "outputs": [
    {
     "name": "stdout",
     "output_type": "stream",
     "text": [
      "Session:134342\n",
      "Trial: 1\n",
      "Trial: 2\n",
      "Trial: 3\n",
      "Trial: 4\n",
      "Trial: 5\n",
      "Trial: 6\n"
     ]
    },
    {
     "name": "stderr",
     "output_type": "stream",
     "text": [
      "/home/reza/anaconda3/envs/ECoGControl_RNN/lib/python3.7/site-packages/ipykernel_launcher.py:194: H5pyDeprecationWarning: The default file mode will change to 'r' (read-only) in h5py 3.0. To suppress this warning, pass the mode you need to h5py.File(), or set the global default h5.get_config().default_file_mode, or set the environment variable H5PY_DEFAULT_READONLY=1. Available modes are: 'r', 'r+', 'w', 'w-'/'x', 'a'. See the docs for details.\n"
     ]
    },
    {
     "name": "stdout",
     "output_type": "stream",
     "text": [
      "Trial: 7\n",
      "Trial: 8\n",
      "Session:134836\n",
      "Trial: 1\n",
      "Trial: 2\n",
      "Trial: 3\n",
      "Trial: 4\n",
      "Trial: 5\n",
      "Trial: 6\n",
      "Trial: 7\n",
      "Trial: 8\n",
      "Trial: 9\n",
      "Trial: 10\n",
      "Trial: 11\n",
      "Trial: 12\n",
      "Trial: 13\n",
      "Trial: 14\n",
      "Trial: 15\n",
      "Trial: 16\n",
      "Trial: 17\n",
      "Trial: 18\n",
      "Trial: 19\n",
      "Trial: 20\n",
      "Trial: 21\n",
      "Trial: 22\n",
      "Trial: 23\n",
      "Trial: 24\n",
      "Trial: 25\n",
      "Trial: 26\n",
      "Trial: 27\n",
      "Trial: 28\n",
      "Trial: 29\n",
      "Trial: 30\n",
      "Session:135450\n",
      "Trial: 1\n",
      "Trial: 2\n",
      "Trial: 3\n",
      "Trial: 4\n",
      "Trial: 5\n",
      "Trial: 6\n",
      "Trial: 7\n",
      "Trial: 8\n",
      "Trial: 9\n",
      "Trial: 10\n",
      "Trial: 11\n",
      "Trial: 12\n",
      "Trial: 13\n",
      "Trial: 14\n",
      "Trial: 15\n",
      "Trial: 16\n",
      "Trial: 17\n",
      "Trial: 18\n",
      "Trial: 19\n",
      "Trial: 20\n",
      "Trial: 21\n",
      "Trial: 22\n",
      "Trial: 23\n",
      "Trial: 24\n",
      "Trial: 25\n",
      "Trial: 26\n",
      "Trial: 27\n",
      "Trial: 28\n",
      "Trial: 29\n",
      "Trial: 30\n",
      "Session:135947\n",
      "Trial: 1\n",
      "Trial: 2\n",
      "Trial: 3\n",
      "Trial: 4\n",
      "Trial: 5\n",
      "Trial: 6\n",
      "Trial: 7\n",
      "Trial: 8\n",
      "Trial: 9\n",
      "Trial: 10\n",
      "Trial: 11\n",
      "Trial: 12\n",
      "Trial: 13\n",
      "Trial: 14\n",
      "Trial: 15\n",
      "Trial: 16\n",
      "Trial: 17\n",
      "Trial: 18\n",
      "Trial: 19\n",
      "Trial: 20\n",
      "Trial: 21\n",
      "Trial: 22\n",
      "Trial: 23\n",
      "Trial: 24\n",
      "Trial: 25\n",
      "Trial: 26\n",
      "Trial: 27\n",
      "Trial: 28\n",
      "Trial: 29\n",
      "End of Running Section\n"
     ]
    }
   ],
   "source": [
    "\n",
    "# Experiment info \n",
    "# loading the imagined data\n",
    "\n",
    "# initilize the values\n",
    "class structtype():\n",
    "    pass\n",
    "\n",
    "ExptDays = list(['20201002','20201009','20201016','20201030','20201113','20201117','20201118','20201125','20201211'])\n",
    "NumDay = len(ExptDays);\n",
    "SessionDay = [ structtype() for i in range(NumDay)]\n",
    "SessionDay[0].hhmmss = list(['145058','145910','150443','151528','152108'])\n",
    "SessionDay[1].hhmmss = list(['134342','134836','135450','135947'])\n",
    "SessionDay[2].hhmmss = list(['142924','144138','144924'])\n",
    "SessionDay[3].hhmmss = list(['133902','134541','134838','141625','142426'])\n",
    "SessionDay[4].hhmmss = list(['134350','135330','135938','140554'])\n",
    "SessionDay[5].hhmmss = list(['111747','112508','113040','141009'])\n",
    "SessionDay[6].hhmmss = list(['140255','140540'])\n",
    "SessionDay[7].hhmmss = list(['105228','111217','112507','112711','113526','114108','143218','143824'])\n",
    "SessionDay[8].hhmmss = list(['114458','114725'])\n",
    "\n",
    "# for reading mat file from matlab\n",
    "# it is easier to use class for further extracting necessary params or data\n",
    "class MatFileAnalyzer():\n",
    "    \n",
    "    # first mandatory method; constructor\n",
    "    def __init__(self,Mat_data):\n",
    "        self.Fs = Mat_data['TrialData']['Params']['Fs'][0][0]\n",
    "        self.UpdateRate = Mat_data['TrialData']['Params']['UpdateRate'][0][0]\n",
    "        self.TargetID = Mat_data['TrialData']['TargetID'][0][0]\n",
    "        self.SelectedTargetID = Mat_data['TrialData']['SelectedTargetID'][0][0]\n",
    "        self.MaxReachTime = Mat_data['TrialData']['Params']['MaxReachTime'][0][0]\n",
    "        self.Click_BinNum = Mat_data['TrialData']['Params']['ClickCounter'][0][0]\n",
    "        \n",
    "    def ECoG_Raw(self):\n",
    "\n",
    "        Signals = Mat_data['TrialData']['BroadbandData']\n",
    "        BinNum = Signals.shape[0]\n",
    "        ECoGData = np.empty((0,128), dtype=float)\n",
    "        for i in range(BinNum):\n",
    "            Bin = Mat_data['TrialData']['BroadbandData'][i][0]\n",
    "            BinName = h5py.h5r.get_name(Bin, Mat_data.id)\n",
    "            BinInfo = Mat_data[BinName] \n",
    "            BinData = BinInfo[:,:]\n",
    "            ECoGData = np.concatenate((ECoGData, BinData.T), axis=0)\n",
    "\n",
    "        return ECoGData\n",
    "    \n",
    "    \n",
    "    def ECoG_Raw_Trial(self):\n",
    "        \n",
    "        Signals = Mat_data['TrialData']['BroadbandData']\n",
    "        BinNum = Signals.shape[0]\n",
    "        ECoGData_Trial = np.empty((0,128), dtype=float)\n",
    "        \n",
    "        if ExptDays[Day] == '20201002':\n",
    "        \n",
    "            for i in range(BinNum-int(self.Click_BinNum),BinNum,1):\n",
    "                Bin = Mat_data['TrialData']['BroadbandData'][i][0]\n",
    "                BinName = h5py.h5r.get_name(Bin, Mat_data.id)\n",
    "                BinInfo = Mat_data[BinName] \n",
    "                BinData = BinInfo[:,:]\n",
    "                ECoGData_Trial = np.concatenate((ECoGData_Trial, BinData.T), axis=0)\n",
    "\n",
    "            return ECoGData_Trial\n",
    "        \n",
    "        else:\n",
    "                        \n",
    "            BinControl = [] \n",
    "            for i in range(BinNum):\n",
    "                if Mat_data['TrialData']['TaskState'][i][0] == 3:\n",
    "                    BinControl.append(i)\n",
    "             \n",
    "            for j in BinControl[-int(TrialData.Click_BinNum):]:\n",
    "                if ExptDays[Day] == '20201009':\n",
    "                    j=j-1\n",
    "                    \n",
    "                Bin = Mat_data['TrialData']['BroadbandData'][j][0]\n",
    "                BinName = h5py.h5r.get_name(Bin, Mat_data.id)\n",
    "                BinInfo = Mat_data[BinName] \n",
    "                BinData = BinInfo[:,:]\n",
    "                ECoGData_Trial = np.concatenate((ECoGData_Trial, BinData.T), axis=0)\n",
    "                \n",
    "            return ECoGData_Trial\n",
    "        \n",
    "    \n",
    "    def Features_All(self):\n",
    "        \n",
    "        Features = Mat_data['TrialData']['NeuralFeatures']\n",
    "        BinNum = Features.shape[0]\n",
    "        NeuralFeatures = np.empty((0,896), dtype=float)\n",
    "        \n",
    "        if ExptDays[Day] == '20201002':\n",
    "            \n",
    "            for i in range(BinNum-int(self.Click_BinNum),BinNum,1):\n",
    "                Bin = Mat_data['TrialData']['NeuralFeatures'][i][0]\n",
    "                BinName = h5py.h5r.get_name(Bin, Mat_data.id)\n",
    "                BinInfo = Mat_data[BinName] \n",
    "                BinData = BinInfo[:,:]\n",
    "                NeuralFeatures = np.concatenate((NeuralFeatures, BinData), axis=0)\n",
    "                \n",
    "            return NeuralFeatures\n",
    "        \n",
    "        else:\n",
    "                        \n",
    "            BinControl = [] \n",
    "            for i in range(BinNum):\n",
    "                if Mat_data['TrialData']['TaskState'][i][0] == 3:\n",
    "                    BinControl.append(i)\n",
    "             \n",
    "            for j in BinControl[-int(TrialData.Click_BinNum):]:\n",
    "                if ExptDays[Day] == '20201009':\n",
    "                    j=j-1\n",
    "                    \n",
    "                Bin = Mat_data['TrialData']['NeuralFeatures'][j][0]\n",
    "                BinName = h5py.h5r.get_name(Bin, Mat_data.id)\n",
    "                BinInfo = Mat_data[BinName] \n",
    "                BinData = BinInfo[:,:]\n",
    "                NeuralFeatures = np.concatenate((NeuralFeatures, BinData), axis=0)\n",
    "                \n",
    "            return NeuralFeatures\n",
    "        \n",
    "    def SmoothedFeatures_All(self):\n",
    "        \n",
    "        Features = Mat_data['TrialData']['SmoothedNeuralFeatures']\n",
    "        BinNum = Features.shape[0]\n",
    "        SmoothedNeuralFeatures = np.empty((0,896), dtype=float)\n",
    "                  \n",
    "        BinControl = [] \n",
    "        for i in range(BinNum):\n",
    "            if Mat_data['TrialData']['TaskState'][i][0] == 3:\n",
    "                BinControl.append(i)\n",
    "\n",
    "        for j in BinControl[-int(TrialData.Click_BinNum):]:\n",
    "            if ExptDays[Day] == '20201009':\n",
    "                j=j-1\n",
    "\n",
    "            Bin = Mat_data['TrialData']['SmoothedNeuralFeatures'][j][0]\n",
    "            BinName = h5py.h5r.get_name(Bin, Mat_data.id)\n",
    "            BinInfo = Mat_data[BinName] \n",
    "            BinData = BinInfo[:,:]\n",
    "            SmoothedNeuralFeatures = np.concatenate((SmoothedNeuralFeatures, BinData), axis=0)\n",
    "\n",
    "        return SmoothedNeuralFeatures   \n",
    "\n",
    "\n",
    "Trials_T1 = np.empty((0,896), dtype=float)\n",
    "Trials_T2 = np.empty((0,896), dtype=float)\n",
    "Trials_T3 = np.empty((0,896), dtype=float)\n",
    "Trials_T4 = np.empty((0,896), dtype=float)\n",
    "\n",
    "Trials_Raw_T1 = np.empty((0,128), dtype=float)\n",
    "Trials_Raw_T2 = np.empty((0,128), dtype=float)\n",
    "Trials_Raw_T3 = np.empty((0,128), dtype=float)\n",
    "Trials_Raw_T4 = np.empty((0,128), dtype=float)\n",
    "\n",
    "\n",
    "# numnber of censequative bins for making correct selections\n",
    "Click_BinNum_T1 = []\n",
    "Click_BinNum_T2 = []\n",
    "Click_BinNum_T3 = []\n",
    "Click_BinNum_T4 = []\n",
    "\n",
    "Day_NumTrial_T1 = []\n",
    "Day_NumTrial_T2 = []\n",
    "Day_NumTrial_T3 = []\n",
    "Day_NumTrial_T4 = []\n",
    "\n",
    "\n",
    "# loading the day/block/session data from the location\n",
    "# day 0 does not have SmoothedNeuralFeatures\n",
    "# day 6 the performance was not good\n",
    "for Day in [1]:#in [ 1, 2, 3, 4, 5, 6, 7, 8]:\n",
    "    ID1 = 0;\n",
    "    ID2 = 0;\n",
    "    ID3 = 0;\n",
    "    ID4 = 0;\n",
    "\n",
    "    for Se in range (len(SessionDay[Day].hhmmss)):\n",
    "\n",
    "        print('Session:'+ SessionDay[Day].hhmmss[Se])\n",
    "        # in windows\n",
    "        if ExptDays[Day] in ['20201002','20201009']:\n",
    "            DataPath =os.path.join('/media/reza/WindowsDrive/BRAVO1','CursorPlatform','Data',ExptDays[Day],'GangulyServer',ExptDays[Day],'RadialTask',SessionDay[Day].hhmmss[Se],'BCI_Fixed')\n",
    "        \n",
    "        else:\n",
    "            DataPath =os.path.join('/media/reza/WindowsDrive/BRAVO1','CursorPlatform','Data',ExptDays[Day],'GangulyServer',ExptDays[Day],'DiscreteArrow',SessionDay[Day].hhmmss[Se],'BCI_Fixed')\n",
    "        \n",
    "        datadir = os.listdir(DataPath)\n",
    "\n",
    "        # loading the trials\n",
    "        for k in range(len(datadir)):\n",
    "\n",
    "            print('Trial:',k+1)\n",
    "            Mat_data = h5py.File(DataPath+'/'+datadir[k])\n",
    "            TrialData = MatFileAnalyzer(Mat_data)\n",
    "            ECoG1 = TrialData.ECoG_Raw()\n",
    "            Fs = TrialData.Fs\n",
    "            LenSignal = ECoG1.shape[0]\n",
    "            MaxReachTime = TrialData.MaxReachTime\n",
    "\n",
    "            # to find successful trials\n",
    "            if ExptDays[Day] == '20201002' and ((LenSignal/Fs) < (MaxReachTime)):\n",
    "                #print(True)\n",
    "                NeuralFeatures = TrialData.Features_All()\n",
    "                ECoGData_Trial = TrialData.ECoG_Raw_Trial()\n",
    "\n",
    "                if TrialData.TargetID == 1:\n",
    "                    ID1 = ID1+1                   \n",
    "                    Trials_T1 = np.append(Trials_T1, NeuralFeatures, axis=0)\n",
    "                    Trials_Raw_T1 = np.append(Trials_Raw_T1, ECoGData_Trial, axis=0) \n",
    "\n",
    "                elif TrialData.TargetID == 2:\n",
    "                    ID2 = ID2+1\n",
    "                    Trials_T2 = np.append(Trials_T2,NeuralFeatures, axis=0)\n",
    "                    Trials_Raw_T2 = np.append(Trials_Raw_T2, ECoGData_Trial, axis=0) \n",
    "\n",
    "                elif TrialData.TargetID == 3:\n",
    "                    ID3 = ID3+1\n",
    "                    Trials_T3 = np.append(Trials_T3, NeuralFeatures, axis=0)\n",
    "                    Trials_Raw_T3 = np.append(Trials_Raw_T3, ECoGData_Trial, axis=0) \n",
    "\n",
    "                elif TrialData.TargetID == 4:\n",
    "                    ID4 = ID4+1\n",
    "                    Trials_T4 = np.append(Trials_T4, NeuralFeatures, axis=0)\n",
    "                    Trials_Raw_T4 = np.append(Trials_Raw_T4, ECoGData_Trial, axis=0) \n",
    "\n",
    "            elif ExptDays[Day] != '20201002' and TrialData.SelectedTargetID == TrialData.TargetID:\n",
    "                #print(True)\n",
    "                NeuralFeatures = TrialData.Features_All()\n",
    "                SmoothedNeuralFeatures = TrialData.SmoothedFeatures_All()\n",
    "                ECoGData_Trial = TrialData.ECoG_Raw_Trial()\n",
    "                \n",
    "                if TrialData.TargetID == 1:\n",
    "                    ID1 = ID1+1                   \n",
    "                    Trials_T1 = np.append(Trials_T1, SmoothedNeuralFeatures, axis=0)\n",
    "                    Click_BinNum_T1.append(TrialData.Click_BinNum)\n",
    "                    Trials_Raw_T1 = np.append(Trials_Raw_T1, ECoGData_Trial, axis=0) \n",
    "\n",
    "                elif TrialData.TargetID == 2:\n",
    "                    ID2 = ID2+1\n",
    "                    Trials_T2 = np.append(Trials_T2, SmoothedNeuralFeatures, axis=0)\n",
    "                    Click_BinNum_T2.append(TrialData.Click_BinNum)\n",
    "                    Trials_Raw_T2 = np.append(Trials_Raw_T2, ECoGData_Trial, axis=0) \n",
    "\n",
    "                elif TrialData.TargetID == 3:\n",
    "                    ID3 = ID3+1\n",
    "                    Trials_T3 = np.append(Trials_T3, SmoothedNeuralFeatures, axis=0)\n",
    "                    Click_BinNum_T3.append(TrialData.Click_BinNum)\n",
    "                    Trials_Raw_T3 = np.append(Trials_Raw_T3, ECoGData_Trial, axis=0) \n",
    "\n",
    "                elif TrialData.TargetID == 4:\n",
    "                    ID4 = ID4+1\n",
    "                    Trials_T4 = np.append(Trials_T4, SmoothedNeuralFeatures, axis=0)\n",
    "                    Click_BinNum_T4.append(TrialData.Click_BinNum)\n",
    "                    Trials_Raw_T4 = np.append(Trials_Raw_T4, ECoGData_Trial, axis=0) \n",
    "                    \n",
    "    Day_NumTrial_T1.append(ID1)\n",
    "    Day_NumTrial_T2.append(ID2)\n",
    "    Day_NumTrial_T3.append(ID3)\n",
    "    Day_NumTrial_T4.append(ID4)\n",
    "    \n",
    "\n",
    "print('End of Running Section')  \n"
   ]
  },
  {
   "cell_type": "code",
   "execution_count": 14,
   "id": "young-biology",
   "metadata": {},
   "outputs": [
    {
     "data": {
      "text/plain": [
       "(112, 896)"
      ]
     },
     "execution_count": 14,
     "metadata": {},
     "output_type": "execute_result"
    }
   ],
   "source": [
    "Trials_T4.shape"
   ]
  },
  {
   "cell_type": "code",
   "execution_count": 15,
   "id": "floppy-observer",
   "metadata": {},
   "outputs": [
    {
     "data": {
      "text/plain": [
       "[28]"
      ]
     },
     "execution_count": 15,
     "metadata": {},
     "output_type": "execute_result"
    }
   ],
   "source": [
    "Day_NumTrial_T4"
   ]
  },
  {
   "cell_type": "code",
   "execution_count": 16,
   "id": "widespread-asian",
   "metadata": {},
   "outputs": [
    {
     "data": {
      "text/plain": [
       "(21553, 128)"
      ]
     },
     "execution_count": 16,
     "metadata": {},
     "output_type": "execute_result"
    }
   ],
   "source": [
    " Trials_Raw_T3.shape"
   ]
  },
  {
   "cell_type": "code",
   "execution_count": 17,
   "id": "infrared-blink",
   "metadata": {},
   "outputs": [
    {
     "data": {
      "text/plain": [
       "numpy.ndarray"
      ]
     },
     "execution_count": 17,
     "metadata": {},
     "output_type": "execute_result"
    }
   ],
   "source": [
    "type(Trials_Raw_T4)"
   ]
  },
  {
   "cell_type": "markdown",
   "id": "atlantic-spanish",
   "metadata": {},
   "source": [
    "# extracting the HG-LFO for each data point in each trial as feature for later analysis"
   ]
  },
  {
   "cell_type": "code",
   "execution_count": 18,
   "id": "molecular-butter",
   "metadata": {},
   "outputs": [
    {
     "data": {
      "text/plain": [
       "[<matplotlib.lines.Line2D at 0x7fc6d792d780>]"
      ]
     },
     "execution_count": 18,
     "metadata": {},
     "output_type": "execute_result"
    },
    {
     "data": {
      "image/png": "[encoded data removed]",
      "text/plain": [
       "<Figure size 864x288 with 1 Axes>"
      ]
     },
     "metadata": {
      "needs_background": "light"
     },
     "output_type": "display_data"
    }
   ],
   "source": [
    "# plot an example of broadband ECoG\n",
    "import matplotlib.pyplot as plt\n",
    "%matplotlib inline\n",
    "t = np.arange(1,500+1,1)\n",
    "fig = plt.figure(figsize=(12,4))\n",
    "ax = fig.add_axes([0,0,1,1])\n",
    "ax.plot(t,Trials_Raw_T4[0:500,0],'b')\n"
   ]
  },
  {
   "cell_type": "markdown",
   "id": "cubic-noise",
   "metadata": {},
   "source": [
    "# Filtering the signal"
   ]
  },
  {
   "cell_type": "code",
   "execution_count": 19,
   "id": "economic-anatomy",
   "metadata": {},
   "outputs": [
    {
     "name": "stdout",
     "output_type": "stream",
     "text": [
      "Target: 0\n",
      "Target: 1\n",
      "Target: 2\n",
      "Target: 3\n",
      "End of Running Section\n"
     ]
    }
   ],
   "source": [
    "from scipy.signal import butter, filtfilt, hilbert\n",
    "import matplotlib.pyplot as plt\n",
    "\n",
    "All_Signal = [Trials_Raw_T1, Trials_Raw_T2, Trials_Raw_T3, Trials_Raw_T4];\n",
    "\n",
    "# initilize the values\n",
    "class structtype():\n",
    "    pass\n",
    "\n",
    "HilbertTarget = [ structtype() for i in range(4)]\n",
    "HilbertTarget[0].feature = [ structtype() for i in range(6)]\n",
    "HilbertTarget[1].feature = [ structtype() for i in range(6)]\n",
    "HilbertTarget[2].feature = [ structtype() for i in range(6)]\n",
    "HilbertTarget[3].feature = [ structtype() for i in range(6)]\n",
    "\n",
    "for target in range(4):\n",
    "    print('Target:',target)\n",
    "    Raw_Signals = All_Signal[target]\n",
    "    \n",
    "    # for delta band\n",
    "    nyq = 0.5 * Fs\n",
    "    low = 0.5/nyq\n",
    "    high = 4/nyq\n",
    "    b, a = butter(3, [low, high], btype='band')\n",
    "    Filtered = filtfilt(b,a,Raw_Signals,axis=0)\n",
    "    Hil = np.abs(hilbert(Filtered,axis=0))\n",
    "    HilbertTarget[target].feature[0] = Hil\n",
    "    \n",
    "    # for theta band\n",
    "    nyq = 0.5 * Fs\n",
    "    low = 4/nyq\n",
    "    high = 8/nyq\n",
    "    b, a = butter(3, [low, high], btype='band')\n",
    "    Filtered = filtfilt(b,a,Raw_Signals,axis=0)\n",
    "    Hil = np.abs(hilbert(Filtered,axis=0))\n",
    "    HilbertTarget[target].feature[1] = Hil\n",
    "    \n",
    "    # for alpha band\n",
    "    nyq = 0.5 * Fs\n",
    "    low = 8/nyq\n",
    "    high = 13/nyq\n",
    "    b, a = butter(3, [low, high], btype='band')\n",
    "    Filtered = filtfilt(b,a,Raw_Signals,axis=0)\n",
    "    Hil = np.abs(hilbert(Filtered,axis=0))\n",
    "    HilbertTarget[target].feature[2] = Hil\n",
    "    \n",
    "    # for beta band\n",
    "    nyq = 0.5 * Fs\n",
    "    low = 13/nyq\n",
    "    high = 30/nyq\n",
    "    b, a = butter(3, [low, high], btype='band')\n",
    "    Filtered = filtfilt(b,a,Raw_Signals,axis=0)\n",
    "    Hil = np.abs(hilbert(Filtered,axis=0))\n",
    "    HilbertTarget[target].feature[3] = Hil\n",
    "    \n",
    "    # for gamma1 band\n",
    "    nyq = 0.5 * Fs\n",
    "    low = 30/nyq\n",
    "    high = 50/nyq\n",
    "    b, a = butter(3, [low, high], btype='band')\n",
    "    Filtered = filtfilt(b,a,Raw_Signals,axis=0)\n",
    "    Hil = np.abs(hilbert(Filtered,axis=0))\n",
    "    HilbertTarget[target].feature[4] = Hil\n",
    "    \n",
    "    # for hg-lfo band\n",
    "    nyq = 0.5 * Fs\n",
    "    low = 70/nyq\n",
    "    high = 150/nyq\n",
    "    b, a = butter(3, [low, high], btype='band')\n",
    "    Filtered = filtfilt(b,a,Raw_Signals,axis=0)\n",
    "    Hil1 = np.abs(hilbert(Filtered,axis=0))\n",
    "    nyq = 0.5 * Fs\n",
    "    low = 0.5/nyq\n",
    "    high = 4/nyq\n",
    "    b, a = butter(3, [low, high], btype='band')\n",
    "    Filtered2 = filtfilt(b,a,Hil1,axis=0)\n",
    "    Hil2 = Filtered2 + Hil1.mean(0)\n",
    "    HilbertTarget[target].feature[5] = Hil2\n",
    "    \n",
    "print('End of Running Section')  \n"
   ]
  },
  {
   "cell_type": "code",
   "execution_count": 20,
   "id": "certain-ontario",
   "metadata": {},
   "outputs": [
    {
     "data": {
      "text/plain": [
       "(29093, 128)"
      ]
     },
     "execution_count": 20,
     "metadata": {},
     "output_type": "execute_result"
    },
    {
     "data": {
      "image/png": "[encoded data removed]",
      "text/plain": [
       "<Figure size 864x288 with 1 Axes>"
      ]
     },
     "metadata": {
      "needs_background": "light"
     },
     "output_type": "display_data"
    }
   ],
   "source": [
    "# test the process of filtering signal for hg-lfo\n",
    "#a, b = Raw_Signals.shape\n",
    "#t = np.arange(1,a+1,1)\n",
    "t = np.arange(1,500+1,1)\n",
    "fig = plt.figure(figsize=(12,4))\n",
    "ax = fig.add_axes([0,0,1,1])\n",
    "ax.plot(t,Raw_Signals[0:500,0],'b')\n",
    "ax.plot(t,Filtered[0:500,0],'r')\n",
    "ax.plot(t,Hil1[0:500,0],'k')\n",
    "Forplot = HilbertTarget[3].feature[5]\n",
    "ax.plot(t,Forplot[0:500,0],'g')\n",
    "ax.set_xlim([0,500])\n",
    "#ax.set_ylim([0,2])\n",
    "Raw_Signals.shape"
   ]
  },
  {
   "cell_type": "markdown",
   "id": "sharp-production",
   "metadata": {},
   "source": [
    "# decide the inputs to RNN"
   ]
  },
  {
   "cell_type": "code",
   "execution_count": 21,
   "id": "cultural-welsh",
   "metadata": {},
   "outputs": [],
   "source": [
    "# choosing the broadband ECoG for trials\n",
    "'''\n",
    "Data_T1 = Trials_Raw_T1\n",
    "Data_T2 = Trials_Raw_T2\n",
    "Data_T3 = Trials_Raw_T3\n",
    "Data_T4 = Trials_Raw_T4\n",
    "'''\n",
    "\n",
    "# or choose the feature hg-lfo\n",
    "\n",
    "Data_T1 = HilbertTarget[0].feature[5]\n",
    "Data_T2 = HilbertTarget[1].feature[5]\n",
    "Data_T3 = HilbertTarget[2].feature[5]\n",
    "Data_T4 = HilbertTarget[3].feature[5]\n",
    "\n",
    "\n",
    "# choose other features.....\n",
    "\n",
    "\n",
    "\n",
    "\n"
   ]
  },
  {
   "cell_type": "code",
   "execution_count": null,
   "id": "aggregate-forward",
   "metadata": {},
   "outputs": [],
   "source": []
  },
  {
   "cell_type": "code",
   "execution_count": null,
   "id": "after-cowboy",
   "metadata": {},
   "outputs": [],
   "source": []
  },
  {
   "cell_type": "markdown",
   "id": "piano-spanish",
   "metadata": {},
   "source": [
    "# Bring the data to torch space / peform RNN"
   ]
  },
  {
   "cell_type": "code",
   "execution_count": 22,
   "id": "indie-drill",
   "metadata": {},
   "outputs": [],
   "source": [
    "import torch\n",
    "import torch.nn as nn\n",
    "import pandas as pd \n",
    "import matplotlib.pyplot as plt\n",
    "%matplotlib inline\n",
    "from torch.utils.data import DataLoader"
   ]
  },
  {
   "cell_type": "code",
   "execution_count": 23,
   "id": "twenty-participant",
   "metadata": {},
   "outputs": [],
   "source": [
    "# Hyper parameters\n",
    "learning_rate = 0.001\n",
    "sequence_length = 200\n",
    "hidden_size = 50\n",
    "num_classes = 4\n",
    "batch_size = 64\n",
    "input_size = 128\n",
    "num_layers = 1\n",
    "num_epochs = 3\n"
   ]
  },
  {
   "cell_type": "code",
   "execution_count": 24,
   "id": "united-study",
   "metadata": {},
   "outputs": [],
   "source": [
    "# generate the train_data for RNN\n",
    "# use neural feature as input or the broad band\n",
    "\n",
    "Data_T1_torch = torch.from_numpy(Data_T1)\n",
    "Data_T2_torch = torch.from_numpy(Data_T2)\n",
    "Data_T3_torch = torch.from_numpy(Data_T3)\n",
    "Data_T4_torch = torch.from_numpy(Data_T4)"
   ]
  },
  {
   "cell_type": "code",
   "execution_count": 25,
   "id": "surface-hometown",
   "metadata": {},
   "outputs": [
    {
     "data": {
      "text/plain": [
       "tensor([[0.1232, 0.1327, 0.2036,  ..., 0.1530, 0.1478, 0.1681],\n",
       "        [0.1239, 0.1344, 0.2069,  ..., 0.1552, 0.1493, 0.1695],\n",
       "        [0.1245, 0.1362, 0.2102,  ..., 0.1574, 0.1509, 0.1708],\n",
       "        ...,\n",
       "        [0.1215, 0.1523, 0.1901,  ..., 0.1590, 0.1453, 0.1672],\n",
       "        [0.1216, 0.1523, 0.1901,  ..., 0.1590, 0.1453, 0.1672],\n",
       "        [0.1216, 0.1523, 0.1901,  ..., 0.1590, 0.1453, 0.1672]],\n",
       "       dtype=torch.float64)"
      ]
     },
     "execution_count": 25,
     "metadata": {},
     "output_type": "execute_result"
    }
   ],
   "source": [
    "Data_T1_torch"
   ]
  },
  {
   "cell_type": "code",
   "execution_count": 26,
   "id": "optical-brand",
   "metadata": {},
   "outputs": [
    {
     "name": "stdout",
     "output_type": "stream",
     "text": [
      "Shape of tensor: torch.Size([25206, 128])\n",
      "Datatype of tensor: torch.float64\n",
      "Device tensor is stored on: cpu\n"
     ]
    }
   ],
   "source": [
    "print(f\"Shape of tensor: {Data_T1_torch.shape}\")\n",
    "print(f\"Datatype of tensor: {Data_T1_torch.dtype}\")\n",
    "print(f\"Device tensor is stored on: {Data_T1_torch.device}\")"
   ]
  },
  {
   "cell_type": "code",
   "execution_count": null,
   "id": "grand-chuck",
   "metadata": {},
   "outputs": [],
   "source": []
  },
  {
   "cell_type": "code",
   "execution_count": 27,
   "id": "rural-wallace",
   "metadata": {},
   "outputs": [
    {
     "data": {
      "text/plain": [
       "[<matplotlib.lines.Line2D at 0x7fc67c531358>]"
      ]
     },
     "execution_count": 27,
     "metadata": {},
     "output_type": "execute_result"
    },
    {
     "data": {
      "image/png": "[encoded data removed]",
      "text/plain": [
       "<Figure size 864x288 with 1 Axes>"
      ]
     },
     "metadata": {
      "needs_background": "light"
     },
     "output_type": "display_data"
    }
   ],
   "source": [
    "# ploting the first sample data for T1\n",
    "DataPlot = Data_T1_torch.numpy()\n",
    "plt.figure(figsize=(12,4))\n",
    "plt.plot(np.arange(128), DataPlot[0][:])"
   ]
  },
  {
   "cell_type": "code",
   "execution_count": 28,
   "id": "expanded-count",
   "metadata": {},
   "outputs": [],
   "source": [
    "# generating the labels for data\n",
    "Y_T1_torch = 1 * torch.ones(Data_T1_torch.shape[0],1)\n",
    "Y_T2_torch = 2 * torch.ones(Data_T2_torch.shape[0],1)\n",
    "Y_T3_torch = 3 * torch.ones(Data_T3_torch.shape[0],1)\n",
    "Y_T4_torch = 4 * torch.ones(Data_T4_torch.shape[0],1)\n",
    "\n",
    "#Y_T1_torch = torch.zeros(window_size, 4)\n",
    "#Y_T2_torch = torch.zeros(window_size, 4)\n",
    "#Y_T3_torch = torch.zeros(window_size, 4)\n",
    "#Y_T4_torch = torch.zeros(window_size, 4)\n",
    "\n",
    "\n",
    "#Y_T1_torch[:,0] = 1 \n",
    "#Y_T2_torch[:,1] = 1 \n",
    "#Y_T3_torch[:,2] = 1 \n",
    "#Y_T4_torch[:,3] = 1 "
   ]
  },
  {
   "cell_type": "code",
   "execution_count": 29,
   "id": "constant-interaction",
   "metadata": {},
   "outputs": [
    {
     "data": {
      "text/plain": [
       "tensor([[1.],\n",
       "        [1.],\n",
       "        [1.],\n",
       "        ...,\n",
       "        [1.],\n",
       "        [1.],\n",
       "        [1.]])"
      ]
     },
     "execution_count": 29,
     "metadata": {},
     "output_type": "execute_result"
    }
   ],
   "source": [
    "Y_T1_torch"
   ]
  },
  {
   "cell_type": "code",
   "execution_count": 30,
   "id": "crude-registration",
   "metadata": {},
   "outputs": [
    {
     "data": {
      "text/plain": [
       "tensor([1.])"
      ]
     },
     "execution_count": 30,
     "metadata": {},
     "output_type": "execute_result"
    }
   ],
   "source": [
    "Y_T1_torch[0]"
   ]
  },
  {
   "cell_type": "code",
   "execution_count": null,
   "id": "pediatric-pressing",
   "metadata": {},
   "outputs": [],
   "source": []
  },
  {
   "cell_type": "code",
   "execution_count": 31,
   "id": "incorporated-musician",
   "metadata": {},
   "outputs": [],
   "source": [
    "# preparing a batch \n",
    "\n",
    "def input_data(data, label, sequence_length, train_set):\n",
    "    \n",
    "   # creat this batch\n",
    "    L = data.shape[0]\n",
    "    \n",
    "    for i in range(L-sequence_length):\n",
    "        window = data[i:i+sequence_length][:]\n",
    "        #label = label[i+ws:i+ws+1]\n",
    "        train_set.append((window, label))\n",
    "\n",
    "    return train_set\n",
    "    \n",
    "    "
   ]
  },
  {
   "cell_type": "code",
   "execution_count": 32,
   "id": "diagnostic-nancy",
   "metadata": {},
   "outputs": [],
   "source": [
    "# by considering batch creation\n",
    "# determining the temporal dynamics of ECoG \n",
    "# feed the data for creating the batches\n",
    "# append all the targets\n",
    "train_set = []    \n",
    "Train_batch_1 = input_data(Data_T1_torch,Y_T1_torch[0], sequence_length, train_set)\n",
    "Train_batch_2 = input_data(Data_T2_torch,Y_T2_torch[0], sequence_length, Train_batch_1)\n",
    "Train_batch_3 = input_data(Data_T3_torch,Y_T3_torch[0], sequence_length, Train_batch_2)\n",
    "Train_batch_4 = input_data(Data_T4_torch,Y_T4_torch[0], sequence_length, Train_batch_3)"
   ]
  },
  {
   "cell_type": "code",
   "execution_count": 33,
   "id": "official-essay",
   "metadata": {},
   "outputs": [],
   "source": [
    "train_set = Train_batch_4"
   ]
  },
  {
   "cell_type": "code",
   "execution_count": 34,
   "id": "metallic-thompson",
   "metadata": {},
   "outputs": [
    {
     "data": {
      "text/plain": [
       "100432"
      ]
     },
     "execution_count": 34,
     "metadata": {},
     "output_type": "execute_result"
    }
   ],
   "source": [
    "len(train_set)"
   ]
  },
  {
   "cell_type": "code",
   "execution_count": 35,
   "id": "academic-front",
   "metadata": {},
   "outputs": [
    {
     "data": {
      "text/plain": [
       "(tensor([[0.1232, 0.1327, 0.2036,  ..., 0.1530, 0.1478, 0.1681],\n",
       "         [0.1239, 0.1344, 0.2069,  ..., 0.1552, 0.1493, 0.1695],\n",
       "         [0.1245, 0.1362, 0.2102,  ..., 0.1574, 0.1509, 0.1708],\n",
       "         ...,\n",
       "         [0.1655, 0.2547, 0.3655,  ..., 0.2455, 0.2009, 0.2339],\n",
       "         [0.1653, 0.2541, 0.3647,  ..., 0.2455, 0.2006, 0.2351],\n",
       "         [0.1652, 0.2536, 0.3639,  ..., 0.2454, 0.2004, 0.2364]],\n",
       "        dtype=torch.float64),\n",
       " tensor([1.]))"
      ]
     },
     "execution_count": 35,
     "metadata": {},
     "output_type": "execute_result"
    }
   ],
   "source": [
    "train_set[0]"
   ]
  },
  {
   "cell_type": "code",
   "execution_count": 36,
   "id": "dried-crossing",
   "metadata": {},
   "outputs": [],
   "source": [
    "# consider only training set and shuffle all\n",
    "train_loader = DataLoader(train_set, batch_size, shuffle=True)"
   ]
  },
  {
   "cell_type": "code",
   "execution_count": null,
   "id": "incoming-jurisdiction",
   "metadata": {},
   "outputs": [],
   "source": []
  },
  {
   "cell_type": "code",
   "execution_count": 38,
   "id": "velvet-valve",
   "metadata": {},
   "outputs": [],
   "source": [
    "# define the device for running on GUP or CPU\n",
    "\n",
    "def get_default_device():\n",
    "    \"\"\"Pick GPU if available, else CPU\"\"\"\n",
    "    if torch.cuda.is_available():\n",
    "        return torch.device('cuda')\n",
    "    else:\n",
    "        return torch.device('cpu')\n",
    "    \n",
    "def to_device(data, device):\n",
    "    \"\"\"Move tensor(s) to chosen device\"\"\"\n",
    "    if isinstance(data, (list,tuple)):\n",
    "        return [to_device(x, device) for x in data]\n",
    "    return data.to(device, non_blocking=True)\n",
    "\n",
    "class DeviceDataLoader():\n",
    "    \"\"\"Wrap a dataloader to move data to a device\"\"\"\n",
    "    def __init__(self, dl, device):\n",
    "        self.dl = dl\n",
    "        self.device = device\n",
    "        \n",
    "    def __iter__(self):\n",
    "        \"\"\"Yield a batch of data after moving it to device\"\"\"\n",
    "        for b in self.dl: \n",
    "            yield to_device(b, self.device)\n",
    "            \n",
    "def __len__(self):\n",
    "    \"\"\"Number of batches\"\"\"\n",
    "    return len(self.dl)"
   ]
  },
  {
   "cell_type": "code",
   "execution_count": 39,
   "id": "reliable-experiment",
   "metadata": {},
   "outputs": [],
   "source": [
    "device = get_default_device()"
   ]
  },
  {
   "cell_type": "code",
   "execution_count": 41,
   "id": "interpreted-curtis",
   "metadata": {},
   "outputs": [],
   "source": [
    "# creat the RNN model\n",
    "class RNNModel(nn.Module):\n",
    "    def __init__(self, input_size, hidden_size, num_layers, num_classes):\n",
    "        super(RNNModel, self).__init__()\n",
    "        self.hidden_size = hidden_size\n",
    "        self.num_layers = num_layers\n",
    "        self.rnn = nn.RNN(input_size, hidden_size, num_layers, batch_first=True, nonlinearity='relu')\n",
    "        self.fc = nn.Linear(hidden_size, num_classes)\n",
    "    \n",
    "    def forward(self, x):\n",
    "        h = torch.zeros(self.num_layers, x.size(0), self.hidden_size).to(device) \n",
    "        \n",
    "        \n",
    "        # We need to detach the hidden state to prevent exploding/vanishing gradients\n",
    "        # This is part of truncated backpropagation through time (BPTT)\n",
    "        \n",
    "        out, _ = self.rnn(x, h.detach())  \n",
    "        \n",
    "        out = self.fc(out[:, -1, :])\n",
    "        \n",
    "        return out\n",
    "    "
   ]
  },
  {
   "cell_type": "code",
   "execution_count": 40,
   "id": "ruled-canberra",
   "metadata": {},
   "outputs": [
    {
     "name": "stdout",
     "output_type": "stream",
     "text": [
      "Help on class RNN in module torch.nn.modules.rnn:\n",
      "\n",
      "class RNN(RNNBase)\n",
      " |  RNN(*args, **kwargs)\n",
      " |  \n",
      " |  Applies a multi-layer Elman RNN with :math:`tanh` or :math:`ReLU` non-linearity to an\n",
      " |  input sequence.\n",
      " |  \n",
      " |  \n",
      " |  For each element in the input sequence, each layer computes the following\n",
      " |  function:\n",
      " |  \n",
      " |  .. math::\n",
      " |      h_t = \\text{tanh}(W_{ih} x_t + b_{ih} + W_{hh} h_{(t-1)} + b_{hh})\n",
      " |  \n",
      " |  where :math:`h_t` is the hidden state at time `t`, :math:`x_t` is\n",
      " |  the input at time `t`, and :math:`h_{(t-1)}` is the hidden state of the\n",
      " |  previous layer at time `t-1` or the initial hidden state at time `0`.\n",
      " |  If :attr:`nonlinearity` is ``'relu'``, then `ReLU` is used instead of `tanh`.\n",
      " |  \n",
      " |  Args:\n",
      " |      input_size: The number of expected features in the input `x`\n",
      " |      hidden_size: The number of features in the hidden state `h`\n",
      " |      num_layers: Number of recurrent layers. E.g., setting ``num_layers=2``\n",
      " |          would mean stacking two RNNs together to form a `stacked RNN`,\n",
      " |          with the second RNN taking in outputs of the first RNN and\n",
      " |          computing the final results. Default: 1\n",
      " |      nonlinearity: The non-linearity to use. Can be either ``'tanh'`` or ``'relu'``. Default: ``'tanh'``\n",
      " |      bias: If ``False``, then the layer does not use bias weights `b_ih` and `b_hh`.\n",
      " |          Default: ``True``\n",
      " |      batch_first: If ``True``, then the input and output tensors are provided\n",
      " |          as `(batch, seq, feature)`. Default: ``False``\n",
      " |      dropout: If non-zero, introduces a `Dropout` layer on the outputs of each\n",
      " |          RNN layer except the last layer, with dropout probability equal to\n",
      " |          :attr:`dropout`. Default: 0\n",
      " |      bidirectional: If ``True``, becomes a bidirectional RNN. Default: ``False``\n",
      " |  \n",
      " |  Inputs: input, h_0\n",
      " |      - **input** of shape `(seq_len, batch, input_size)`: tensor containing the features\n",
      " |        of the input sequence. The input can also be a packed variable length\n",
      " |        sequence. See :func:`torch.nn.utils.rnn.pack_padded_sequence`\n",
      " |        or :func:`torch.nn.utils.rnn.pack_sequence`\n",
      " |        for details.\n",
      " |      - **h_0** of shape `(num_layers * num_directions, batch, hidden_size)`: tensor\n",
      " |        containing the initial hidden state for each element in the batch.\n",
      " |        Defaults to zero if not provided. If the RNN is bidirectional,\n",
      " |        num_directions should be 2, else it should be 1.\n",
      " |  \n",
      " |  Outputs: output, h_n\n",
      " |      - **output** of shape `(seq_len, batch, num_directions * hidden_size)`: tensor\n",
      " |        containing the output features (`h_t`) from the last layer of the RNN,\n",
      " |        for each `t`.  If a :class:`torch.nn.utils.rnn.PackedSequence` has\n",
      " |        been given as the input, the output will also be a packed sequence.\n",
      " |  \n",
      " |        For the unpacked case, the directions can be separated\n",
      " |        using ``output.view(seq_len, batch, num_directions, hidden_size)``,\n",
      " |        with forward and backward being direction `0` and `1` respectively.\n",
      " |        Similarly, the directions can be separated in the packed case.\n",
      " |      - **h_n** of shape `(num_layers * num_directions, batch, hidden_size)`: tensor\n",
      " |        containing the hidden state for `t = seq_len`.\n",
      " |  \n",
      " |        Like *output*, the layers can be separated using\n",
      " |        ``h_n.view(num_layers, num_directions, batch, hidden_size)``.\n",
      " |  \n",
      " |  Shape:\n",
      " |      - Input1: :math:`(L, N, H_{in})` tensor containing input features where\n",
      " |        :math:`H_{in}=\\text{input\\_size}` and `L` represents a sequence length.\n",
      " |      - Input2: :math:`(S, N, H_{out})` tensor\n",
      " |        containing the initial hidden state for each element in the batch.\n",
      " |        :math:`H_{out}=\\text{hidden\\_size}`\n",
      " |        Defaults to zero if not provided. where :math:`S=\\text{num\\_layers} * \\text{num\\_directions}`\n",
      " |        If the RNN is bidirectional, num_directions should be 2, else it should be 1.\n",
      " |      - Output1: :math:`(L, N, H_{all})` where :math:`H_{all}=\\text{num\\_directions} * \\text{hidden\\_size}`\n",
      " |      - Output2: :math:`(S, N, H_{out})` tensor containing the next hidden state\n",
      " |        for each element in the batch\n",
      " |  \n",
      " |  Attributes:\n",
      " |      weight_ih_l[k]: the learnable input-hidden weights of the k-th layer,\n",
      " |          of shape `(hidden_size, input_size)` for `k = 0`. Otherwise, the shape is\n",
      " |          `(hidden_size, num_directions * hidden_size)`\n",
      " |      weight_hh_l[k]: the learnable hidden-hidden weights of the k-th layer,\n",
      " |          of shape `(hidden_size, hidden_size)`\n",
      " |      bias_ih_l[k]: the learnable input-hidden bias of the k-th layer,\n",
      " |          of shape `(hidden_size)`\n",
      " |      bias_hh_l[k]: the learnable hidden-hidden bias of the k-th layer,\n",
      " |          of shape `(hidden_size)`\n",
      " |  \n",
      " |  .. note::\n",
      " |      All the weights and biases are initialized from :math:`\\mathcal{U}(-\\sqrt{k}, \\sqrt{k})`\n",
      " |      where :math:`k = \\frac{1}{\\text{hidden\\_size}}`\n",
      " |  \n",
      " |  .. include:: cudnn_persistent_rnn.rst\n",
      " |  \n",
      " |  Examples::\n",
      " |  \n",
      " |      >>> rnn = nn.RNN(10, 20, 2)\n",
      " |      >>> input = torch.randn(5, 3, 10)\n",
      " |      >>> h0 = torch.randn(2, 3, 20)\n",
      " |      >>> output, hn = rnn(input, h0)\n",
      " |  \n",
      " |  Method resolution order:\n",
      " |      RNN\n",
      " |      RNNBase\n",
      " |      torch.nn.modules.module.Module\n",
      " |      builtins.object\n",
      " |  \n",
      " |  Methods defined here:\n",
      " |  \n",
      " |  __init__(self, *args, **kwargs)\n",
      " |      Initializes internal Module state, shared by both nn.Module and ScriptModule.\n",
      " |  \n",
      " |  ----------------------------------------------------------------------\n",
      " |  Methods inherited from RNNBase:\n",
      " |  \n",
      " |  __setstate__(self, d)\n",
      " |  \n",
      " |  check_forward_args(self, input, hidden, batch_sizes)\n",
      " |  \n",
      " |  check_hidden_size(self, hx, expected_hidden_size, msg='Expected hidden size {}, got {}')\n",
      " |  \n",
      " |  check_input(self, input, batch_sizes)\n",
      " |  \n",
      " |  extra_repr(self)\n",
      " |      Set the extra representation of the module\n",
      " |      \n",
      " |      To print customized extra information, you should reimplement\n",
      " |      this method in your own modules. Both single-line and multi-line\n",
      " |      strings are acceptable.\n",
      " |  \n",
      " |  flatten_parameters(self)\n",
      " |      Resets parameter data pointer so that they can use faster code paths.\n",
      " |      \n",
      " |      Right now, this works only if the module is on the GPU and cuDNN is enabled.\n",
      " |      Otherwise, it's a no-op.\n",
      " |  \n",
      " |  forward(self, input, hx=None)\n",
      " |      Defines the computation performed at every call.\n",
      " |      \n",
      " |      Should be overridden by all subclasses.\n",
      " |      \n",
      " |      .. note::\n",
      " |          Although the recipe for forward pass needs to be defined within\n",
      " |          this function, one should call the :class:`Module` instance afterwards\n",
      " |          instead of this since the former takes care of running the\n",
      " |          registered hooks while the latter silently ignores them.\n",
      " |  \n",
      " |  get_expected_hidden_size(self, input, batch_sizes)\n",
      " |  \n",
      " |  permute_hidden(self, hx, permutation)\n",
      " |  \n",
      " |  reset_parameters(self)\n",
      " |  \n",
      " |  ----------------------------------------------------------------------\n",
      " |  Data descriptors inherited from RNNBase:\n",
      " |  \n",
      " |  all_weights\n",
      " |  \n",
      " |  ----------------------------------------------------------------------\n",
      " |  Data and other attributes inherited from RNNBase:\n",
      " |  \n",
      " |  __constants__ = ['mode', 'input_size', 'hidden_size', 'num_layers', 'b...\n",
      " |  \n",
      " |  ----------------------------------------------------------------------\n",
      " |  Methods inherited from torch.nn.modules.module.Module:\n",
      " |  \n",
      " |  __call__(self, *input, **kwargs)\n",
      " |      Call self as a function.\n",
      " |  \n",
      " |  __delattr__(self, name)\n",
      " |      Implement delattr(self, name).\n",
      " |  \n",
      " |  __dir__(self)\n",
      " |      Default dir() implementation.\n",
      " |  \n",
      " |  __getattr__(self, name)\n",
      " |  \n",
      " |  __repr__(self)\n",
      " |      Return repr(self).\n",
      " |  \n",
      " |  __setattr__(self, name, value)\n",
      " |      Implement setattr(self, name, value).\n",
      " |  \n",
      " |  add_module(self, name, module)\n",
      " |      Adds a child module to the current module.\n",
      " |      \n",
      " |      The module can be accessed as an attribute using the given name.\n",
      " |      \n",
      " |      Args:\n",
      " |          name (string): name of the child module. The child module can be\n",
      " |              accessed from this module using the given name\n",
      " |          module (Module): child module to be added to the module.\n",
      " |  \n",
      " |  apply(self, fn)\n",
      " |      Applies ``fn`` recursively to every submodule (as returned by ``.children()``)\n",
      " |      as well as self. Typical use includes initializing the parameters of a model\n",
      " |      (see also :ref:`torch-nn-init`).\n",
      " |      \n",
      " |      Args:\n",
      " |          fn (:class:`Module` -> None): function to be applied to each submodule\n",
      " |      \n",
      " |      Returns:\n",
      " |          Module: self\n",
      " |      \n",
      " |      Example::\n",
      " |      \n",
      " |          >>> def init_weights(m):\n",
      " |          >>>     print(m)\n",
      " |          >>>     if type(m) == nn.Linear:\n",
      " |          >>>         m.weight.data.fill_(1.0)\n",
      " |          >>>         print(m.weight)\n",
      " |          >>> net = nn.Sequential(nn.Linear(2, 2), nn.Linear(2, 2))\n",
      " |          >>> net.apply(init_weights)\n",
      " |          Linear(in_features=2, out_features=2, bias=True)\n",
      " |          Parameter containing:\n",
      " |          tensor([[ 1.,  1.],\n",
      " |                  [ 1.,  1.]])\n",
      " |          Linear(in_features=2, out_features=2, bias=True)\n",
      " |          Parameter containing:\n",
      " |          tensor([[ 1.,  1.],\n",
      " |                  [ 1.,  1.]])\n",
      " |          Sequential(\n",
      " |            (0): Linear(in_features=2, out_features=2, bias=True)\n",
      " |            (1): Linear(in_features=2, out_features=2, bias=True)\n",
      " |          )\n",
      " |          Sequential(\n",
      " |            (0): Linear(in_features=2, out_features=2, bias=True)\n",
      " |            (1): Linear(in_features=2, out_features=2, bias=True)\n",
      " |          )\n",
      " |  \n",
      " |  buffers(self, recurse=True)\n",
      " |      Returns an iterator over module buffers.\n",
      " |      \n",
      " |      Args:\n",
      " |          recurse (bool): if True, then yields buffers of this module\n",
      " |              and all submodules. Otherwise, yields only buffers that\n",
      " |              are direct members of this module.\n",
      " |      \n",
      " |      Yields:\n",
      " |          torch.Tensor: module buffer\n",
      " |      \n",
      " |      Example::\n",
      " |      \n",
      " |          >>> for buf in model.buffers():\n",
      " |          >>>     print(type(buf.data), buf.size())\n",
      " |          <class 'torch.FloatTensor'> (20L,)\n",
      " |          <class 'torch.FloatTensor'> (20L, 1L, 5L, 5L)\n",
      " |  \n",
      " |  children(self)\n",
      " |      Returns an iterator over immediate children modules.\n",
      " |      \n",
      " |      Yields:\n",
      " |          Module: a child module\n",
      " |  \n",
      " |  cpu(self)\n",
      " |      Moves all model parameters and buffers to the CPU.\n",
      " |      \n",
      " |      Returns:\n",
      " |          Module: self\n",
      " |  \n",
      " |  cuda(self, device=None)\n",
      " |      Moves all model parameters and buffers to the GPU.\n",
      " |      \n",
      " |      This also makes associated parameters and buffers different objects. So\n",
      " |      it should be called before constructing optimizer if the module will\n",
      " |      live on GPU while being optimized.\n",
      " |      \n",
      " |      Arguments:\n",
      " |          device (int, optional): if specified, all parameters will be\n",
      " |              copied to that device\n",
      " |      \n",
      " |      Returns:\n",
      " |          Module: self\n",
      " |  \n",
      " |  double(self)\n",
      " |      Casts all floating point parameters and buffers to ``double`` datatype.\n",
      " |      \n",
      " |      Returns:\n",
      " |          Module: self\n",
      " |  \n",
      " |  eval(self)\n",
      " |      Sets the module in evaluation mode.\n",
      " |      \n",
      " |      This has any effect only on certain modules. See documentations of\n",
      " |      particular modules for details of their behaviors in training/evaluation\n",
      " |      mode, if they are affected, e.g. :class:`Dropout`, :class:`BatchNorm`,\n",
      " |      etc.\n",
      " |      \n",
      " |      This is equivalent with :meth:`self.train(False) <torch.nn.Module.train>`.\n",
      " |      \n",
      " |      Returns:\n",
      " |          Module: self\n",
      " |  \n",
      " |  float(self)\n",
      " |      Casts all floating point parameters and buffers to float datatype.\n",
      " |      \n",
      " |      Returns:\n",
      " |          Module: self\n",
      " |  \n",
      " |  half(self)\n",
      " |      Casts all floating point parameters and buffers to ``half`` datatype.\n",
      " |      \n",
      " |      Returns:\n",
      " |          Module: self\n",
      " |  \n",
      " |  load_state_dict(self, state_dict, strict=True)\n",
      " |      Copies parameters and buffers from :attr:`state_dict` into\n",
      " |      this module and its descendants. If :attr:`strict` is ``True``, then\n",
      " |      the keys of :attr:`state_dict` must exactly match the keys returned\n",
      " |      by this module's :meth:`~torch.nn.Module.state_dict` function.\n",
      " |      \n",
      " |      Arguments:\n",
      " |          state_dict (dict): a dict containing parameters and\n",
      " |              persistent buffers.\n",
      " |          strict (bool, optional): whether to strictly enforce that the keys\n",
      " |              in :attr:`state_dict` match the keys returned by this module's\n",
      " |              :meth:`~torch.nn.Module.state_dict` function. Default: ``True``\n",
      " |      \n",
      " |      Returns:\n",
      " |          ``NamedTuple`` with ``missing_keys`` and ``unexpected_keys`` fields:\n",
      " |              * **missing_keys** is a list of str containing the missing keys\n",
      " |              * **unexpected_keys** is a list of str containing the unexpected keys\n",
      " |  \n",
      " |  modules(self)\n",
      " |      Returns an iterator over all modules in the network.\n",
      " |      \n",
      " |      Yields:\n",
      " |          Module: a module in the network\n",
      " |      \n",
      " |      Note:\n",
      " |          Duplicate modules are returned only once. In the following\n",
      " |          example, ``l`` will be returned only once.\n",
      " |      \n",
      " |      Example::\n",
      " |      \n",
      " |          >>> l = nn.Linear(2, 2)\n",
      " |          >>> net = nn.Sequential(l, l)\n",
      " |          >>> for idx, m in enumerate(net.modules()):\n",
      " |                  print(idx, '->', m)\n",
      " |      \n",
      " |          0 -> Sequential(\n",
      " |            (0): Linear(in_features=2, out_features=2, bias=True)\n",
      " |            (1): Linear(in_features=2, out_features=2, bias=True)\n",
      " |          )\n",
      " |          1 -> Linear(in_features=2, out_features=2, bias=True)\n",
      " |  \n",
      " |  named_buffers(self, prefix='', recurse=True)\n",
      " |      Returns an iterator over module buffers, yielding both the\n",
      " |      name of the buffer as well as the buffer itself.\n",
      " |      \n",
      " |      Args:\n",
      " |          prefix (str): prefix to prepend to all buffer names.\n",
      " |          recurse (bool): if True, then yields buffers of this module\n",
      " |              and all submodules. Otherwise, yields only buffers that\n",
      " |              are direct members of this module.\n",
      " |      \n",
      " |      Yields:\n",
      " |          (string, torch.Tensor): Tuple containing the name and buffer\n",
      " |      \n",
      " |      Example::\n",
      " |      \n",
      " |          >>> for name, buf in self.named_buffers():\n",
      " |          >>>    if name in ['running_var']:\n",
      " |          >>>        print(buf.size())\n",
      " |  \n",
      " |  named_children(self)\n",
      " |      Returns an iterator over immediate children modules, yielding both\n",
      " |      the name of the module as well as the module itself.\n",
      " |      \n",
      " |      Yields:\n",
      " |          (string, Module): Tuple containing a name and child module\n",
      " |      \n",
      " |      Example::\n",
      " |      \n",
      " |          >>> for name, module in model.named_children():\n",
      " |          >>>     if name in ['conv4', 'conv5']:\n",
      " |          >>>         print(module)\n",
      " |  \n",
      " |  named_modules(self, memo=None, prefix='')\n",
      " |      Returns an iterator over all modules in the network, yielding\n",
      " |      both the name of the module as well as the module itself.\n",
      " |      \n",
      " |      Yields:\n",
      " |          (string, Module): Tuple of name and module\n",
      " |      \n",
      " |      Note:\n",
      " |          Duplicate modules are returned only once. In the following\n",
      " |          example, ``l`` will be returned only once.\n",
      " |      \n",
      " |      Example::\n",
      " |      \n",
      " |          >>> l = nn.Linear(2, 2)\n",
      " |          >>> net = nn.Sequential(l, l)\n",
      " |          >>> for idx, m in enumerate(net.named_modules()):\n",
      " |                  print(idx, '->', m)\n",
      " |      \n",
      " |          0 -> ('', Sequential(\n",
      " |            (0): Linear(in_features=2, out_features=2, bias=True)\n",
      " |            (1): Linear(in_features=2, out_features=2, bias=True)\n",
      " |          ))\n",
      " |          1 -> ('0', Linear(in_features=2, out_features=2, bias=True))\n",
      " |  \n",
      " |  named_parameters(self, prefix='', recurse=True)\n",
      " |      Returns an iterator over module parameters, yielding both the\n",
      " |      name of the parameter as well as the parameter itself.\n",
      " |      \n",
      " |      Args:\n",
      " |          prefix (str): prefix to prepend to all parameter names.\n",
      " |          recurse (bool): if True, then yields parameters of this module\n",
      " |              and all submodules. Otherwise, yields only parameters that\n",
      " |              are direct members of this module.\n",
      " |      \n",
      " |      Yields:\n",
      " |          (string, Parameter): Tuple containing the name and parameter\n",
      " |      \n",
      " |      Example::\n",
      " |      \n",
      " |          >>> for name, param in self.named_parameters():\n",
      " |          >>>    if name in ['bias']:\n",
      " |          >>>        print(param.size())\n",
      " |  \n",
      " |  parameters(self, recurse=True)\n",
      " |      Returns an iterator over module parameters.\n",
      " |      \n",
      " |      This is typically passed to an optimizer.\n",
      " |      \n",
      " |      Args:\n",
      " |          recurse (bool): if True, then yields parameters of this module\n",
      " |              and all submodules. Otherwise, yields only parameters that\n",
      " |              are direct members of this module.\n",
      " |      \n",
      " |      Yields:\n",
      " |          Parameter: module parameter\n",
      " |      \n",
      " |      Example::\n",
      " |      \n",
      " |          >>> for param in model.parameters():\n",
      " |          >>>     print(type(param.data), param.size())\n",
      " |          <class 'torch.FloatTensor'> (20L,)\n",
      " |          <class 'torch.FloatTensor'> (20L, 1L, 5L, 5L)\n",
      " |  \n",
      " |  register_backward_hook(self, hook)\n",
      " |      Registers a backward hook on the module.\n",
      " |      \n",
      " |      The hook will be called every time the gradients with respect to module\n",
      " |      inputs are computed. The hook should have the following signature::\n",
      " |      \n",
      " |          hook(module, grad_input, grad_output) -> Tensor or None\n",
      " |      \n",
      " |      The :attr:`grad_input` and :attr:`grad_output` may be tuples if the\n",
      " |      module has multiple inputs or outputs. The hook should not modify its\n",
      " |      arguments, but it can optionally return a new gradient with respect to\n",
      " |      input that will be used in place of :attr:`grad_input` in subsequent\n",
      " |      computations.\n",
      " |      \n",
      " |      Returns:\n",
      " |          :class:`torch.utils.hooks.RemovableHandle`:\n",
      " |              a handle that can be used to remove the added hook by calling\n",
      " |              ``handle.remove()``\n",
      " |      \n",
      " |      .. warning ::\n",
      " |      \n",
      " |          The current implementation will not have the presented behavior\n",
      " |          for complex :class:`Module` that perform many operations.\n",
      " |          In some failure cases, :attr:`grad_input` and :attr:`grad_output` will only\n",
      " |          contain the gradients for a subset of the inputs and outputs.\n",
      " |          For such :class:`Module`, you should use :func:`torch.Tensor.register_hook`\n",
      " |          directly on a specific input or output to get the required gradients.\n",
      " |  \n",
      " |  register_buffer(self, name, tensor)\n",
      " |      Adds a persistent buffer to the module.\n",
      " |      \n",
      " |      This is typically used to register a buffer that should not to be\n",
      " |      considered a model parameter. For example, BatchNorm's ``running_mean``\n",
      " |      is not a parameter, but is part of the persistent state.\n",
      " |      \n",
      " |      Buffers can be accessed as attributes using given names.\n",
      " |      \n",
      " |      Args:\n",
      " |          name (string): name of the buffer. The buffer can be accessed\n",
      " |              from this module using the given name\n",
      " |          tensor (Tensor): buffer to be registered.\n",
      " |      \n",
      " |      Example::\n",
      " |      \n",
      " |          >>> self.register_buffer('running_mean', torch.zeros(num_features))\n",
      " |  \n",
      " |  register_forward_hook(self, hook)\n",
      " |      Registers a forward hook on the module.\n",
      " |      \n",
      " |      The hook will be called every time after :func:`forward` has computed an output.\n",
      " |      It should have the following signature::\n",
      " |      \n",
      " |          hook(module, input, output) -> None or modified output\n",
      " |      \n",
      " |      The hook can modify the output. It can modify the input inplace but\n",
      " |      it will not have effect on forward since this is called after\n",
      " |      :func:`forward` is called.\n",
      " |      \n",
      " |      Returns:\n",
      " |          :class:`torch.utils.hooks.RemovableHandle`:\n",
      " |              a handle that can be used to remove the added hook by calling\n",
      " |              ``handle.remove()``\n",
      " |  \n",
      " |  register_forward_pre_hook(self, hook)\n",
      " |      Registers a forward pre-hook on the module.\n",
      " |      \n",
      " |      The hook will be called every time before :func:`forward` is invoked.\n",
      " |      It should have the following signature::\n",
      " |      \n",
      " |          hook(module, input) -> None or modified input\n",
      " |      \n",
      " |      The hook can modify the input. User can either return a tuple or a\n",
      " |      single modified value in the hook. We will wrap the value into a tuple\n",
      " |      if a single value is returned(unless that value is already a tuple).\n",
      " |      \n",
      " |      Returns:\n",
      " |          :class:`torch.utils.hooks.RemovableHandle`:\n",
      " |              a handle that can be used to remove the added hook by calling\n",
      " |              ``handle.remove()``\n",
      " |  \n",
      " |  register_parameter(self, name, param)\n",
      " |      Adds a parameter to the module.\n",
      " |      \n",
      " |      The parameter can be accessed as an attribute using given name.\n",
      " |      \n",
      " |      Args:\n",
      " |          name (string): name of the parameter. The parameter can be accessed\n",
      " |              from this module using the given name\n",
      " |          param (Parameter): parameter to be added to the module.\n",
      " |  \n",
      " |  requires_grad_(self, requires_grad=True)\n",
      " |      Change if autograd should record operations on parameters in this\n",
      " |      module.\n",
      " |      \n",
      " |      This method sets the parameters' :attr:`requires_grad` attributes\n",
      " |      in-place.\n",
      " |      \n",
      " |      This method is helpful for freezing part of the module for finetuning\n",
      " |      or training parts of a model individually (e.g., GAN training).\n",
      " |      \n",
      " |      Args:\n",
      " |          requires_grad (bool): whether autograd should record operations on\n",
      " |                                parameters in this module. Default: ``True``.\n",
      " |      \n",
      " |      Returns:\n",
      " |          Module: self\n",
      " |  \n",
      " |  share_memory(self)\n",
      " |  \n",
      " |  state_dict(self, destination=None, prefix='', keep_vars=False)\n",
      " |      Returns a dictionary containing a whole state of the module.\n",
      " |      \n",
      " |      Both parameters and persistent buffers (e.g. running averages) are\n",
      " |      included. Keys are corresponding parameter and buffer names.\n",
      " |      \n",
      " |      Returns:\n",
      " |          dict:\n",
      " |              a dictionary containing a whole state of the module\n",
      " |      \n",
      " |      Example::\n",
      " |      \n",
      " |          >>> module.state_dict().keys()\n",
      " |          ['bias', 'weight']\n",
      " |  \n",
      " |  to(self, *args, **kwargs)\n",
      " |      Moves and/or casts the parameters and buffers.\n",
      " |      \n",
      " |      This can be called as\n",
      " |      \n",
      " |      .. function:: to(device=None, dtype=None, non_blocking=False)\n",
      " |      \n",
      " |      .. function:: to(dtype, non_blocking=False)\n",
      " |      \n",
      " |      .. function:: to(tensor, non_blocking=False)\n",
      " |      \n",
      " |      Its signature is similar to :meth:`torch.Tensor.to`, but only accepts\n",
      " |      floating point desired :attr:`dtype` s. In addition, this method will\n",
      " |      only cast the floating point parameters and buffers to :attr:`dtype`\n",
      " |      (if given). The integral parameters and buffers will be moved\n",
      " |      :attr:`device`, if that is given, but with dtypes unchanged. When\n",
      " |      :attr:`non_blocking` is set, it tries to convert/move asynchronously\n",
      " |      with respect to the host if possible, e.g., moving CPU Tensors with\n",
      " |      pinned memory to CUDA devices.\n",
      " |      \n",
      " |      See below for examples.\n",
      " |      \n",
      " |      .. note::\n",
      " |          This method modifies the module in-place.\n",
      " |      \n",
      " |      Args:\n",
      " |          device (:class:`torch.device`): the desired device of the parameters\n",
      " |              and buffers in this module\n",
      " |          dtype (:class:`torch.dtype`): the desired floating point type of\n",
      " |              the floating point parameters and buffers in this module\n",
      " |          tensor (torch.Tensor): Tensor whose dtype and device are the desired\n",
      " |              dtype and device for all parameters and buffers in this module\n",
      " |      \n",
      " |      Returns:\n",
      " |          Module: self\n",
      " |      \n",
      " |      Example::\n",
      " |      \n",
      " |          >>> linear = nn.Linear(2, 2)\n",
      " |          >>> linear.weight\n",
      " |          Parameter containing:\n",
      " |          tensor([[ 0.1913, -0.3420],\n",
      " |                  [-0.5113, -0.2325]])\n",
      " |          >>> linear.to(torch.double)\n",
      " |          Linear(in_features=2, out_features=2, bias=True)\n",
      " |          >>> linear.weight\n",
      " |          Parameter containing:\n",
      " |          tensor([[ 0.1913, -0.3420],\n",
      " |                  [-0.5113, -0.2325]], dtype=torch.float64)\n",
      " |          >>> gpu1 = torch.device(\"cuda:1\")\n",
      " |          >>> linear.to(gpu1, dtype=torch.half, non_blocking=True)\n",
      " |          Linear(in_features=2, out_features=2, bias=True)\n",
      " |          >>> linear.weight\n",
      " |          Parameter containing:\n",
      " |          tensor([[ 0.1914, -0.3420],\n",
      " |                  [-0.5112, -0.2324]], dtype=torch.float16, device='cuda:1')\n",
      " |          >>> cpu = torch.device(\"cpu\")\n",
      " |          >>> linear.to(cpu)\n",
      " |          Linear(in_features=2, out_features=2, bias=True)\n",
      " |          >>> linear.weight\n",
      " |          Parameter containing:\n",
      " |          tensor([[ 0.1914, -0.3420],\n",
      " |                  [-0.5112, -0.2324]], dtype=torch.float16)\n",
      " |  \n",
      " |  train(self, mode=True)\n",
      " |      Sets the module in training mode.\n",
      " |      \n",
      " |      This has any effect only on certain modules. See documentations of\n",
      " |      particular modules for details of their behaviors in training/evaluation\n",
      " |      mode, if they are affected, e.g. :class:`Dropout`, :class:`BatchNorm`,\n",
      " |      etc.\n",
      " |      \n",
      " |      Args:\n",
      " |          mode (bool): whether to set training mode (``True``) or evaluation\n",
      " |                       mode (``False``). Default: ``True``.\n",
      " |      \n",
      " |      Returns:\n",
      " |          Module: self\n",
      " |  \n",
      " |  type(self, dst_type)\n",
      " |      Casts all parameters and buffers to :attr:`dst_type`.\n",
      " |      \n",
      " |      Arguments:\n",
      " |          dst_type (type or string): the desired type\n",
      " |      \n",
      " |      Returns:\n",
      " |          Module: self\n",
      " |  \n",
      " |  zero_grad(self)\n",
      " |      Sets gradients of all model parameters to zero.\n",
      " |  \n",
      " |  ----------------------------------------------------------------------\n",
      " |  Data descriptors inherited from torch.nn.modules.module.Module:\n",
      " |  \n",
      " |  __dict__\n",
      " |      dictionary for instance variables (if defined)\n",
      " |  \n",
      " |  __weakref__\n",
      " |      list of weak references to the object (if defined)\n",
      " |  \n",
      " |  ----------------------------------------------------------------------\n",
      " |  Data and other attributes inherited from torch.nn.modules.module.Module:\n",
      " |  \n",
      " |  dump_patches = False\n",
      "\n"
     ]
    }
   ],
   "source": [
    "help(nn.RNN)"
   ]
  },
  {
   "cell_type": "code",
   "execution_count": 42,
   "id": "structured-engine",
   "metadata": {},
   "outputs": [
    {
     "data": {
      "text/plain": [
       "RNNModel(\n",
       "  (rnn): RNN(128, 50, batch_first=True)\n",
       "  (fc): Linear(in_features=50, out_features=4, bias=True)\n",
       ")"
      ]
     },
     "execution_count": 42,
     "metadata": {},
     "output_type": "execute_result"
    }
   ],
   "source": [
    "model = RNNModel(input_size, hidden_size, num_layers, num_classes)\n",
    "to_device(model, device)"
   ]
  },
  {
   "cell_type": "code",
   "execution_count": 43,
   "id": "breathing-processing",
   "metadata": {},
   "outputs": [],
   "source": [
    "criterion = nn.CrossEntropyLoss()\n",
    "optimizer = torch.optim.Adam(model.parameters(), lr=learning_rate)"
   ]
  },
  {
   "cell_type": "code",
   "execution_count": 44,
   "id": "personal-coral",
   "metadata": {},
   "outputs": [
    {
     "name": "stdout",
     "output_type": "stream",
     "text": [
      "Epoch [1/3], Step [100/1570], Loss: 1.2843\n",
      "Epoch [1/3], Step [200/1570], Loss: 1.2827\n",
      "Epoch [1/3], Step [300/1570], Loss: 1.4647\n",
      "Epoch [1/3], Step [400/1570], Loss: 1.1923\n",
      "Epoch [1/3], Step [500/1570], Loss: 1.2478\n",
      "Epoch [1/3], Step [600/1570], Loss: 1.0498\n",
      "Epoch [1/3], Step [700/1570], Loss: 0.9056\n",
      "Epoch [1/3], Step [800/1570], Loss: 0.9450\n",
      "Epoch [1/3], Step [900/1570], Loss: 1.1199\n",
      "Epoch [1/3], Step [1000/1570], Loss: 1.0551\n",
      "Epoch [1/3], Step [1100/1570], Loss: 0.9621\n",
      "Epoch [1/3], Step [1200/1570], Loss: 1.3508\n",
      "Epoch [1/3], Step [1300/1570], Loss: 0.9860\n",
      "Epoch [1/3], Step [1400/1570], Loss: 1.1052\n",
      "Epoch [1/3], Step [1500/1570], Loss: 1.3164\n",
      "Epoch [2/3], Step [100/1570], Loss: 1.3033\n",
      "Epoch [2/3], Step [200/1570], Loss: 1.3081\n",
      "Epoch [2/3], Step [300/1570], Loss: 1.3008\n",
      "Epoch [2/3], Step [400/1570], Loss: 1.3279\n",
      "Epoch [2/3], Step [500/1570], Loss: 1.2696\n",
      "Epoch [2/3], Step [600/1570], Loss: 1.2782\n",
      "Epoch [2/3], Step [700/1570], Loss: 1.2963\n",
      "Epoch [2/3], Step [800/1570], Loss: 0.9532\n",
      "Epoch [2/3], Step [900/1570], Loss: 0.9444\n",
      "Epoch [2/3], Step [1000/1570], Loss: 0.9028\n",
      "Epoch [2/3], Step [1100/1570], Loss: 1.7715\n",
      "Epoch [2/3], Step [1200/1570], Loss: 0.9770\n",
      "Epoch [2/3], Step [1300/1570], Loss: 0.9994\n",
      "Epoch [2/3], Step [1400/1570], Loss: 0.9248\n",
      "Epoch [2/3], Step [1500/1570], Loss: 1.1597\n",
      "Epoch [3/3], Step [100/1570], Loss: 0.7709\n",
      "Epoch [3/3], Step [200/1570], Loss: 0.9824\n",
      "Epoch [3/3], Step [300/1570], Loss: 0.8563\n",
      "Epoch [3/3], Step [400/1570], Loss: 0.7601\n",
      "Epoch [3/3], Step [500/1570], Loss: 0.8487\n",
      "Epoch [3/3], Step [600/1570], Loss: 0.9083\n",
      "Epoch [3/3], Step [700/1570], Loss: 0.8165\n",
      "Epoch [3/3], Step [800/1570], Loss: 3.9999\n",
      "Epoch [3/3], Step [900/1570], Loss: 1.2526\n",
      "Epoch [3/3], Step [1000/1570], Loss: 1.2573\n",
      "Epoch [3/3], Step [1100/1570], Loss: 1.2332\n",
      "Epoch [3/3], Step [1200/1570], Loss: 1.2665\n",
      "Epoch [3/3], Step [1300/1570], Loss: 1.1802\n",
      "Epoch [3/3], Step [1400/1570], Loss: 1.2857\n",
      "Epoch [3/3], Step [1500/1570], Loss: 1.1561\n"
     ]
    }
   ],
   "source": [
    "# Train the model\n",
    "\n",
    "All_y_pred = []\n",
    "All_y_train = []\n",
    "\n",
    "#model = model.to(torch.long)\n",
    "model = model.to(torch.float)\n",
    "\n",
    "total_step = len(train_loader)\n",
    "for epoch in range(num_epochs):\n",
    "    for i, (images, labels) in enumerate(train_loader):\n",
    "        #print(labels.shape)\n",
    "        labels = labels.T[0,:]\n",
    "        labels = labels-1\n",
    "        images = images.reshape(-1, sequence_length, input_size).to(device)\n",
    "        labels = labels.to(torch.long)\n",
    "        labels = labels.to(device)\n",
    "        \n",
    "        #labels = labels.to(torch.float)\n",
    "        \n",
    "        # test with random inputs\n",
    "        #target = torch.empty(batch_size, dtype=torch.long).random_(num_classes)\n",
    "        #labels_1 = target\n",
    "        \n",
    "        #images = images.to(torch.long)\n",
    "        images = images.to(torch.float)\n",
    "        \n",
    "        # for saving\n",
    "        All_y_train.append(labels.numpy())\n",
    "        \n",
    "        # Forward pass\n",
    "        outputs = model(images)\n",
    "        #outputs = outputs.to(torch.long)\n",
    "        outputs = outputs.to(torch.float)\n",
    "        loss = criterion(outputs, labels)\n",
    "        \n",
    "        # for saving \n",
    "        _, predicted = torch.max(outputs.data, 1)\n",
    "        All_y_pred.append(predicted.numpy())\n",
    "        \n",
    "        \n",
    "        # Backward pass and optimize\n",
    "        optimizer.zero_grad()\n",
    "        loss.backward()\n",
    "        optimizer.step()\n",
    "        \n",
    "        if (i+1) % 100 == 0:\n",
    "            print ('Epoch [{}/{}], Step [{}/{}], Loss: {:.4f}' \n",
    "                   .format(epoch+1, num_epochs, i+1, total_step, loss.item()))"
   ]
  },
  {
   "cell_type": "code",
   "execution_count": 45,
   "id": "indonesian-credit",
   "metadata": {},
   "outputs": [
    {
     "data": {
      "text/plain": [
       "torch.Size([16, 200, 128])"
      ]
     },
     "execution_count": 45,
     "metadata": {},
     "output_type": "execute_result"
    }
   ],
   "source": [
    "images.shape\n",
    "\n",
    "\n"
   ]
  },
  {
   "cell_type": "code",
   "execution_count": null,
   "id": "voluntary-cigarette",
   "metadata": {},
   "outputs": [],
   "source": []
  },
  {
   "cell_type": "code",
   "execution_count": 245,
   "id": "valued-baseline",
   "metadata": {},
   "outputs": [
    {
     "data": {
      "text/plain": [
       "tensor([3, 3, 3, 0, 0, 0, 2, 2, 0, 2, 3, 3, 0, 2, 1, 2, 3, 1, 1, 3, 3, 3, 2, 0,\n",
       "        1, 2, 0, 1, 1, 0, 0, 0, 3, 2, 2, 2, 2, 2, 0, 0, 3, 0, 3, 1, 0, 1, 3, 3,\n",
       "        2, 1, 3, 3, 1, 0, 0, 0, 3, 3, 1, 2, 1, 3, 0, 3])"
      ]
     },
     "execution_count": 245,
     "metadata": {},
     "output_type": "execute_result"
    }
   ],
   "source": [
    "labels-1"
   ]
  },
  {
   "cell_type": "code",
   "execution_count": 244,
   "id": "latest-trademark",
   "metadata": {},
   "outputs": [
    {
     "data": {
      "text/plain": [
       "tensor([1, 2, 2, 2, 3, 0, 0, 1, 1, 1, 0, 0, 1, 2, 1, 3, 1, 3, 3, 2, 0, 3, 2, 1,\n",
       "        3, 0, 0, 3, 0, 2, 3, 0, 2, 0, 0, 3, 2, 0, 2, 1, 3, 0, 2, 2, 1, 3, 2, 2,\n",
       "        2, 2, 3, 0, 3, 1, 0, 2, 3, 1, 0, 2, 3, 0, 3, 3])"
      ]
     },
     "execution_count": 244,
     "metadata": {},
     "output_type": "execute_result"
    }
   ],
   "source": [
    "labels_1"
   ]
  },
  {
   "cell_type": "code",
   "execution_count": 48,
   "id": "declared-plant",
   "metadata": {},
   "outputs": [
    {
     "name": "stdout",
     "output_type": "stream",
     "text": [
      "6400\n",
      "2500\n",
      "50\n",
      "50\n",
      "200\n",
      "4\n"
     ]
    }
   ],
   "source": [
    "# check the number of parameters in layers\n",
    "for p in model.parameters():\n",
    "    print(p.numel())"
   ]
  },
  {
   "cell_type": "code",
   "execution_count": 49,
   "id": "guilty-sacrifice",
   "metadata": {},
   "outputs": [
    {
     "data": {
      "text/plain": [
       "array([3, 2, 3, 3, 3, 3, 3, 3, 3, 3, 3, 3, 3, 2, 3, 2, 3, 2, 3, 3, 3, 3,\n",
       "       3, 3, 2, 2, 3, 3, 2, 2, 3, 3, 3, 3, 2, 3, 3, 3, 3, 3, 2, 2, 2, 3,\n",
       "       2, 3, 3, 2, 3, 3, 3, 3, 3, 3, 2, 3, 3, 3, 2, 3, 3, 3, 3, 2])"
      ]
     },
     "execution_count": 49,
     "metadata": {},
     "output_type": "execute_result"
    }
   ],
   "source": [
    "All_y_pred[0]\n",
    "#All_y_train = []"
   ]
  },
  {
   "cell_type": "code",
   "execution_count": 50,
   "id": "authentic-furniture",
   "metadata": {},
   "outputs": [
    {
     "data": {
      "text/plain": [
       "array([0, 2, 3, 2, 2, 0, 2, 1, 3, 3, 2, 3, 1, 0, 3, 2, 0, 0, 2, 3, 0, 2,\n",
       "       0, 0, 2, 0, 0, 1, 3, 0, 3, 1, 1, 1, 0, 2, 2, 1, 3, 1, 3, 3, 0, 3,\n",
       "       1, 2, 2, 3, 2, 2, 3, 3, 1, 3, 0, 0, 3, 0, 1, 1, 3, 3, 3, 1])"
      ]
     },
     "execution_count": 50,
     "metadata": {},
     "output_type": "execute_result"
    }
   ],
   "source": [
    "All_y_train[0].T"
   ]
  },
  {
   "cell_type": "code",
   "execution_count": 51,
   "id": "proud-orchestra",
   "metadata": {},
   "outputs": [
    {
     "data": {
      "text/plain": [
       "29.6875"
      ]
     },
     "execution_count": 51,
     "metadata": {},
     "output_type": "execute_result"
    }
   ],
   "source": [
    "((All_y_pred[0] == All_y_train[0].T).sum().item())/batch_size*100"
   ]
  },
  {
   "cell_type": "code",
   "execution_count": 52,
   "id": "interstate-brook",
   "metadata": {},
   "outputs": [],
   "source": [
    "Accuracies = []\n",
    "for i in range(len(All_y_pred)):\n",
    "    acc = ((All_y_pred[i] == All_y_train[i].T).sum().item())/batch_size*100\n",
    "    Accuracies.append(acc)\n",
    "    \n",
    "    "
   ]
  },
  {
   "cell_type": "code",
   "execution_count": 53,
   "id": "chubby-structure",
   "metadata": {},
   "outputs": [
    {
     "data": {
      "text/plain": [
       "Text(0.5, 0, 'Batch Number')"
      ]
     },
     "execution_count": 53,
     "metadata": {},
     "output_type": "execute_result"
    },
    {
     "data": {
      "image/png": "[encoded data removed]",
      "text/plain": [
       "<Figure size 1080x288 with 1 Axes>"
      ]
     },
     "metadata": {
      "needs_background": "light"
     },
     "output_type": "display_data"
    }
   ],
   "source": [
    "import matplotlib.pyplot as plt\n",
    "%matplotlib inline\n",
    "t_bin = np.arange(0,len(All_y_pred),1)\n",
    "fig = plt.figure(figsize=(15,4))\n",
    "ax = fig.add_axes([.10,.10,0.9,.9])\n",
    "ax.plot(t_bin,Accuracies,'r')\n",
    "ax.set_ylabel('Accuracy')\n",
    "ax.set_xlabel('Batch Number')\n",
    "#plt.savefig('RNN_Classification1_4target.png',facecolor='w', transparent=False, dpi=300)\n"
   ]
  },
  {
   "cell_type": "code",
   "execution_count": null,
   "id": "requested-welsh",
   "metadata": {},
   "outputs": [],
   "source": []
  },
  {
   "cell_type": "code",
   "execution_count": null,
   "id": "infinite-compensation",
   "metadata": {},
   "outputs": [],
   "source": []
  },
  {
   "cell_type": "code",
   "execution_count": null,
   "id": "unlike-projector",
   "metadata": {},
   "outputs": [],
   "source": [
    "\n"
   ]
  },
  {
   "cell_type": "code",
   "execution_count": null,
   "id": "attractive-picture",
   "metadata": {},
   "outputs": [],
   "source": []
  },
  {
   "cell_type": "code",
   "execution_count": null,
   "id": "stuck-thailand",
   "metadata": {},
   "outputs": [],
   "source": [
    "\n"
   ]
  },
  {
   "cell_type": "code",
   "execution_count": null,
   "id": "outer-experience",
   "metadata": {},
   "outputs": [],
   "source": []
  },
  {
   "cell_type": "code",
   "execution_count": null,
   "id": "touched-conclusion",
   "metadata": {},
   "outputs": [],
   "source": []
  },
  {
   "cell_type": "code",
   "execution_count": null,
   "id": "elegant-aspect",
   "metadata": {},
   "outputs": [],
   "source": [
    "\n"
   ]
  },
  {
   "cell_type": "code",
   "execution_count": null,
   "id": "reserved-renaissance",
   "metadata": {},
   "outputs": [],
   "source": []
  },
  {
   "cell_type": "code",
   "execution_count": null,
   "id": "public-lancaster",
   "metadata": {},
   "outputs": [],
   "source": []
  },
  {
   "cell_type": "code",
   "execution_count": null,
   "id": "manual-tomato",
   "metadata": {},
   "outputs": [],
   "source": []
  },
  {
   "cell_type": "code",
   "execution_count": null,
   "id": "diagnostic-silver",
   "metadata": {},
   "outputs": [],
   "source": [
    "\n"
   ]
  },
  {
   "cell_type": "code",
   "execution_count": null,
   "id": "altered-above",
   "metadata": {},
   "outputs": [],
   "source": []
  },
  {
   "cell_type": "code",
   "execution_count": null,
   "id": "french-rating",
   "metadata": {},
   "outputs": [],
   "source": []
  },
  {
   "cell_type": "code",
   "execution_count": null,
   "id": "threaded-cattle",
   "metadata": {},
   "outputs": [],
   "source": []
  }
 ],
 "metadata": {
  "kernelspec": {
   "display_name": "ECoGControl_RNN",
   "language": "python",
   "name": "ecogcontrol_rnn"
  },
  "language_info": {
   "codemirror_mode": {
    "name": "ipython",
    "version": 3
   },
   "file_extension": ".py",
   "mimetype": "text/x-python",
   "name": "python",
   "nbconvert_exporter": "python",
   "pygments_lexer": "ipython3",
   "version": "3.7.3"
  }
 },
 "nbformat": 4,
 "nbformat_minor": 5
}
