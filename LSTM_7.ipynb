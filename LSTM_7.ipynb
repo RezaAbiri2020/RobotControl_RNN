{
 "cells": [
  {
   "cell_type": "markdown",
   "metadata": {},
   "source": [
    "# description: running a LSTM model for classification of 4 targets in B1 "
   ]
  },
  {
   "cell_type": "code",
   "execution_count": 1,
   "metadata": {},
   "outputs": [],
   "source": [
    "# loading the library\n",
    "import numpy as np\n",
    "import os\n",
    "import os.path\n",
    "import scipy.io\n",
    "from scipy.io import loadmat\n",
    "import hdf5storage as hdf5s\n",
    "import h5py\n"
   ]
  },
  {
   "cell_type": "code",
   "execution_count": 17,
   "metadata": {},
   "outputs": [
    {
     "name": "stdout",
     "output_type": "stream",
     "text": [
      "Session:145058\n",
      "Trial: 1\n",
      "Trial: 2\n",
      "Trial: 3\n",
      "Trial: 4\n"
     ]
    },
    {
     "name": "stderr",
     "output_type": "stream",
     "text": [
      "/home/reza/anaconda3/envs/ECoGControl_RNN/lib/python3.7/site-packages/ipykernel_launcher.py:218: H5pyDeprecationWarning: The default file mode will change to 'r' (read-only) in h5py 3.0. To suppress this warning, pass the mode you need to h5py.File(), or set the global default h5.get_config().default_file_mode, or set the environment variable H5PY_DEFAULT_READONLY=1. Available modes are: 'r', 'r+', 'w', 'w-'/'x', 'a'. See the docs for details.\n"
     ]
    },
    {
     "name": "stdout",
     "output_type": "stream",
     "text": [
      "Trial: 5\n",
      "Trial: 6\n",
      "Trial: 7\n",
      "Trial: 8\n",
      "Trial: 9\n",
      "Trial: 10\n",
      "Session:145910\n",
      "Trial: 1\n",
      "Trial: 2\n",
      "Trial: 3\n",
      "Trial: 4\n",
      "Trial: 5\n",
      "Trial: 6\n",
      "Trial: 7\n",
      "Trial: 8\n",
      "Trial: 9\n",
      "Trial: 10\n",
      "Trial: 11\n",
      "Trial: 12\n",
      "Trial: 13\n",
      "Trial: 14\n",
      "Trial: 15\n",
      "Trial: 16\n",
      "Trial: 17\n",
      "Trial: 18\n",
      "Trial: 19\n",
      "Trial: 20\n",
      "Trial: 21\n",
      "Trial: 22\n",
      "Trial: 23\n",
      "Trial: 24\n",
      "Trial: 25\n",
      "Trial: 26\n",
      "Trial: 27\n",
      "Trial: 28\n",
      "Trial: 29\n",
      "Trial: 30\n",
      "Session:150443\n",
      "Trial: 1\n",
      "Trial: 2\n",
      "Trial: 3\n",
      "Trial: 4\n",
      "Trial: 5\n",
      "Trial: 6\n",
      "Trial: 7\n",
      "Trial: 8\n",
      "Trial: 9\n",
      "Trial: 10\n",
      "Trial: 11\n",
      "Trial: 12\n",
      "Trial: 13\n",
      "Trial: 14\n",
      "Trial: 15\n",
      "Trial: 16\n",
      "Trial: 17\n",
      "Trial: 18\n",
      "Trial: 19\n",
      "Trial: 20\n",
      "Trial: 21\n",
      "Trial: 22\n",
      "Trial: 23\n",
      "Trial: 24\n",
      "Trial: 25\n",
      "Trial: 26\n",
      "Trial: 27\n",
      "Trial: 28\n",
      "Trial: 29\n",
      "Trial: 30\n",
      "Session:151528\n",
      "Trial: 1\n",
      "Trial: 2\n",
      "Trial: 3\n",
      "Trial: 4\n",
      "Trial: 5\n",
      "Trial: 6\n",
      "Trial: 7\n",
      "Trial: 8\n",
      "Trial: 9\n",
      "Trial: 10\n",
      "Trial: 11\n",
      "Trial: 12\n",
      "Trial: 13\n",
      "Trial: 14\n",
      "Trial: 15\n",
      "Trial: 16\n",
      "Trial: 17\n",
      "Trial: 18\n",
      "Trial: 19\n",
      "Trial: 20\n",
      "Trial: 21\n",
      "Trial: 22\n",
      "Trial: 23\n",
      "Trial: 24\n",
      "Trial: 25\n",
      "Trial: 26\n",
      "Trial: 27\n",
      "Trial: 28\n",
      "Trial: 29\n",
      "Trial: 30\n",
      "Session:152108\n",
      "Trial: 1\n",
      "Trial: 2\n",
      "Trial: 3\n",
      "Trial: 4\n",
      "Trial: 5\n",
      "Trial: 6\n",
      "Trial: 7\n",
      "Trial: 8\n",
      "Trial: 9\n",
      "Trial: 10\n",
      "Trial: 11\n",
      "Trial: 12\n",
      "Trial: 13\n",
      "Trial: 14\n",
      "Trial: 15\n",
      "Trial: 16\n",
      "Trial: 17\n",
      "Trial: 18\n",
      "Trial: 19\n",
      "Trial: 20\n",
      "Trial: 21\n",
      "Trial: 22\n",
      "Trial: 23\n",
      "Trial: 24\n",
      "Trial: 25\n",
      "Trial: 26\n",
      "Trial: 27\n",
      "Trial: 28\n",
      "Trial: 29\n",
      "Trial: 30\n",
      "Session:134342\n",
      "Trial: 1\n",
      "Trial: 2\n",
      "Trial: 3\n",
      "Trial: 4\n",
      "Trial: 5\n",
      "Trial: 6\n",
      "Trial: 7\n",
      "Trial: 8\n",
      "Session:134836\n",
      "Trial: 1\n",
      "Trial: 2\n",
      "Trial: 3\n",
      "Trial: 4\n",
      "Trial: 5\n",
      "Trial: 6\n",
      "Trial: 7\n",
      "Trial: 8\n",
      "Trial: 9\n",
      "Trial: 10\n",
      "Trial: 11\n",
      "Trial: 12\n",
      "Trial: 13\n",
      "Trial: 14\n",
      "Trial: 15\n",
      "Trial: 16\n",
      "Trial: 17\n",
      "Trial: 18\n",
      "Trial: 19\n",
      "Trial: 20\n",
      "Trial: 21\n",
      "Trial: 22\n",
      "Trial: 23\n",
      "Trial: 24\n",
      "Trial: 25\n",
      "Trial: 26\n",
      "Trial: 27\n",
      "Trial: 28\n",
      "Trial: 29\n",
      "Trial: 30\n",
      "Session:135450\n",
      "Trial: 1\n",
      "Trial: 2\n",
      "Trial: 3\n",
      "Trial: 4\n",
      "Trial: 5\n",
      "Trial: 6\n",
      "Trial: 7\n",
      "Trial: 8\n",
      "Trial: 9\n",
      "Trial: 10\n",
      "Trial: 11\n",
      "Trial: 12\n",
      "Trial: 13\n",
      "Trial: 14\n",
      "Trial: 15\n",
      "Trial: 16\n",
      "Trial: 17\n",
      "Trial: 18\n",
      "Trial: 19\n",
      "Trial: 20\n",
      "Trial: 21\n",
      "Trial: 22\n",
      "Trial: 23\n",
      "Trial: 24\n",
      "Trial: 25\n",
      "Trial: 26\n",
      "Trial: 27\n",
      "Trial: 28\n",
      "Trial: 29\n",
      "Trial: 30\n",
      "Session:135947\n",
      "Trial: 1\n",
      "Trial: 2\n",
      "Trial: 3\n",
      "Trial: 4\n",
      "Trial: 5\n",
      "Trial: 6\n",
      "Trial: 7\n",
      "Trial: 8\n",
      "Trial: 9\n",
      "Trial: 10\n",
      "Trial: 11\n",
      "Trial: 12\n",
      "Trial: 13\n",
      "Trial: 14\n",
      "Trial: 15\n",
      "Trial: 16\n",
      "Trial: 17\n",
      "Trial: 18\n",
      "Trial: 19\n",
      "Trial: 20\n",
      "Trial: 21\n",
      "Trial: 22\n",
      "Trial: 23\n",
      "Trial: 24\n",
      "Trial: 25\n",
      "Trial: 26\n",
      "Trial: 27\n",
      "Trial: 28\n",
      "Trial: 29\n",
      "Trial: 30\n",
      "Session:142924\n",
      "Trial: 1\n",
      "Trial: 2\n",
      "Trial: 3\n",
      "Trial: 4\n",
      "Trial: 5\n",
      "Trial: 6\n",
      "Trial: 7\n",
      "Trial: 8\n",
      "Trial: 9\n",
      "Trial: 10\n",
      "Trial: 11\n",
      "Trial: 12\n",
      "Trial: 13\n",
      "Trial: 14\n",
      "Trial: 15\n",
      "Trial: 16\n",
      "Trial: 17\n",
      "Trial: 18\n",
      "Trial: 19\n",
      "Trial: 20\n",
      "Trial: 21\n",
      "Trial: 22\n",
      "Trial: 23\n",
      "Trial: 24\n",
      "Trial: 25\n",
      "Trial: 26\n",
      "Trial: 27\n",
      "Trial: 28\n",
      "Trial: 29\n",
      "Trial: 30\n",
      "Session:144138\n",
      "Trial: 1\n",
      "Trial: 2\n",
      "Trial: 3\n",
      "Trial: 4\n",
      "Trial: 5\n",
      "Trial: 6\n",
      "Trial: 7\n",
      "Trial: 8\n",
      "Trial: 9\n",
      "Trial: 10\n",
      "Trial: 11\n",
      "Trial: 12\n",
      "Trial: 13\n",
      "Trial: 14\n",
      "Trial: 15\n",
      "Trial: 16\n",
      "Trial: 17\n",
      "Trial: 18\n",
      "Trial: 19\n",
      "Trial: 20\n",
      "Trial: 21\n",
      "Trial: 22\n",
      "Trial: 23\n",
      "Trial: 24\n",
      "Trial: 25\n",
      "Trial: 26\n",
      "Trial: 27\n",
      "Trial: 28\n",
      "Trial: 29\n",
      "Trial: 30\n",
      "Session:144924\n",
      "Trial: 1\n",
      "Trial: 2\n",
      "Trial: 3\n",
      "Trial: 4\n",
      "Trial: 5\n",
      "Trial: 6\n",
      "Trial: 7\n",
      "Trial: 8\n",
      "Trial: 9\n",
      "Trial: 10\n",
      "Trial: 11\n",
      "Trial: 12\n",
      "Trial: 13\n",
      "Trial: 14\n",
      "Trial: 15\n",
      "Trial: 16\n",
      "Trial: 17\n",
      "Trial: 18\n",
      "Trial: 19\n",
      "Trial: 20\n",
      "Trial: 21\n",
      "Trial: 22\n",
      "Trial: 23\n",
      "Trial: 24\n",
      "Trial: 25\n",
      "Trial: 26\n",
      "Trial: 27\n",
      "Trial: 28\n",
      "Trial: 29\n",
      "Trial: 30\n",
      "Session:133902\n",
      "Trial: 1\n",
      "Trial: 2\n",
      "Trial: 3\n",
      "Trial: 4\n",
      "Trial: 5\n",
      "Trial: 6\n",
      "Trial: 7\n",
      "Trial: 8\n",
      "Trial: 9\n",
      "Trial: 10\n",
      "Trial: 11\n",
      "Trial: 12\n",
      "Trial: 13\n",
      "Trial: 14\n",
      "Trial: 15\n",
      "Trial: 16\n",
      "Session:134541\n",
      "Trial: 1\n",
      "Trial: 2\n",
      "Trial: 3\n",
      "Trial: 4\n",
      "Trial: 5\n",
      "Trial: 6\n",
      "Trial: 7\n",
      "Trial: 8\n",
      "Trial: 9\n",
      "Trial: 10\n",
      "Trial: 11\n",
      "Trial: 12\n",
      "Trial: 13\n",
      "Trial: 14\n",
      "Trial: 15\n",
      "Trial: 16\n",
      "Session:134838\n",
      "Trial: 1\n",
      "Trial: 2\n",
      "Trial: 3\n",
      "Trial: 4\n",
      "Trial: 5\n",
      "Trial: 6\n",
      "Trial: 7\n",
      "Trial: 8\n",
      "Trial: 9\n",
      "Trial: 10\n",
      "Trial: 11\n",
      "Trial: 12\n",
      "Trial: 13\n",
      "Trial: 14\n",
      "Trial: 15\n",
      "Trial: 16\n",
      "Trial: 17\n",
      "Trial: 18\n",
      "Trial: 19\n",
      "Trial: 20\n",
      "Trial: 21\n",
      "Trial: 22\n",
      "Trial: 23\n",
      "Trial: 24\n",
      "Trial: 25\n",
      "Trial: 26\n",
      "Trial: 27\n",
      "Trial: 28\n",
      "Trial: 29\n",
      "Trial: 30\n",
      "Trial: 31\n",
      "Trial: 32\n",
      "Trial: 33\n",
      "Trial: 34\n",
      "Trial: 35\n",
      "Trial: 36\n",
      "Trial: 37\n",
      "Trial: 38\n",
      "Trial: 39\n",
      "Trial: 40\n",
      "Trial: 41\n",
      "Trial: 42\n",
      "Trial: 43\n",
      "Trial: 44\n",
      "Trial: 45\n",
      "Trial: 46\n",
      "Trial: 47\n",
      "Trial: 48\n",
      "Session:141625\n",
      "Trial: 1\n",
      "Trial: 2\n",
      "Trial: 3\n",
      "Trial: 4\n",
      "Trial: 5\n",
      "Trial: 6\n",
      "Trial: 7\n",
      "Trial: 8\n",
      "Trial: 9\n",
      "Trial: 10\n",
      "Trial: 11\n",
      "Trial: 12\n",
      "Trial: 13\n",
      "Trial: 14\n",
      "Trial: 15\n",
      "Trial: 16\n",
      "Trial: 17\n",
      "Trial: 18\n",
      "Trial: 19\n",
      "Trial: 20\n",
      "Trial: 21\n",
      "Trial: 22\n",
      "Trial: 23\n",
      "Trial: 24\n",
      "Trial: 25\n",
      "Trial: 26\n",
      "Trial: 27\n",
      "Trial: 28\n",
      "Trial: 29\n",
      "Trial: 30\n",
      "Trial: 31\n",
      "Trial: 32\n",
      "Session:142426\n",
      "Trial: 1\n",
      "Trial: 2\n",
      "Trial: 3\n",
      "Trial: 4\n",
      "Trial: 5\n",
      "Trial: 6\n",
      "Trial: 7\n",
      "Trial: 8\n",
      "Trial: 9\n",
      "Trial: 10\n",
      "Trial: 11\n",
      "Trial: 12\n",
      "Trial: 13\n",
      "Trial: 14\n",
      "Trial: 15\n",
      "Trial: 16\n",
      "Trial: 17\n",
      "Trial: 18\n",
      "Trial: 19\n",
      "Trial: 20\n",
      "Trial: 21\n",
      "Trial: 22\n",
      "Trial: 23\n",
      "Trial: 24\n",
      "Trial: 25\n",
      "Trial: 26\n",
      "Trial: 27\n",
      "Trial: 28\n",
      "Trial: 29\n",
      "Trial: 30\n",
      "Trial: 31\n",
      "Trial: 32\n",
      "Session:134350\n",
      "Trial: 1\n",
      "Trial: 2\n",
      "Trial: 3\n",
      "Trial: 4\n",
      "Trial: 5\n",
      "Trial: 6\n",
      "Trial: 7\n",
      "Trial: 8\n",
      "Trial: 9\n",
      "Trial: 10\n",
      "Trial: 11\n",
      "Trial: 12\n",
      "Trial: 13\n",
      "Trial: 14\n",
      "Trial: 15\n",
      "Trial: 16\n",
      "Trial: 17\n",
      "Trial: 18\n",
      "Trial: 19\n",
      "Trial: 20\n",
      "Trial: 21\n",
      "Trial: 22\n",
      "Trial: 23\n",
      "Trial: 24\n",
      "Trial: 25\n",
      "Trial: 26\n",
      "Trial: 27\n",
      "Trial: 28\n",
      "Trial: 29\n",
      "Trial: 30\n",
      "Trial: 31\n",
      "Trial: 32\n",
      "Session:135330\n",
      "Trial: 1\n",
      "Trial: 2\n",
      "Trial: 3\n",
      "Trial: 4\n",
      "Trial: 5\n",
      "Trial: 6\n",
      "Trial: 7\n",
      "Trial: 8\n",
      "Trial: 9\n",
      "Trial: 10\n",
      "Trial: 11\n",
      "Trial: 12\n",
      "Trial: 13\n",
      "Trial: 14\n",
      "Trial: 15\n",
      "Trial: 16\n",
      "Trial: 17\n",
      "Trial: 18\n",
      "Trial: 19\n",
      "Trial: 20\n",
      "Trial: 21\n",
      "Trial: 22\n",
      "Trial: 23\n",
      "Trial: 24\n",
      "Trial: 25\n",
      "Trial: 26\n",
      "Trial: 27\n",
      "Trial: 28\n",
      "Trial: 29\n",
      "Trial: 30\n",
      "Trial: 31\n",
      "Trial: 32\n",
      "Session:135938\n",
      "Trial: 1\n",
      "Trial: 2\n",
      "Trial: 3\n",
      "Trial: 4\n",
      "Trial: 5\n",
      "Trial: 6\n",
      "Trial: 7\n",
      "Trial: 8\n",
      "Trial: 9\n",
      "Trial: 10\n",
      "Trial: 11\n",
      "Trial: 12\n",
      "Trial: 13\n",
      "Trial: 14\n",
      "Trial: 15\n",
      "Trial: 16\n",
      "Trial: 17\n",
      "Trial: 18\n",
      "Trial: 19\n",
      "Trial: 20\n",
      "Trial: 21\n",
      "Trial: 22\n",
      "Trial: 23\n",
      "Trial: 24\n",
      "Trial: 25\n",
      "Trial: 26\n",
      "Trial: 27\n",
      "Trial: 28\n",
      "Trial: 29\n",
      "Trial: 30\n",
      "Trial: 31\n",
      "Trial: 32\n",
      "Session:140554\n",
      "Trial: 1\n",
      "Trial: 2\n",
      "Trial: 3\n",
      "Trial: 4\n",
      "Trial: 5\n",
      "Trial: 6\n",
      "Trial: 7\n",
      "Trial: 8\n",
      "Trial: 9\n",
      "Trial: 10\n",
      "Trial: 11\n",
      "Trial: 12\n",
      "Trial: 13\n",
      "Trial: 14\n",
      "Trial: 15\n",
      "Trial: 16\n",
      "Trial: 17\n",
      "Trial: 18\n",
      "Trial: 19\n",
      "Trial: 20\n",
      "Trial: 21\n",
      "Trial: 22\n",
      "Trial: 23\n",
      "Trial: 24\n",
      "Trial: 25\n",
      "Trial: 26\n",
      "Trial: 27\n",
      "Trial: 28\n",
      "Trial: 29\n",
      "Trial: 30\n",
      "Trial: 31\n",
      "Trial: 32\n",
      "Session:111747\n",
      "Trial: 1\n",
      "Trial: 2\n",
      "Trial: 3\n",
      "Trial: 4\n",
      "Trial: 5\n",
      "Trial: 6\n",
      "Trial: 7\n",
      "Trial: 8\n",
      "Trial: 9\n",
      "Trial: 10\n",
      "Trial: 11\n",
      "Trial: 12\n",
      "Trial: 13\n",
      "Trial: 14\n",
      "Trial: 15\n",
      "Trial: 16\n",
      "Trial: 17\n",
      "Trial: 18\n",
      "Trial: 19\n",
      "Trial: 20\n",
      "Trial: 21\n",
      "Trial: 22\n",
      "Trial: 23\n",
      "Trial: 24\n",
      "Trial: 25\n",
      "Trial: 26\n",
      "Trial: 27\n",
      "Trial: 28\n",
      "Trial: 29\n",
      "Trial: 30\n",
      "Trial: 31\n",
      "Trial: 32\n",
      "Session:112508\n",
      "Trial: 1\n",
      "Trial: 2\n",
      "Trial: 3\n",
      "Trial: 4\n",
      "Trial: 5\n",
      "Trial: 6\n",
      "Trial: 7\n",
      "Trial: 8\n",
      "Trial: 9\n",
      "Trial: 10\n",
      "Trial: 11\n",
      "Trial: 12\n",
      "Trial: 13\n",
      "Trial: 14\n",
      "Trial: 15\n",
      "Trial: 16\n",
      "Trial: 17\n",
      "Trial: 18\n",
      "Trial: 19\n",
      "Trial: 20\n",
      "Trial: 21\n",
      "Trial: 22\n",
      "Trial: 23\n",
      "Trial: 24\n",
      "Trial: 25\n",
      "Trial: 26\n",
      "Trial: 27\n",
      "Trial: 28\n",
      "Trial: 29\n",
      "Trial: 30\n",
      "Trial: 31\n",
      "Trial: 32\n",
      "Session:113040\n",
      "Trial: 1\n",
      "Trial: 2\n",
      "Trial: 3\n",
      "Trial: 4\n",
      "Trial: 5\n",
      "Trial: 6\n",
      "Trial: 7\n",
      "Trial: 8\n",
      "Trial: 9\n",
      "Trial: 10\n",
      "Trial: 11\n",
      "Trial: 12\n",
      "Trial: 13\n",
      "Trial: 14\n",
      "Trial: 15\n",
      "Trial: 16\n",
      "Trial: 17\n",
      "Trial: 18\n",
      "Trial: 19\n",
      "Trial: 20\n",
      "Trial: 21\n",
      "Trial: 22\n",
      "Trial: 23\n",
      "Trial: 24\n",
      "Trial: 25\n",
      "Trial: 26\n",
      "Trial: 27\n",
      "Trial: 28\n",
      "Trial: 29\n",
      "Trial: 30\n",
      "Trial: 31\n",
      "Trial: 32\n",
      "Session:141009\n",
      "Trial: 1\n",
      "Trial: 2\n",
      "Trial: 3\n",
      "Trial: 4\n",
      "Trial: 5\n",
      "Trial: 6\n",
      "Trial: 7\n",
      "Trial: 8\n",
      "Trial: 9\n",
      "Trial: 10\n",
      "Trial: 11\n",
      "Trial: 12\n",
      "Trial: 13\n",
      "Trial: 14\n",
      "Trial: 15\n",
      "Trial: 16\n",
      "Trial: 17\n",
      "Trial: 18\n",
      "Trial: 19\n",
      "Trial: 20\n",
      "Trial: 21\n",
      "Trial: 22\n",
      "Trial: 23\n",
      "Trial: 24\n",
      "Trial: 25\n",
      "Trial: 26\n",
      "Trial: 27\n",
      "Trial: 28\n",
      "Trial: 29\n",
      "Trial: 30\n",
      "Trial: 31\n",
      "Trial: 32\n",
      "Session:140255\n",
      "Trial: 1\n",
      "Trial: 2\n",
      "Trial: 3\n",
      "Trial: 4\n",
      "Trial: 5\n",
      "Trial: 6\n",
      "Trial: 7\n",
      "Trial: 8\n",
      "Trial: 9\n",
      "Trial: 10\n",
      "Session:140540\n",
      "Trial: 1\n",
      "Trial: 2\n",
      "Trial: 3\n",
      "Trial: 4\n",
      "Trial: 5\n",
      "Trial: 6\n",
      "Trial: 7\n",
      "Trial: 8\n",
      "Trial: 9\n",
      "Trial: 10\n",
      "Trial: 11\n",
      "Trial: 12\n",
      "Trial: 13\n",
      "Trial: 14\n",
      "Trial: 15\n",
      "Trial: 16\n",
      "Trial: 17\n",
      "Trial: 18\n",
      "Trial: 19\n",
      "Trial: 20\n",
      "Trial: 21\n",
      "Trial: 22\n",
      "Trial: 23\n",
      "Trial: 24\n",
      "Trial: 25\n",
      "Trial: 26\n",
      "Trial: 27\n",
      "Trial: 28\n",
      "Trial: 29\n",
      "Trial: 30\n",
      "Trial: 31\n",
      "Trial: 32\n",
      "Session:105228\n",
      "Trial: 1\n",
      "Trial: 2\n",
      "Trial: 3\n",
      "Trial: 4\n",
      "Trial: 5\n",
      "Trial: 6\n",
      "Trial: 7\n",
      "Trial: 8\n",
      "Trial: 9\n",
      "Trial: 10\n",
      "Trial: 11\n",
      "Trial: 12\n",
      "Trial: 13\n",
      "Trial: 14\n",
      "Trial: 15\n",
      "Trial: 16\n",
      "Trial: 17\n",
      "Trial: 18\n",
      "Trial: 19\n",
      "Trial: 20\n",
      "Trial: 21\n",
      "Trial: 22\n",
      "Trial: 23\n",
      "Trial: 24\n",
      "Trial: 25\n",
      "Trial: 26\n",
      "Trial: 27\n",
      "Trial: 28\n",
      "Trial: 29\n",
      "Trial: 30\n",
      "Trial: 31\n",
      "Trial: 32\n",
      "Session:111217\n",
      "Trial: 1\n",
      "Trial: 2\n",
      "Trial: 3\n",
      "Trial: 4\n",
      "Trial: 5\n",
      "Trial: 6\n",
      "Trial: 7\n",
      "Trial: 8\n",
      "Trial: 9\n",
      "Trial: 10\n",
      "Trial: 11\n",
      "Trial: 12\n",
      "Trial: 13\n",
      "Trial: 14\n",
      "Trial: 15\n"
     ]
    },
    {
     "name": "stdout",
     "output_type": "stream",
     "text": [
      "Trial: 16\n",
      "Trial: 17\n",
      "Trial: 18\n",
      "Trial: 19\n",
      "Trial: 20\n",
      "Trial: 21\n",
      "Trial: 22\n",
      "Trial: 23\n",
      "Trial: 24\n",
      "Trial: 25\n",
      "Trial: 26\n",
      "Trial: 27\n",
      "Trial: 28\n",
      "Trial: 29\n",
      "Trial: 30\n",
      "Trial: 31\n",
      "Trial: 32\n",
      "Session:112507\n",
      "Trial: 1\n",
      "Trial: 2\n",
      "Trial: 3\n",
      "Trial: 4\n",
      "Trial: 5\n",
      "Trial: 6\n",
      "Trial: 7\n",
      "Trial: 8\n",
      "Trial: 9\n",
      "Trial: 10\n",
      "Trial: 11\n",
      "Trial: 12\n",
      "Trial: 13\n",
      "Trial: 14\n",
      "Trial: 15\n",
      "Trial: 16\n",
      "Session:112711\n",
      "Trial: 1\n",
      "Trial: 2\n",
      "Trial: 3\n",
      "Trial: 4\n",
      "Trial: 5\n",
      "Trial: 6\n",
      "Trial: 7\n",
      "Trial: 8\n",
      "Trial: 9\n",
      "Trial: 10\n",
      "Trial: 11\n",
      "Trial: 12\n",
      "Trial: 13\n",
      "Trial: 14\n",
      "Trial: 15\n",
      "Trial: 16\n",
      "Session:113526\n",
      "Trial: 1\n",
      "Trial: 2\n",
      "Trial: 3\n",
      "Trial: 4\n",
      "Trial: 5\n",
      "Trial: 6\n",
      "Trial: 7\n",
      "Trial: 8\n",
      "Trial: 9\n",
      "Trial: 10\n",
      "Trial: 11\n",
      "Trial: 12\n",
      "Trial: 13\n",
      "Trial: 14\n",
      "Trial: 15\n",
      "Trial: 16\n",
      "Session:114108\n",
      "Trial: 1\n",
      "Trial: 2\n",
      "Trial: 3\n",
      "Trial: 4\n",
      "Trial: 5\n",
      "Trial: 6\n",
      "Trial: 7\n",
      "Trial: 8\n",
      "Trial: 9\n",
      "Trial: 10\n",
      "Trial: 11\n",
      "Trial: 12\n",
      "Trial: 13\n",
      "Trial: 14\n",
      "Trial: 15\n",
      "Trial: 16\n",
      "Session:143218\n",
      "Trial: 1\n",
      "Trial: 2\n",
      "Trial: 3\n",
      "Trial: 4\n",
      "Trial: 5\n",
      "Trial: 6\n",
      "Trial: 7\n",
      "Trial: 8\n",
      "Trial: 9\n",
      "Trial: 10\n",
      "Trial: 11\n",
      "Trial: 12\n",
      "Trial: 13\n",
      "Trial: 14\n",
      "Trial: 15\n",
      "Trial: 16\n",
      "Trial: 17\n",
      "Trial: 18\n",
      "Trial: 19\n",
      "Trial: 20\n",
      "Trial: 21\n",
      "Trial: 22\n",
      "Trial: 23\n",
      "Trial: 24\n",
      "Trial: 25\n",
      "Trial: 26\n",
      "Trial: 27\n",
      "Trial: 28\n",
      "Trial: 29\n",
      "Trial: 30\n",
      "Trial: 31\n",
      "Trial: 32\n",
      "Session:143824\n",
      "Trial: 1\n",
      "Trial: 2\n",
      "Trial: 3\n",
      "Trial: 4\n",
      "Trial: 5\n",
      "Trial: 6\n",
      "Trial: 7\n",
      "Trial: 8\n",
      "Trial: 9\n",
      "Trial: 10\n",
      "Trial: 11\n",
      "Trial: 12\n",
      "Trial: 13\n",
      "Trial: 14\n",
      "Trial: 15\n",
      "Trial: 16\n",
      "Trial: 17\n",
      "Trial: 18\n",
      "Trial: 19\n",
      "Trial: 20\n",
      "Trial: 21\n",
      "Trial: 22\n",
      "Trial: 23\n",
      "Trial: 24\n",
      "Trial: 25\n",
      "Trial: 26\n",
      "Trial: 27\n",
      "Trial: 28\n",
      "Trial: 29\n",
      "Trial: 30\n",
      "Session:114458\n",
      "Trial: 1\n",
      "Trial: 2\n",
      "Trial: 3\n",
      "Trial: 4\n",
      "Trial: 5\n",
      "Trial: 6\n",
      "Trial: 7\n",
      "Trial: 8\n",
      "Trial: 9\n",
      "Trial: 10\n",
      "Trial: 11\n",
      "Trial: 12\n",
      "Trial: 13\n",
      "Trial: 14\n",
      "Trial: 15\n",
      "Trial: 16\n",
      "Session:114725\n",
      "Trial: 1\n",
      "Trial: 2\n",
      "Trial: 3\n",
      "Trial: 4\n",
      "Trial: 5\n",
      "Trial: 6\n",
      "Trial: 7\n",
      "Trial: 8\n",
      "Trial: 9\n",
      "Trial: 10\n",
      "Trial: 11\n",
      "Trial: 12\n",
      "Trial: 13\n",
      "Trial: 14\n",
      "Trial: 15\n",
      "Trial: 16\n",
      "End of Running Section\n"
     ]
    }
   ],
   "source": [
    "\n",
    "# Experiment info \n",
    "# loading the imagined data\n",
    "\n",
    "# initilize the values\n",
    "class structtype():\n",
    "    pass\n",
    "\n",
    "ExptDays = list(['20201002','20201009','20201016','20201030','20201113','20201117','20201118','20201125','20201211','20201218'])\n",
    "NumDay = len(ExptDays);\n",
    "SessionDay = [ structtype() for i in range(NumDay)]\n",
    "SessionDay[0].hhmmss = list(['145058','145910','150443','151528','152108'])\n",
    "SessionDay[1].hhmmss = list(['134342','134836','135450','135947'])\n",
    "SessionDay[2].hhmmss = list(['142924','144138','144924'])\n",
    "SessionDay[3].hhmmss = list(['133902','134541','134838','141625','142426'])\n",
    "SessionDay[4].hhmmss = list(['134350','135330','135938','140554'])\n",
    "SessionDay[5].hhmmss = list(['111747','112508','113040','141009'])\n",
    "SessionDay[6].hhmmss = list(['140255','140540'])\n",
    "SessionDay[7].hhmmss = list(['105228','111217','112507','112711','113526','114108','143218','143824'])\n",
    "SessionDay[8].hhmmss = list(['114458','114725'])\n",
    "SessionDay[9].hhmmss = list(['104954','105847'])\n",
    "\n",
    "# for reading mat file from matlab\n",
    "# it is easier to use class for further extracting necessary params or data\n",
    "class MatFileAnalyzer():\n",
    "    \n",
    "    # first mandatory method; constructor\n",
    "    def __init__(self,Mat_data):\n",
    "        self.Fs = Mat_data['TrialData']['Params']['Fs'][0][0]\n",
    "        self.UpdateRate = Mat_data['TrialData']['Params']['UpdateRate'][0][0]\n",
    "        self.TargetID = Mat_data['TrialData']['TargetID'][0][0]\n",
    "        self.SelectedTargetID = Mat_data['TrialData']['SelectedTargetID'][0][0]\n",
    "        self.MaxReachTime = Mat_data['TrialData']['Params']['MaxReachTime'][0][0]\n",
    "        self.Click_BinNum = Mat_data['TrialData']['Params']['ClickCounter'][0][0]\n",
    "        \n",
    "    def ECoG_Raw(self):\n",
    "\n",
    "        Signals = Mat_data['TrialData']['BroadbandData']\n",
    "        BinNum = Signals.shape[0]\n",
    "        ECoGData = np.empty((0,128), dtype=float)\n",
    "        for i in range(BinNum):\n",
    "            Bin = Mat_data['TrialData']['BroadbandData'][i][0]\n",
    "            BinName = h5py.h5r.get_name(Bin, Mat_data.id)\n",
    "            BinInfo = Mat_data[BinName] \n",
    "            BinData = BinInfo[:,:]\n",
    "            ECoGData = np.concatenate((ECoGData, BinData.T), axis=0)\n",
    "\n",
    "        return ECoGData\n",
    "    \n",
    "    \n",
    "    def ECoG_Raw_Trial(self):\n",
    "        \n",
    "        Signals = Mat_data['TrialData']['BroadbandData']\n",
    "        BinNum = Signals.shape[0]\n",
    "        ECoGData_Trial = np.empty((0,128), dtype=float)\n",
    "        \n",
    "        if ExptDays[Day] == '20201002':\n",
    "        \n",
    "            for i in range(BinNum-int(self.Click_BinNum),BinNum,1):\n",
    "                Bin = Mat_data['TrialData']['BroadbandData'][i][0]\n",
    "                BinName = h5py.h5r.get_name(Bin, Mat_data.id)\n",
    "                BinInfo = Mat_data[BinName] \n",
    "                BinData = BinInfo[:,:]\n",
    "                ECoGData_Trial = np.concatenate((ECoGData_Trial, BinData.T), axis=0)\n",
    "\n",
    "            return ECoGData_Trial\n",
    "        \n",
    "        else:\n",
    "                        \n",
    "            BinControl = [] \n",
    "            for i in range(BinNum):\n",
    "                if Mat_data['TrialData']['TaskState'][i][0] == 3:\n",
    "                    BinControl.append(i)\n",
    "             \n",
    "            for j in BinControl[-int(TrialData.Click_BinNum):]:\n",
    "                if ExptDays[Day] == '20201009':\n",
    "                    j=j-1\n",
    "                    \n",
    "                Bin = Mat_data['TrialData']['BroadbandData'][j][0]\n",
    "                BinName = h5py.h5r.get_name(Bin, Mat_data.id)\n",
    "                BinInfo = Mat_data[BinName] \n",
    "                BinData = BinInfo[:,:]\n",
    "                ECoGData_Trial = np.concatenate((ECoGData_Trial, BinData.T), axis=0)\n",
    "                \n",
    "            return ECoGData_Trial\n",
    "        \n",
    "    \n",
    "    def Features_All(self):\n",
    "        \n",
    "        Features = Mat_data['TrialData']['NeuralFeatures']\n",
    "        BinNum = Features.shape[0]\n",
    "        NeuralFeatures = np.empty((0,896), dtype=float)\n",
    "        \n",
    "        if ExptDays[Day] == '20201002':\n",
    "            \n",
    "            for i in range(BinNum-int(self.Click_BinNum),BinNum,1):\n",
    "                Bin = Mat_data['TrialData']['NeuralFeatures'][i][0]\n",
    "                BinName = h5py.h5r.get_name(Bin, Mat_data.id)\n",
    "                BinInfo = Mat_data[BinName] \n",
    "                BinData = BinInfo[:,:]\n",
    "                NeuralFeatures = np.concatenate((NeuralFeatures, BinData), axis=0)\n",
    "                \n",
    "            return NeuralFeatures\n",
    "        \n",
    "        else:\n",
    "                        \n",
    "            BinControl = [] \n",
    "            for i in range(BinNum):\n",
    "                if Mat_data['TrialData']['TaskState'][i][0] == 3:\n",
    "                    BinControl.append(i)\n",
    "             \n",
    "            for j in BinControl[-int(TrialData.Click_BinNum):]:\n",
    "                if ExptDays[Day] == '20201009':\n",
    "                    j=j-1\n",
    "                    \n",
    "                Bin = Mat_data['TrialData']['NeuralFeatures'][j][0]\n",
    "                BinName = h5py.h5r.get_name(Bin, Mat_data.id)\n",
    "                BinInfo = Mat_data[BinName] \n",
    "                BinData = BinInfo[:,:]\n",
    "                NeuralFeatures = np.concatenate((NeuralFeatures, BinData), axis=0)\n",
    "                \n",
    "            return NeuralFeatures\n",
    "        \n",
    "    def SmoothedFeatures_All(self):\n",
    "        \n",
    "        Features = Mat_data['TrialData']['SmoothedNeuralFeatures']\n",
    "        BinNum = Features.shape[0]\n",
    "        SmoothedNeuralFeatures = np.empty((0,896), dtype=float)\n",
    "                  \n",
    "        BinControl = [] \n",
    "        for i in range(BinNum):\n",
    "            if Mat_data['TrialData']['TaskState'][i][0] == 3:\n",
    "                BinControl.append(i)\n",
    "\n",
    "        for j in BinControl[-int(TrialData.Click_BinNum):]:\n",
    "            if ExptDays[Day] == '20201009':\n",
    "                j=j-1\n",
    "\n",
    "            Bin = Mat_data['TrialData']['SmoothedNeuralFeatures'][j][0]\n",
    "            BinName = h5py.h5r.get_name(Bin, Mat_data.id)\n",
    "            BinInfo = Mat_data[BinName] \n",
    "            BinData = BinInfo[:,:]\n",
    "            SmoothedNeuralFeatures = np.concatenate((SmoothedNeuralFeatures, BinData), axis=0)\n",
    "\n",
    "        return SmoothedNeuralFeatures\n",
    "    \n",
    "    def SmoothedFeatures_Controls(self):\n",
    "        \n",
    "        Features = Mat_data['TrialData']['SmoothedNeuralFeatures']\n",
    "        BinNum = Features.shape[0]\n",
    "        SmoothedNeuralFeatures = np.empty((0,896), dtype=float)\n",
    "                  \n",
    "        BinControl = [] \n",
    "        for i in range(BinNum):\n",
    "            if Mat_data['TrialData']['TaskState'][i][0] == 3:\n",
    "                BinControl.append(i)\n",
    "\n",
    "        for j in BinControl:\n",
    "            if ExptDays[Day] == '20201009':\n",
    "                j=j-1\n",
    "\n",
    "            Bin = Mat_data['TrialData']['SmoothedNeuralFeatures'][j][0]\n",
    "            BinName = h5py.h5r.get_name(Bin, Mat_data.id)\n",
    "            BinInfo = Mat_data[BinName] \n",
    "            BinData = BinInfo[:,:]\n",
    "            SmoothedNeuralFeatures = np.concatenate((SmoothedNeuralFeatures, BinData), axis=0)\n",
    "\n",
    "        return (self.Click_BinNum, SmoothedNeuralFeatures)\n",
    "\n",
    "\n",
    "Trials_T1 = np.empty((0,896), dtype=float)\n",
    "Trials_T2 = np.empty((0,896), dtype=float)\n",
    "Trials_T3 = np.empty((0,896), dtype=float)\n",
    "Trials_T4 = np.empty((0,896), dtype=float)\n",
    "\n",
    "Trials_Raw_T1 = np.empty((0,128), dtype=float)\n",
    "Trials_Raw_T2 = np.empty((0,128), dtype=float)\n",
    "Trials_Raw_T3 = np.empty((0,128), dtype=float)\n",
    "Trials_Raw_T4 = np.empty((0,128), dtype=float)\n",
    "\n",
    "\n",
    "# numnber of censequative bins for making correct selections\n",
    "Click_BinNum_T1 = []\n",
    "Click_BinNum_T2 = []\n",
    "Click_BinNum_T3 = []\n",
    "Click_BinNum_T4 = []\n",
    "\n",
    "Day_NumTrial_T1 = []\n",
    "Day_NumTrial_T2 = []\n",
    "Day_NumTrial_T3 = []\n",
    "Day_NumTrial_T4 = []\n",
    "\n",
    "\n",
    "# loading the day/block/session data from the location\n",
    "# day 0 does not have SmoothedNeuralFeatures\n",
    "# day 6 the performance was not good\n",
    "for Day in [ 0, 1, 2, 3, 4, 5, 6, 7, 8]:\n",
    "    ID1 = 0;\n",
    "    ID2 = 0;\n",
    "    ID3 = 0;\n",
    "    ID4 = 0;\n",
    "\n",
    "    for Se in range (len(SessionDay[Day].hhmmss)):\n",
    "\n",
    "        print('Session:'+ SessionDay[Day].hhmmss[Se])\n",
    "        # in windows\n",
    "        if ExptDays[Day] in ['20201002','20201009']:\n",
    "            DataPath =os.path.join('/media/reza/WindowsDrive/BRAVO1','CursorPlatform','Data',ExptDays[Day],'GangulyServer',ExptDays[Day],'RadialTask',SessionDay[Day].hhmmss[Se],'BCI_Fixed')\n",
    "        \n",
    "        else:\n",
    "            DataPath =os.path.join('/media/reza/WindowsDrive/BRAVO1','CursorPlatform','Data',ExptDays[Day],'GangulyServer',ExptDays[Day],'DiscreteArrow',SessionDay[Day].hhmmss[Se],'BCI_Fixed')\n",
    "        \n",
    "        datadir = os.listdir(DataPath)\n",
    "\n",
    "        # loading the trials\n",
    "        for k in range(len(datadir)):\n",
    "\n",
    "            print('Trial:',k+1)\n",
    "            Mat_data = h5py.File(DataPath+'/'+datadir[k])\n",
    "            TrialData = MatFileAnalyzer(Mat_data)\n",
    "            ECoG1 = TrialData.ECoG_Raw()\n",
    "            Fs = TrialData.Fs\n",
    "            LenSignal = ECoG1.shape[0]\n",
    "            MaxReachTime = TrialData.MaxReachTime\n",
    "\n",
    "            # to find successful trials\n",
    "            if ExptDays[Day] == '20201002' and ((LenSignal/Fs) < (MaxReachTime)):\n",
    "                #print(True)\n",
    "                NeuralFeatures = TrialData.Features_All()\n",
    "                ECoGData_Trial = TrialData.ECoG_Raw_Trial()\n",
    "\n",
    "                if TrialData.TargetID == 1:\n",
    "                    ID1 = ID1+1                   \n",
    "                    Trials_T1 = np.append(Trials_T1, NeuralFeatures, axis=0)\n",
    "                    Trials_Raw_T1 = np.append(Trials_Raw_T1, ECoGData_Trial, axis=0) \n",
    "\n",
    "                elif TrialData.TargetID == 2:\n",
    "                    ID2 = ID2+1\n",
    "                    Trials_T2 = np.append(Trials_T2,NeuralFeatures, axis=0)\n",
    "                    Trials_Raw_T2 = np.append(Trials_Raw_T2, ECoGData_Trial, axis=0) \n",
    "\n",
    "                elif TrialData.TargetID == 3:\n",
    "                    ID3 = ID3+1\n",
    "                    Trials_T3 = np.append(Trials_T3, NeuralFeatures, axis=0)\n",
    "                    Trials_Raw_T3 = np.append(Trials_Raw_T3, ECoGData_Trial, axis=0) \n",
    "\n",
    "                elif TrialData.TargetID == 4:\n",
    "                    ID4 = ID4+1\n",
    "                    Trials_T4 = np.append(Trials_T4, NeuralFeatures, axis=0)\n",
    "                    Trials_Raw_T4 = np.append(Trials_Raw_T4, ECoGData_Trial, axis=0) \n",
    "\n",
    "            elif ExptDays[Day] != '20201002' and TrialData.SelectedTargetID == TrialData.TargetID:\n",
    "                #print(True)\n",
    "                NeuralFeatures = TrialData.Features_All()\n",
    "                SmoothedNeuralFeatures = TrialData.SmoothedFeatures_All()\n",
    "                ECoGData_Trial = TrialData.ECoG_Raw_Trial()\n",
    "                \n",
    "                if TrialData.TargetID == 1:\n",
    "                    ID1 = ID1+1                   \n",
    "                    Trials_T1 = np.append(Trials_T1, SmoothedNeuralFeatures, axis=0)\n",
    "                    Click_BinNum_T1.append(TrialData.Click_BinNum)\n",
    "                    Trials_Raw_T1 = np.append(Trials_Raw_T1, ECoGData_Trial, axis=0) \n",
    "\n",
    "                elif TrialData.TargetID == 2:\n",
    "                    ID2 = ID2+1\n",
    "                    Trials_T2 = np.append(Trials_T2, SmoothedNeuralFeatures, axis=0)\n",
    "                    Click_BinNum_T2.append(TrialData.Click_BinNum)\n",
    "                    Trials_Raw_T2 = np.append(Trials_Raw_T2, ECoGData_Trial, axis=0) \n",
    "\n",
    "                elif TrialData.TargetID == 3:\n",
    "                    ID3 = ID3+1\n",
    "                    Trials_T3 = np.append(Trials_T3, SmoothedNeuralFeatures, axis=0)\n",
    "                    Click_BinNum_T3.append(TrialData.Click_BinNum)\n",
    "                    Trials_Raw_T3 = np.append(Trials_Raw_T3, ECoGData_Trial, axis=0) \n",
    "\n",
    "                elif TrialData.TargetID == 4:\n",
    "                    ID4 = ID4+1\n",
    "                    Trials_T4 = np.append(Trials_T4, SmoothedNeuralFeatures, axis=0)\n",
    "                    Click_BinNum_T4.append(TrialData.Click_BinNum)\n",
    "                    Trials_Raw_T4 = np.append(Trials_Raw_T4, ECoGData_Trial, axis=0) \n",
    "                    \n",
    "    Day_NumTrial_T1.append(ID1)\n",
    "    Day_NumTrial_T2.append(ID2)\n",
    "    Day_NumTrial_T3.append(ID3)\n",
    "    Day_NumTrial_T4.append(ID4)\n",
    "    \n",
    "\n",
    "print('End of Running Section')  \n",
    "\n",
    "             "
   ]
  },
  {
   "cell_type": "code",
   "execution_count": 43,
   "metadata": {},
   "outputs": [
    {
     "name": "stdout",
     "output_type": "stream",
     "text": [
      "Session:104954\n",
      "Trial: 1\n",
      "Trial: 2\n",
      "Trial: 3\n"
     ]
    },
    {
     "name": "stderr",
     "output_type": "stream",
     "text": [
      "/home/reza/anaconda3/envs/ECoGControl_RNN/lib/python3.7/site-packages/ipykernel_launcher.py:62: H5pyDeprecationWarning: The default file mode will change to 'r' (read-only) in h5py 3.0. To suppress this warning, pass the mode you need to h5py.File(), or set the global default h5.get_config().default_file_mode, or set the environment variable H5PY_DEFAULT_READONLY=1. Available modes are: 'r', 'r+', 'w', 'w-'/'x', 'a'. See the docs for details.\n"
     ]
    },
    {
     "name": "stdout",
     "output_type": "stream",
     "text": [
      "Trial: 4\n",
      "Trial: 5\n",
      "Trial: 6\n",
      "Trial: 7\n",
      "Trial: 8\n",
      "Trial: 9\n",
      "Trial: 10\n",
      "Trial: 11\n",
      "Trial: 12\n",
      "Trial: 13\n",
      "Trial: 14\n",
      "Trial: 15\n",
      "Trial: 16\n",
      "Trial: 17\n",
      "Trial: 18\n",
      "Trial: 19\n",
      "Trial: 20\n",
      "Trial: 21\n",
      "Trial: 22\n",
      "Trial: 23\n",
      "Trial: 24\n",
      "Trial: 25\n",
      "Trial: 26\n",
      "Trial: 27\n",
      "Trial: 28\n",
      "Trial: 29\n",
      "Trial: 30\n",
      "Trial: 31\n",
      "Trial: 32\n",
      "Session:105847\n",
      "Trial: 1\n",
      "Trial: 2\n",
      "Trial: 3\n",
      "Trial: 4\n",
      "Trial: 5\n",
      "Trial: 6\n",
      "Trial: 7\n",
      "Trial: 8\n",
      "Trial: 9\n",
      "Trial: 10\n",
      "Trial: 11\n",
      "Trial: 12\n",
      "Trial: 13\n",
      "Trial: 14\n",
      "Trial: 15\n",
      "Trial: 16\n",
      "Trial: 17\n",
      "Trial: 18\n",
      "Trial: 19\n",
      "Trial: 20\n",
      "Trial: 21\n",
      "Trial: 22\n",
      "Trial: 23\n",
      "Trial: 24\n",
      "Trial: 25\n",
      "Trial: 26\n",
      "Trial: 27\n",
      "Trial: 28\n",
      "Trial: 29\n",
      "Trial: 30\n",
      "Trial: 31\n",
      "End of Running Section\n"
     ]
    }
   ],
   "source": [
    "# extract hold-out data for one day for test laters\n",
    "Trials_T1_HoldOut = np.empty((0,896), dtype=float)\n",
    "Trials_T2_HoldOut = np.empty((0,896), dtype=float)\n",
    "Trials_T3_HoldOut = np.empty((0,896), dtype=float)\n",
    "Trials_T4_HoldOut = np.empty((0,896), dtype=float)\n",
    "\n",
    "Trials_Raw_T1_HoldOut = np.empty((0,128), dtype=float)\n",
    "Trials_Raw_T2_HoldOut = np.empty((0,128), dtype=float)\n",
    "Trials_Raw_T3_HoldOut = np.empty((0,128), dtype=float)\n",
    "Trials_Raw_T4_HoldOut = np.empty((0,128), dtype=float)\n",
    "\n",
    "Trials_Size_T1_HoldOut = [];\n",
    "Trials_Size_T2_HoldOut = [];\n",
    "Trials_Size_T3_HoldOut = [];\n",
    "Trials_Size_T4_HoldOut = [];\n",
    "\n",
    "\n",
    "# numnber of censequative bins for making correct selections\n",
    "Click_BinNum_T1_HoldOut = []\n",
    "Click_BinNum_T2_HoldOut = []\n",
    "Click_BinNum_T3_HoldOut = []\n",
    "Click_BinNum_T4_HoldOut = []\n",
    "\n",
    "Day_NumTrial_T1_HoldOut = []\n",
    "Day_NumTrial_T2_HoldOut = []\n",
    "Day_NumTrial_T3_HoldOut = []\n",
    "Day_NumTrial_T4_HoldOut = []\n",
    "\n",
    "# tuple for recoding individual trials and its related number of click\n",
    "Trials_T1_BinControl_HoldOut = []\n",
    "Trials_T2_BinControl_HoldOut = []\n",
    "Trials_T3_BinControl_HoldOut = []\n",
    "Trials_T4_BinControl_HoldOut = []\n",
    "\n",
    "\n",
    "\n",
    "# loading the day/block/session data from the location\n",
    "# day 0 does not have SmoothedNeuralFeatures\n",
    "# day 6 the performance was not good\n",
    "for Day in [9]:\n",
    "    ID1 = 0;\n",
    "    ID2 = 0;\n",
    "    ID3 = 0;\n",
    "    ID4 = 0;\n",
    "\n",
    "    for Se in range (len(SessionDay[Day].hhmmss)):\n",
    "\n",
    "        print('Session:'+ SessionDay[Day].hhmmss[Se])\n",
    "        # in windows\n",
    "        if ExptDays[Day] in ['20201002','20201009']:\n",
    "            DataPath =os.path.join('/media/reza/WindowsDrive/BRAVO1','CursorPlatform','Data',ExptDays[Day],'GangulyServer',ExptDays[Day],'RadialTask',SessionDay[Day].hhmmss[Se],'BCI_Fixed')\n",
    "        \n",
    "        else:\n",
    "            DataPath =os.path.join('/media/reza/WindowsDrive/BRAVO1','CursorPlatform','Data',ExptDays[Day],'GangulyServer',ExptDays[Day],'DiscreteArrow',SessionDay[Day].hhmmss[Se],'BCI_Fixed')\n",
    "        \n",
    "        datadir = os.listdir(DataPath)\n",
    "\n",
    "        # loading the trials\n",
    "        for k in range(len(datadir)):\n",
    "\n",
    "            print('Trial:',k+1)\n",
    "            Mat_data = h5py.File(DataPath+'/'+datadir[k])\n",
    "            TrialData = MatFileAnalyzer(Mat_data)\n",
    "            ECoG1 = TrialData.ECoG_Raw()\n",
    "            Fs = TrialData.Fs\n",
    "            LenSignal = ECoG1.shape[0]\n",
    "            MaxReachTime = TrialData.MaxReachTime\n",
    "\n",
    "            # to find successful trials\n",
    "            if ExptDays[Day] == '20201002' and ((LenSignal/Fs) < (MaxReachTime)):\n",
    "                #print(True)\n",
    "                NeuralFeatures = TrialData.Features_All()\n",
    "                ECoGData_Trial = TrialData.ECoG_Raw_Trial()\n",
    "                Trial_Size = ECoGData_Trial.shape[0]\n",
    "\n",
    "                if TrialData.TargetID == 1:\n",
    "                    ID1 = ID1+1                   \n",
    "                    Trials_T1_HoldOut = np.append(Trials_T1_HoldOut, NeuralFeatures, axis=0)\n",
    "                    Trials_Raw_T1_HoldOut = np.append(Trials_Raw_T1_HoldOut, ECoGData_Trial, axis=0)\n",
    "                    Trials_Size_T1_HoldOut = np.append(Trials_Size_T1_HoldOut, Trial_Size)\n",
    "\n",
    "                elif TrialData.TargetID == 2:\n",
    "                    ID2 = ID2+1\n",
    "                    Trials_T2_HoldOut = np.append(Trials_T2_HoldOut,NeuralFeatures, axis=0)\n",
    "                    Trials_Raw_T2_HoldOut = np.append(Trials_Raw_T2_HoldOut, ECoGData_Trial, axis=0) \n",
    "                    Trials_Size_T2_HoldOut = np.append(Trials_Size_T2_HoldOut, Trial_Size)\n",
    "\n",
    "                elif TrialData.TargetID == 3:\n",
    "                    ID3 = ID3+1\n",
    "                    Trials_T3_HoldOut = np.append(Trials_T3_HoldOut, NeuralFeatures, axis=0)\n",
    "                    Trials_Raw_T3_HoldOut = np.append(Trials_Raw_T3_HoldOut, ECoGData_Trial, axis=0)\n",
    "                    Trials_Size_T3_HoldOut = np.append(Trials_Size_T3_HoldOut, Trial_Size)\n",
    "\n",
    "                elif TrialData.TargetID == 4:\n",
    "                    ID4 = ID4+1\n",
    "                    Trials_T4_HoldOut = np.append(Trials_T4_HoldOut, NeuralFeatures, axis=0)\n",
    "                    Trials_Raw_T4_HoldOut = np.append(Trials_Raw_T4_HoldOut, ECoGData_Trial, axis=0)\n",
    "                    Trials_Size_T4_HoldOut = np.append(Trials_Size_T4_HoldOut, Trial_Size)\n",
    "\n",
    "            elif ExptDays[Day] != '20201002' and TrialData.SelectedTargetID == TrialData.TargetID:\n",
    "                #print(True)\n",
    "                NeuralFeatures = TrialData.Features_All()\n",
    "                SmoothedNeuralFeatures = TrialData.SmoothedFeatures_All()\n",
    "                ECoGData_Trial = TrialData.ECoG_Raw_Trial()\n",
    "                Trial_Size = ECoGData_Trial.shape[0]\n",
    "                Trial_BinControls = TrialData.SmoothedFeatures_Controls()\n",
    "                \n",
    "                if TrialData.TargetID == 1:\n",
    "                    ID1 = ID1+1                   \n",
    "                    Trials_T1_HoldOut = np.append(Trials_T1_HoldOut, SmoothedNeuralFeatures, axis=0)\n",
    "                    Click_BinNum_T1_HoldOut.append(TrialData.Click_BinNum)\n",
    "                    Trials_Raw_T1_HoldOut = np.append(Trials_Raw_T1_HoldOut, ECoGData_Trial, axis=0) \n",
    "                    Trials_Size_T1_HoldOut = np.append(Trials_Size_T1_HoldOut, Trial_Size)\n",
    "                    Trials_T1_BinControl_HoldOut.append(Trial_BinControls)\n",
    "\n",
    "                elif TrialData.TargetID == 2:\n",
    "                    ID2 = ID2+1\n",
    "                    Trials_T2_HoldOut = np.append(Trials_T2_HoldOut, SmoothedNeuralFeatures, axis=0)\n",
    "                    Click_BinNum_T2_HoldOut.append(TrialData.Click_BinNum)\n",
    "                    Trials_Raw_T2_HoldOut = np.append(Trials_Raw_T2_HoldOut, ECoGData_Trial, axis=0) \n",
    "                    Trials_Size_T2_HoldOut = np.append(Trials_Size_T2_HoldOut, Trial_Size)\n",
    "                    Trials_T2_BinControl_HoldOut.append(Trial_BinControls)\n",
    "\n",
    "                elif TrialData.TargetID == 3:\n",
    "                    ID3 = ID3+1\n",
    "                    Trials_T3_HoldOut = np.append(Trials_T3_HoldOut, SmoothedNeuralFeatures, axis=0)\n",
    "                    Click_BinNum_T3_HoldOut.append(TrialData.Click_BinNum)\n",
    "                    Trials_Raw_T3_HoldOut = np.append(Trials_Raw_T3_HoldOut, ECoGData_Trial, axis=0) \n",
    "                    Trials_Size_T3_HoldOut = np.append(Trials_Size_T3_HoldOut, Trial_Size)\n",
    "                    Trials_T3_BinControl_HoldOut.append(Trial_BinControls)\n",
    "\n",
    "                elif TrialData.TargetID == 4:\n",
    "                    ID4 = ID4+1\n",
    "                    Trials_T4_HoldOut = np.append(Trials_T4_HoldOut, SmoothedNeuralFeatures, axis=0)\n",
    "                    Click_BinNum_T4_HoldOut.append(TrialData.Click_BinNum)\n",
    "                    Trials_Raw_T4_HoldOut = np.append(Trials_Raw_T4_HoldOut, ECoGData_Trial, axis=0)\n",
    "                    Trials_Size_T4_HoldOut = np.append(Trials_Size_T4_HoldOut, Trial_Size)\n",
    "                    Trials_T4_BinControl_HoldOut.append(Trial_BinControls)\n",
    "                    \n",
    "    Day_NumTrial_T1_HoldOut.append(ID1)\n",
    "    Day_NumTrial_T2_HoldOut.append(ID2)\n",
    "    Day_NumTrial_T3_HoldOut.append(ID3)\n",
    "    Day_NumTrial_T4_HoldOut.append(ID4)\n",
    "    \n",
    "\n",
    "print('End of Running Section')  \n"
   ]
  },
  {
   "cell_type": "code",
   "execution_count": 44,
   "metadata": {},
   "outputs": [
    {
     "data": {
      "text/plain": [
       "tuple"
      ]
     },
     "execution_count": 44,
     "metadata": {},
     "output_type": "execute_result"
    }
   ],
   "source": [
    "type(Trial_BinControls)"
   ]
  },
  {
   "cell_type": "code",
   "execution_count": 45,
   "metadata": {},
   "outputs": [
    {
     "data": {
      "text/plain": [
       "list"
      ]
     },
     "execution_count": 45,
     "metadata": {},
     "output_type": "execute_result"
    }
   ],
   "source": [
    "type(Trials_T1_BinControl_HoldOut)"
   ]
  },
  {
   "cell_type": "code",
   "execution_count": 49,
   "metadata": {},
   "outputs": [
    {
     "data": {
      "text/plain": [
       "(17, 896)"
      ]
     },
     "execution_count": 49,
     "metadata": {},
     "output_type": "execute_result"
    }
   ],
   "source": [
    "qw = Trials_T1_BinControl_HoldOut[1]\n",
    "qw[1].shape"
   ]
  },
  {
   "cell_type": "code",
   "execution_count": 156,
   "metadata": {},
   "outputs": [
    {
     "data": {
      "text/plain": [
       "(8141, 128)"
      ]
     },
     "execution_count": 156,
     "metadata": {},
     "output_type": "execute_result"
    }
   ],
   "source": [
    "Trials_Raw_T1_HoldOut.shape"
   ]
  },
  {
   "cell_type": "code",
   "execution_count": 6,
   "metadata": {},
   "outputs": [],
   "source": [
    "import torch"
   ]
  },
  {
   "cell_type": "code",
   "execution_count": 7,
   "metadata": {},
   "outputs": [
    {
     "data": {
      "text/plain": [
       "True"
      ]
     },
     "execution_count": 7,
     "metadata": {},
     "output_type": "execute_result"
    }
   ],
   "source": [
    "torch.cuda.is_available()"
   ]
  },
  {
   "cell_type": "code",
   "execution_count": 8,
   "metadata": {},
   "outputs": [
    {
     "data": {
      "text/plain": [
       "'GeForce GTX 1080'"
      ]
     },
     "execution_count": 8,
     "metadata": {},
     "output_type": "execute_result"
    }
   ],
   "source": [
    "torch.cuda.get_device_name(0)"
   ]
  },
  {
   "cell_type": "code",
   "execution_count": 9,
   "metadata": {},
   "outputs": [
    {
     "data": {
      "text/plain": [
       "1"
      ]
     },
     "execution_count": 9,
     "metadata": {},
     "output_type": "execute_result"
    }
   ],
   "source": [
    "torch.cuda.device_count()"
   ]
  },
  {
   "cell_type": "markdown",
   "metadata": {},
   "source": [
    "# extracting the HG-LFO for each data point in each trial as feature for later analysis"
   ]
  },
  {
   "cell_type": "code",
   "execution_count": 12,
   "metadata": {},
   "outputs": [
    {
     "data": {
      "text/plain": [
       "[<matplotlib.lines.Line2D at 0x7f31faf4be48>]"
      ]
     },
     "execution_count": 12,
     "metadata": {},
     "output_type": "execute_result"
    },
    {
     "data": {
      "image/png": "[encoded data removed]",
      "text/plain": [
       "<Figure size 864x288 with 1 Axes>"
      ]
     },
     "metadata": {
      "needs_background": "light"
     },
     "output_type": "display_data"
    }
   ],
   "source": [
    "# plot an example of broadband ECoG\n",
    "import matplotlib.pyplot as plt\n",
    "%matplotlib inline\n",
    "t = np.arange(1,500+1,1)\n",
    "fig = plt.figure(figsize=(12,4))\n",
    "ax = fig.add_axes([0,0,1,1])\n",
    "ax.plot(t,Trials_Raw_T4[0:500,0],'b')\n"
   ]
  },
  {
   "cell_type": "markdown",
   "metadata": {},
   "source": [
    "# Filtering the signal"
   ]
  },
  {
   "cell_type": "code",
   "execution_count": 57,
   "metadata": {},
   "outputs": [
    {
     "name": "stdout",
     "output_type": "stream",
     "text": [
      "Target: 0\n",
      "Target: 1\n",
      "Target: 2\n",
      "Target: 3\n",
      "End of Running Section\n"
     ]
    }
   ],
   "source": [
    "from scipy.signal import butter, filtfilt, hilbert\n",
    "import matplotlib.pyplot as plt\n",
    "\n",
    "All_Signal = [Trials_Raw_T1, Trials_Raw_T2, Trials_Raw_T3, Trials_Raw_T4];\n",
    "\n",
    "# initilize the values\n",
    "class structtype():\n",
    "    pass\n",
    "\n",
    "HilbertTarget = [ structtype() for i in range(4)]\n",
    "HilbertTarget[0].feature = [ structtype() for i in range(6)]\n",
    "HilbertTarget[1].feature = [ structtype() for i in range(6)]\n",
    "HilbertTarget[2].feature = [ structtype() for i in range(6)]\n",
    "HilbertTarget[3].feature = [ structtype() for i in range(6)]\n",
    "\n",
    "for target in range(4):\n",
    "    print('Target:',target)\n",
    "    Raw_Signals = All_Signal[target]\n",
    "    \n",
    "    # for delta band\n",
    "    nyq = 0.5 * Fs\n",
    "    low = 0.5/nyq\n",
    "    high = 4/nyq\n",
    "    b, a = butter(3, [low, high], btype='band')\n",
    "    Filtered = filtfilt(b,a,Raw_Signals,axis=0)\n",
    "    Hil = np.abs(hilbert(Filtered,axis=0))\n",
    "    HilbertTarget[target].feature[0] = Hil\n",
    "    \n",
    "    # for theta band\n",
    "    nyq = 0.5 * Fs\n",
    "    low = 4/nyq\n",
    "    high = 8/nyq\n",
    "    b, a = butter(3, [low, high], btype='band')\n",
    "    Filtered = filtfilt(b,a,Raw_Signals,axis=0)\n",
    "    Hil = np.abs(hilbert(Filtered,axis=0))\n",
    "    HilbertTarget[target].feature[1] = Hil\n",
    "    \n",
    "    # for alpha band\n",
    "    nyq = 0.5 * Fs\n",
    "    low = 8/nyq\n",
    "    high = 13/nyq\n",
    "    b, a = butter(3, [low, high], btype='band')\n",
    "    Filtered = filtfilt(b,a,Raw_Signals,axis=0)\n",
    "    Hil = np.abs(hilbert(Filtered,axis=0))\n",
    "    HilbertTarget[target].feature[2] = Hil\n",
    "    \n",
    "    # for beta band\n",
    "    nyq = 0.5 * Fs\n",
    "    low = 13/nyq\n",
    "    high = 30/nyq\n",
    "    b, a = butter(3, [low, high], btype='band')\n",
    "    Filtered = filtfilt(b,a,Raw_Signals,axis=0)\n",
    "    Hil = np.abs(hilbert(Filtered,axis=0))\n",
    "    HilbertTarget[target].feature[3] = Hil\n",
    "    \n",
    "    # for gamma1 band\n",
    "    nyq = 0.5 * Fs\n",
    "    low = 30/nyq\n",
    "    high = 50/nyq\n",
    "    b, a = butter(3, [low, high], btype='band')\n",
    "    Filtered = filtfilt(b,a,Raw_Signals,axis=0)\n",
    "    Hil = np.abs(hilbert(Filtered,axis=0))\n",
    "    HilbertTarget[target].feature[4] = Hil\n",
    "    \n",
    "    # for hg-lfo band\n",
    "    nyq = 0.5 * Fs\n",
    "    low = 70/nyq\n",
    "    high = 150/nyq\n",
    "    b, a = butter(3, [low, high], btype='band')\n",
    "    Filtered = filtfilt(b,a,Raw_Signals,axis=0)\n",
    "    Hil1 = np.abs(hilbert(Filtered,axis=0))\n",
    "    nyq = 0.5 * Fs\n",
    "    low = 0.5/nyq\n",
    "    high = 4/nyq\n",
    "    b, a = butter(3, [low, high], btype='band')\n",
    "    Filtered2 = filtfilt(b,a,Hil1,axis=0)\n",
    "    Hil2 = Filtered2 + Hil1.mean(0)\n",
    "    HilbertTarget[target].feature[5] = Hil2\n",
    "    \n",
    "print('End of Running Section')  \n"
   ]
  },
  {
   "cell_type": "code",
   "execution_count": 14,
   "metadata": {},
   "outputs": [
    {
     "data": {
      "text/plain": [
       "(149412, 128)"
      ]
     },
     "execution_count": 14,
     "metadata": {},
     "output_type": "execute_result"
    },
    {
     "data": {
      "image/png": "[encoded data removed]",
      "text/plain": [
       "<Figure size 864x288 with 1 Axes>"
      ]
     },
     "metadata": {
      "needs_background": "light"
     },
     "output_type": "display_data"
    }
   ],
   "source": [
    "# test the process of filtering signal for hg-lfo\n",
    "#a, b = Raw_Signals.shape\n",
    "#t = np.arange(1,a+1,1)\n",
    "t = np.arange(1,500+1,1)\n",
    "fig = plt.figure(figsize=(12,4))\n",
    "ax = fig.add_axes([0,0,1,1])\n",
    "ax.plot(t,Raw_Signals[0:500,0],'b')\n",
    "ax.plot(t,Filtered[0:500,0],'r')\n",
    "ax.plot(t,Hil1[0:500,0],'k')\n",
    "Forplot = HilbertTarget[3].feature[5]\n",
    "ax.plot(t,Forplot[0:500,0],'g')\n",
    "ax.set_xlim([0,500])\n",
    "#ax.set_ylim([0,2])\n",
    "Raw_Signals.shape"
   ]
  },
  {
   "cell_type": "code",
   "execution_count": 58,
   "metadata": {},
   "outputs": [
    {
     "name": "stdout",
     "output_type": "stream",
     "text": [
      "Target: 0\n",
      "Target: 1\n",
      "Target: 2\n",
      "Target: 3\n",
      "End of Running Section\n"
     ]
    }
   ],
   "source": [
    "# filtering the holdout data\n",
    "\n",
    "from scipy.signal import butter, filtfilt, hilbert\n",
    "import matplotlib.pyplot as plt\n",
    "\n",
    "All_Signal_HoldOut = [Trials_Raw_T1_HoldOut, Trials_Raw_T2_HoldOut, Trials_Raw_T3_HoldOut, Trials_Raw_T4_HoldOut];\n",
    "\n",
    "# initilize the values\n",
    "class structtype():\n",
    "    pass\n",
    "\n",
    "HilbertTarget_HoldOut = [ structtype() for i in range(4)]\n",
    "HilbertTarget_HoldOut[0].feature = [ structtype() for i in range(6)]\n",
    "HilbertTarget_HoldOut[1].feature = [ structtype() for i in range(6)]\n",
    "HilbertTarget_HoldOut[2].feature = [ structtype() for i in range(6)]\n",
    "HilbertTarget_HoldOut[3].feature = [ structtype() for i in range(6)]\n",
    "\n",
    "for target in range(4):\n",
    "    print('Target:',target)\n",
    "    Raw_Signals = All_Signal_HoldOut[target]\n",
    "    \n",
    "    # for delta band\n",
    "    nyq = 0.5 * Fs\n",
    "    low = 0.5/nyq\n",
    "    high = 4/nyq\n",
    "    b, a = butter(3, [low, high], btype='band')\n",
    "    Filtered = filtfilt(b,a,Raw_Signals,axis=0)\n",
    "    Hil = np.abs(hilbert(Filtered,axis=0))\n",
    "    HilbertTarget_HoldOut[target].feature[0] = Hil\n",
    "    \n",
    "    # for theta band\n",
    "    nyq = 0.5 * Fs\n",
    "    low = 4/nyq\n",
    "    high = 8/nyq\n",
    "    b, a = butter(3, [low, high], btype='band')\n",
    "    Filtered = filtfilt(b,a,Raw_Signals,axis=0)\n",
    "    Hil = np.abs(hilbert(Filtered,axis=0))\n",
    "    HilbertTarget_HoldOut[target].feature[1] = Hil\n",
    "    \n",
    "    # for alpha band\n",
    "    nyq = 0.5 * Fs\n",
    "    low = 8/nyq\n",
    "    high = 13/nyq\n",
    "    b, a = butter(3, [low, high], btype='band')\n",
    "    Filtered = filtfilt(b,a,Raw_Signals,axis=0)\n",
    "    Hil = np.abs(hilbert(Filtered,axis=0))\n",
    "    HilbertTarget_HoldOut[target].feature[2] = Hil\n",
    "    \n",
    "    # for beta band\n",
    "    nyq = 0.5 * Fs\n",
    "    low = 13/nyq\n",
    "    high = 30/nyq\n",
    "    b, a = butter(3, [low, high], btype='band')\n",
    "    Filtered = filtfilt(b,a,Raw_Signals,axis=0)\n",
    "    Hil = np.abs(hilbert(Filtered,axis=0))\n",
    "    HilbertTarget_HoldOut[target].feature[3] = Hil\n",
    "    \n",
    "    # for gamma1 band\n",
    "    nyq = 0.5 * Fs\n",
    "    low = 30/nyq\n",
    "    high = 50/nyq\n",
    "    b, a = butter(3, [low, high], btype='band')\n",
    "    Filtered = filtfilt(b,a,Raw_Signals,axis=0)\n",
    "    Hil = np.abs(hilbert(Filtered,axis=0))\n",
    "    HilbertTarget_HoldOut[target].feature[4] = Hil\n",
    "    \n",
    "    # for hg-lfo band\n",
    "    nyq = 0.5 * Fs\n",
    "    low = 70/nyq\n",
    "    high = 150/nyq\n",
    "    b, a = butter(3, [low, high], btype='band')\n",
    "    Filtered = filtfilt(b,a,Raw_Signals,axis=0)\n",
    "    Hil1 = np.abs(hilbert(Filtered,axis=0))\n",
    "    nyq = 0.5 * Fs\n",
    "    low = 0.5/nyq\n",
    "    high = 4/nyq\n",
    "    b, a = butter(3, [low, high], btype='band')\n",
    "    Filtered2 = filtfilt(b,a,Hil1,axis=0)\n",
    "    Hil2 = Filtered2 + Hil1.mean(0)\n",
    "    HilbertTarget_HoldOut[target].feature[5] = Hil2\n",
    "    \n",
    "print('End of Running Section')  \n"
   ]
  },
  {
   "cell_type": "markdown",
   "metadata": {},
   "source": [
    "# decide the inputs to LSTM"
   ]
  },
  {
   "cell_type": "code",
   "execution_count": 171,
   "metadata": {},
   "outputs": [],
   "source": [
    "# choosing the broadband ECoG for trials\n",
    "'''\n",
    "Data_T1 = Trials_Raw_T1\n",
    "Data_T2 = Trials_Raw_T2\n",
    "Data_T3 = Trials_Raw_T3\n",
    "Data_T4 = Trials_Raw_T4\n",
    "\n",
    "Data_T1_HoldOut = Trials_Raw_T1_HoldOut\n",
    "Data_T2_HoldOut = Trials_Raw_T2_HoldOut\n",
    "Data_T3_HoldOut = Trials_Raw_T3_HoldOut\n",
    "Data_T4_HoldOut = Trials_Raw_T4_HoldOut\n",
    "\n",
    "\n",
    "# or choose the feature hg-lfo\n",
    "\n",
    "Data_T1 = HilbertTarget[0].feature[5]\n",
    "Data_T2 = HilbertTarget[1].feature[5]\n",
    "Data_T3 = HilbertTarget[2].feature[5]\n",
    "Data_T4 = HilbertTarget[3].feature[5]\n",
    "\n",
    "Data_T1_HoldOut = HilbertTarget_HoldOut[0].feature[5]\n",
    "Data_T2_HoldOut = HilbertTarget_HoldOut[1].feature[5]\n",
    "Data_T3_HoldOut = HilbertTarget_HoldOut[2].feature[5]\n",
    "Data_T4_HoldOut = HilbertTarget_HoldOut[3].feature[5]\n",
    "\n",
    "\n",
    "'''\n",
    "# choose three features delta; beta; hg...\n",
    "\n",
    "Data_T1 = np.concatenate((HilbertTarget[0].feature[0], HilbertTarget[0].feature[3], HilbertTarget[0].feature[5]),axis=1)\n",
    "Data_T2 = np.concatenate((HilbertTarget[1].feature[0], HilbertTarget[1].feature[3], HilbertTarget[1].feature[5]),axis=1)\n",
    "Data_T3 = np.concatenate((HilbertTarget[2].feature[0], HilbertTarget[2].feature[3], HilbertTarget[2].feature[5]),axis=1)\n",
    "Data_T4 = np.concatenate((HilbertTarget[3].feature[0], HilbertTarget[3].feature[3], HilbertTarget[3].feature[5]),axis=1)\n",
    "\n",
    "Data_T1_HoldOut = np.concatenate((HilbertTarget_HoldOut[0].feature[0], HilbertTarget_HoldOut[0].feature[3], HilbertTarget_HoldOut[0].feature[5]),axis=1)\n",
    "Data_T2_HoldOut = np.concatenate((HilbertTarget_HoldOut[1].feature[0], HilbertTarget_HoldOut[1].feature[3], HilbertTarget_HoldOut[1].feature[5]),axis=1)\n",
    "Data_T3_HoldOut = np.concatenate((HilbertTarget_HoldOut[2].feature[0], HilbertTarget_HoldOut[2].feature[3], HilbertTarget_HoldOut[2].feature[5]),axis=1)\n",
    "Data_T4_HoldOut = np.concatenate((HilbertTarget_HoldOut[3].feature[0], HilbertTarget_HoldOut[3].feature[3], HilbertTarget_HoldOut[3].feature[5]),axis=1)\n",
    "\n",
    "\n",
    "# choose the original bins for hg..\n",
    "\n",
    "Data_T1 = Trials_T1[:,6*128:]\n",
    "Data_T2 = Trials_T2[:,6*128:]\n",
    "Data_T3 = Trials_T3[:,6*128:]\n",
    "Data_T4 = Trials_T4[:,6*128:]\n",
    "\n",
    "Data_T1_HoldOut = Trials_T1_HoldOut[:,6*128:]\n",
    "Data_T2_HoldOut = Trials_T2_HoldOut[:,6*128:]\n",
    "Data_T3_HoldOut = Trials_T3_HoldOut[:,6*128:]\n",
    "Data_T4_HoldOut = Trials_T4_HoldOut[:,6*128:]\n",
    "\n",
    "# choose the original bins for delta, beta, hg..\n",
    "\n",
    "Data_T1 = np.concatenate((Trials_T1[:,0:128], Trials_T1[:,4*128:5*128], Trials_T1[:,6*128:]),axis = 1) \n",
    "Data_T2 = np.concatenate((Trials_T2[:,0:128], Trials_T2[:,4*128:5*128], Trials_T2[:,6*128:]),axis = 1) \n",
    "Data_T3 = np.concatenate((Trials_T3[:,0:128], Trials_T3[:,4*128:5*128], Trials_T3[:,6*128:]),axis = 1) \n",
    "Data_T4 = np.concatenate((Trials_T4[:,0:128], Trials_T4[:,4*128:5*128], Trials_T4[:,6*128:]),axis = 1) \n",
    "\n",
    "Data_T1_HoldOut = np.concatenate((Trials_T1_HoldOut[:,0:128], Trials_T1_HoldOut[:,4*128:5*128], Trials_T1_HoldOut[:,6*128:]),axis = 1) \n",
    "Data_T2_HoldOut = np.concatenate((Trials_T2_HoldOut[:,0:128], Trials_T2_HoldOut[:,4*128:5*128], Trials_T2_HoldOut[:,6*128:]),axis = 1) \n",
    "Data_T3_HoldOut = np.concatenate((Trials_T3_HoldOut[:,0:128], Trials_T3_HoldOut[:,4*128:5*128], Trials_T3_HoldOut[:,6*128:]),axis = 1) \n",
    "Data_T4_HoldOut = np.concatenate((Trials_T4_HoldOut[:,0:128], Trials_T4_HoldOut[:,4*128:5*128], Trials_T4_HoldOut[:,6*128:]),axis = 1) \n",
    "\n",
    "\n",
    "\n",
    "\n"
   ]
  },
  {
   "cell_type": "code",
   "execution_count": 612,
   "metadata": {},
   "outputs": [
    {
     "data": {
      "text/plain": [
       "(1107, 896)"
      ]
     },
     "execution_count": 612,
     "metadata": {},
     "output_type": "execute_result"
    }
   ],
   "source": [
    "Trials_T1.shape"
   ]
  },
  {
   "cell_type": "code",
   "execution_count": 50,
   "metadata": {},
   "outputs": [],
   "source": [
    "\n",
    "\n",
    "Data_T1 = Trials_T1[:,6*128:]\n",
    "Data_T2 = Trials_T2[:,6*128:]\n",
    "Data_T3 = Trials_T3[:,6*128:]\n",
    "Data_T4 = Trials_T4[:,6*128:]\n",
    "\n",
    "Data_T1_HoldOut = Trials_T1_HoldOut[:,6*128:]\n",
    "Data_T2_HoldOut = Trials_T2_HoldOut[:,6*128:]\n",
    "Data_T3_HoldOut = Trials_T3_HoldOut[:,6*128:]\n",
    "Data_T4_HoldOut = Trials_T4_HoldOut[:,6*128:]"
   ]
  },
  {
   "cell_type": "code",
   "execution_count": null,
   "metadata": {},
   "outputs": [],
   "source": []
  },
  {
   "cell_type": "markdown",
   "metadata": {},
   "source": [
    "# Bring the data to torch space / peform LSTM"
   ]
  },
  {
   "cell_type": "code",
   "execution_count": 51,
   "metadata": {},
   "outputs": [],
   "source": [
    "import torch\n",
    "import torch.nn as nn\n",
    "import pandas as pd \n",
    "import matplotlib.pyplot as plt\n",
    "%matplotlib inline\n",
    "from torch.utils.data import DataLoader"
   ]
  },
  {
   "cell_type": "code",
   "execution_count": 52,
   "metadata": {},
   "outputs": [],
   "source": [
    "# Hyper parameters\n",
    "learning_rate = 0.001\n",
    "sequence_length = 3\n",
    "hidden_size = 50\n",
    "num_classes = 4\n",
    "batch_size = 16\n",
    "input_size = 128\n",
    "num_layers = 1\n",
    "num_epochs = 8\n"
   ]
  },
  {
   "cell_type": "code",
   "execution_count": null,
   "metadata": {},
   "outputs": [],
   "source": []
  },
  {
   "cell_type": "code",
   "execution_count": 53,
   "metadata": {},
   "outputs": [],
   "source": [
    "# generate the train_data for LSTM\n",
    "# use neural feature as input or the broad band\n",
    "\n",
    "Data_T1_torch = torch.from_numpy(Data_T1)\n",
    "Data_T2_torch = torch.from_numpy(Data_T2)\n",
    "Data_T3_torch = torch.from_numpy(Data_T3)\n",
    "Data_T4_torch = torch.from_numpy(Data_T4)\n",
    "\n",
    "\n",
    "Data_T1_HoldOut_torch = torch.from_numpy(Data_T1_HoldOut)\n",
    "Data_T2_HoldOut_torch = torch.from_numpy(Data_T2_HoldOut)\n",
    "Data_T3_HoldOut_torch = torch.from_numpy(Data_T3_HoldOut)\n",
    "Data_T4_HoldOut_torch = torch.from_numpy(Data_T4_HoldOut)\n",
    "\n"
   ]
  },
  {
   "cell_type": "code",
   "execution_count": 54,
   "metadata": {},
   "outputs": [
    {
     "data": {
      "text/plain": [
       "1107"
      ]
     },
     "execution_count": 54,
     "metadata": {},
     "output_type": "execute_result"
    }
   ],
   "source": [
    "Data_T1_torch.shape[0]"
   ]
  },
  {
   "cell_type": "code",
   "execution_count": 55,
   "metadata": {},
   "outputs": [
    {
     "name": "stdout",
     "output_type": "stream",
     "text": [
      "Shape of tensor: torch.Size([1107, 128])\n",
      "Datatype of tensor: torch.float64\n",
      "Device tensor is stored on: cpu\n"
     ]
    }
   ],
   "source": [
    "print(f\"Shape of tensor: {Data_T1_torch.shape}\")\n",
    "print(f\"Datatype of tensor: {Data_T1_torch.dtype}\")\n",
    "print(f\"Device tensor is stored on: {Data_T1_torch.device}\")"
   ]
  },
  {
   "cell_type": "code",
   "execution_count": null,
   "metadata": {},
   "outputs": [],
   "source": []
  },
  {
   "cell_type": "code",
   "execution_count": 56,
   "metadata": {},
   "outputs": [
    {
     "data": {
      "text/plain": [
       "[<matplotlib.lines.Line2D at 0x7f0944584160>]"
      ]
     },
     "execution_count": 56,
     "metadata": {},
     "output_type": "execute_result"
    },
    {
     "data": {
      "image/png": "[encoded data removed]",
      "text/plain": [
       "<Figure size 864x288 with 1 Axes>"
      ]
     },
     "metadata": {
      "needs_background": "light"
     },
     "output_type": "display_data"
    }
   ],
   "source": [
    "# ploting the first sample data for T1\n",
    "DataPlot = Data_T1_torch.numpy()\n",
    "plt.figure(figsize=(12,4))\n",
    "plt.plot(np.arange(128), DataPlot[0][:])"
   ]
  },
  {
   "cell_type": "code",
   "execution_count": null,
   "metadata": {},
   "outputs": [],
   "source": []
  },
  {
   "cell_type": "code",
   "execution_count": null,
   "metadata": {},
   "outputs": [],
   "source": []
  },
  {
   "cell_type": "code",
   "execution_count": null,
   "metadata": {},
   "outputs": [],
   "source": []
  },
  {
   "cell_type": "code",
   "execution_count": 57,
   "metadata": {},
   "outputs": [],
   "source": [
    "def get_default_device():\n",
    "    \"\"\"Pick GPU if available, else CPU\"\"\"\n",
    "    if torch.cuda.is_available():\n",
    "        return torch.device('cuda')\n",
    "    else:\n",
    "        return torch.device('cpu')\n",
    "    \n",
    "def to_device(data, device):\n",
    "    \"\"\"Move tensor(s) to chosen device\"\"\"\n",
    "    if isinstance(data, (list,tuple)):\n",
    "        return [to_device(x, device) for x in data]\n",
    "    return data.to(device, non_blocking=True)\n",
    "\n",
    "class DeviceDataLoader():\n",
    "    \"\"\"Wrap a dataloader to move data to a device\"\"\"\n",
    "    def __init__(self, dl, device):\n",
    "        self.dl = dl\n",
    "        self.device = device\n",
    "        \n",
    "    def __iter__(self):\n",
    "        \"\"\"Yield a batch of data after moving it to device\"\"\"\n",
    "        for b in self.dl: \n",
    "            yield to_device(b, self.device)\n",
    "            \n",
    "def __len__(self):\n",
    "    \"\"\"Number of batches\"\"\"\n",
    "    return len(self.dl)"
   ]
  },
  {
   "cell_type": "code",
   "execution_count": 58,
   "metadata": {},
   "outputs": [
    {
     "data": {
      "text/plain": [
       "device(type='cuda')"
      ]
     },
     "execution_count": 58,
     "metadata": {},
     "output_type": "execute_result"
    }
   ],
   "source": [
    "device = get_default_device()\n",
    "device"
   ]
  },
  {
   "cell_type": "code",
   "execution_count": 59,
   "metadata": {},
   "outputs": [],
   "source": [
    "# preparing a batch \n",
    "from scipy import stats\n",
    "from numba import jit, cuda\n",
    "from numba import guvectorize\n",
    "from numba import vectorize\n",
    "\n",
    "#@vectorize([\"float64(float64, float64, float64, float64)\"], target='cuda')\n",
    "#@guvectorize([\"float64(float64, float64, float64, float64)\"], target='cuda')\n",
    "def input_data(data, label, sequence_length, AllData_Set):\n",
    "    \n",
    "   # creat this batch\n",
    "    L = data.shape[0]\n",
    "    \n",
    "    for i in range(L-sequence_length):\n",
    "        window = data[i:i+sequence_length,:]\n",
    "        # performing zscore for each channel\n",
    "        #window2 = stats.zscore(window1, axis=0)\n",
    "        # performing zscore for all 2D input\n",
    "        #window2 = stats.zscore(window1, axis=None)\n",
    "        \n",
    "        AllData_Set.append((window, label))\n",
    "\n",
    "    return AllData_Set\n",
    "    \n",
    "    "
   ]
  },
  {
   "cell_type": "code",
   "execution_count": 60,
   "metadata": {},
   "outputs": [],
   "source": [
    "# labeling should start with 0\n",
    "# by considering batch creation\n",
    "# determining the temporal dynamics of ECoG \n",
    "# feed the data for creating the batches\n",
    "# append all the targets\n",
    "AllData_Set = []    \n",
    "Train_batch_1 = input_data(Data_T1_torch,torch.tensor(0), sequence_length, AllData_Set)\n",
    "Train_batch_2 = input_data(Data_T2_torch,torch.tensor(1), sequence_length, Train_batch_1)\n",
    "Train_batch_3 = input_data(Data_T3_torch,torch.tensor(2), sequence_length, Train_batch_2)\n",
    "Train_batch_4 = input_data(Data_T4_torch,torch.tensor(3), sequence_length, Train_batch_3)\n",
    "AllData_Set = Train_batch_4"
   ]
  },
  {
   "cell_type": "code",
   "execution_count": null,
   "metadata": {},
   "outputs": [],
   "source": []
  },
  {
   "cell_type": "code",
   "execution_count": 61,
   "metadata": {},
   "outputs": [
    {
     "data": {
      "text/plain": [
       "4251"
      ]
     },
     "execution_count": 61,
     "metadata": {},
     "output_type": "execute_result"
    }
   ],
   "source": [
    "len(AllData_Set)"
   ]
  },
  {
   "cell_type": "code",
   "execution_count": 62,
   "metadata": {},
   "outputs": [
    {
     "data": {
      "text/plain": [
       "1275"
      ]
     },
     "execution_count": 62,
     "metadata": {},
     "output_type": "execute_result"
    }
   ],
   "source": [
    "round (0.3*len(AllData_Set))"
   ]
  },
  {
   "cell_type": "code",
   "execution_count": 63,
   "metadata": {},
   "outputs": [
    {
     "data": {
      "text/plain": [
       "(tensor([[ 1.3518e+00,  1.3383e-02,  1.0978e+00, -3.8315e-01, -7.5685e-01,\n",
       "           5.0158e-01,  4.3306e-01, -8.6734e-02,  1.7699e+00,  1.2554e-02,\n",
       "          -3.7362e-01, -3.0039e-01, -1.0688e+00, -1.0226e-01, -7.0570e-01,\n",
       "          -6.2825e-01,  5.8764e-01, -9.0847e-01, -3.1467e-01, -6.6488e-01,\n",
       "           4.9454e-01, -2.5217e-01, -8.5922e-01, -1.1521e+00,  1.3247e+00,\n",
       "           7.1989e-01,  1.0917e+00,  1.8641e-01,  1.3819e+00, -1.0533e+00,\n",
       "           1.5713e+00, -4.5441e-03,  4.7913e-01,  3.7092e-01, -3.6603e-01,\n",
       "           5.0947e-01,  4.4656e-01,  1.1625e+00,  5.5602e-04,  1.0672e+00,\n",
       "           1.2404e+00, -7.6512e-01,  1.5720e+00,  5.3141e-01,  2.0964e-01,\n",
       "           1.2957e+00, -1.1350e+00,  3.9577e-01,  3.7737e-01,  1.3789e+00,\n",
       "           3.5674e-01,  4.4533e-01, -3.8416e-01, -6.4145e-01,  1.3246e+00,\n",
       "           9.6343e-01,  8.4496e-01, -4.3915e-01,  6.4411e-01,  1.5538e-01,\n",
       "          -2.7844e-01, -5.9220e-01,  1.4032e+00, -4.1774e-01,  1.3676e-01,\n",
       "          -1.5501e+00, -1.2897e+00,  1.0447e+00,  3.5822e-01,  2.3255e+00,\n",
       "          -2.0843e-01, -1.2117e-01, -6.5772e-01,  2.2264e-02,  8.2325e-01,\n",
       "           5.2681e-01,  4.6633e-01,  9.0547e-01, -1.3446e+00, -2.6858e-02,\n",
       "           1.8954e+00,  3.5368e-01,  6.4427e-01,  3.7058e-01, -1.1497e+00,\n",
       "           5.8894e-01,  8.2088e-01, -3.9105e-01, -2.7299e-01, -8.1035e-01,\n",
       "          -1.2624e+00, -4.9819e-01, -3.9325e-01, -5.7072e-01, -4.1839e-01,\n",
       "          -1.0089e-01,  8.9829e-01,  5.9741e-01, -6.9624e-01,  1.1664e+00,\n",
       "           1.7483e-01, -2.4937e-01,  1.3318e+00,  1.2138e+00, -1.2446e+00,\n",
       "           1.4819e+00, -3.7358e-01,  1.1704e+00,  1.2008e+00, -6.1962e-01,\n",
       "          -1.0284e+00,  8.5967e-01, -1.3197e+00,  9.6391e-01,  1.0839e+00,\n",
       "           9.9154e-01, -5.9113e-01,  1.8695e+00, -5.8631e-01, -1.9901e+00,\n",
       "           5.1946e-01, -1.1161e+00,  1.5531e+00, -1.0344e+00,  2.5400e-02,\n",
       "          -6.0959e-01, -7.3029e-01, -3.7030e-01],\n",
       "         [ 3.5157e-01, -2.1361e-01,  3.1530e+00,  4.6629e-01,  2.2134e-01,\n",
       "           7.2968e-01, -8.9062e-01,  2.9518e-01,  2.6933e+00, -4.4191e-01,\n",
       "           1.0786e+00,  1.1649e+00,  8.4832e-01,  1.2036e+00,  7.1542e-01,\n",
       "           2.2094e-01, -5.5772e-01,  4.0608e-01,  2.0177e+00,  3.9383e-01,\n",
       "           1.4356e+00, -6.6483e-01,  1.8408e+00,  1.3714e+00,  2.7206e+00,\n",
       "           2.5980e+00,  2.1719e+00,  2.5055e-02,  2.2711e+00, -2.5830e-02,\n",
       "           2.4601e+00,  2.1104e+00,  1.9485e-01,  2.1164e+00, -3.7838e-01,\n",
       "           2.0966e+00,  1.2844e+00, -1.9114e-01,  6.2267e-01,  1.7208e+00,\n",
       "           3.6831e+00,  1.3702e+00,  2.9906e-01,  3.3689e-01,  9.9776e-01,\n",
       "           2.8121e+00,  1.5392e-02,  1.0345e+00,  1.1823e+00, -2.4542e-01,\n",
       "           1.2817e+00,  2.4441e+00,  1.6539e+00,  7.4482e-01,  2.0048e+00,\n",
       "           1.5708e+00,  6.6398e-01,  9.1720e-01,  6.2727e-01,  9.1314e-01,\n",
       "           9.4083e-01,  8.0653e-01,  2.1204e-02,  5.5348e-01,  2.6998e-01,\n",
       "          -4.7003e-01,  6.3526e-01,  5.1622e-01,  6.9963e-01,  1.1898e+00,\n",
       "          -9.4558e-02,  1.1761e+00,  8.2267e-01,  1.8336e+00, -8.0736e-02,\n",
       "          -3.5172e-01,  4.9699e-01,  1.3230e+00,  1.4716e+00,  9.5093e-01,\n",
       "           1.8034e+00,  8.5667e-02,  4.0144e-01,  2.8677e-02,  1.3850e-01,\n",
       "           1.3689e+00,  1.9464e+00,  8.5494e-01,  1.7985e-01,  9.3712e-01,\n",
       "           6.2110e-01,  5.6396e-01,  1.5434e+00,  5.7985e-01,  1.8829e-01,\n",
       "           9.4581e-01,  3.6173e+00,  2.3174e+00,  5.8112e-01,  4.2283e+00,\n",
       "           5.2350e-01,  6.8882e-01,  3.7632e+00,  2.6342e+00,  5.8502e-01,\n",
       "           3.2477e+00,  4.7807e-01,  2.0236e+00,  2.1645e+00, -6.0037e-01,\n",
       "          -8.7381e-01,  1.7838e+00, -7.2321e-01,  3.1493e+00,  3.2710e+00,\n",
       "           2.8903e+00,  5.7835e-01,  2.9658e+00,  2.7155e-01,  5.4176e-01,\n",
       "           1.0488e-01,  5.9661e-02,  2.9080e+00,  3.0445e-01,  1.7922e+00,\n",
       "           7.8972e-01,  5.0100e-01,  4.6000e-01],\n",
       "         [ 1.7880e+00,  2.2481e+00,  4.8811e+00, -1.1082e+00, -4.2807e-02,\n",
       "           1.1319e+00, -6.8282e-01,  1.3427e+00,  6.4073e+00,  4.5690e-01,\n",
       "           3.9302e+00,  4.2731e+00,  2.0874e+00,  2.4946e+00,  2.6449e+00,\n",
       "          -6.5022e-01, -9.6046e-01,  9.6527e-01,  1.9270e+00,  4.6596e-01,\n",
       "          -4.3520e-01, -1.3005e-01,  3.4810e+00,  1.8096e+00,  4.6214e+00,\n",
       "           8.4569e+00,  5.7332e+00,  1.0169e+00,  5.4018e+00,  1.5626e+00,\n",
       "           7.4045e+00,  5.3250e+00,  1.0891e+00,  4.0807e+00,  9.3330e-01,\n",
       "           3.8535e+00,  1.6546e+00,  8.9278e-01,  6.3882e-01,  4.4878e+00,\n",
       "           4.7616e+00,  2.5965e+00,  3.5746e-01,  9.4965e-01,  1.0040e+00,\n",
       "           5.3058e+00,  7.8600e-01,  2.1905e+00,  6.6179e-01,  6.1893e-01,\n",
       "           3.9366e+00, -4.5753e-01,  1.5571e+00,  7.3800e-01,  8.8854e-01,\n",
       "           7.5104e-01,  1.0299e-01,  5.5997e-01,  1.1960e+00,  4.1796e-01,\n",
       "           4.2550e+00,  8.5242e-01,  2.3251e+00,  6.8483e-01, -6.5210e-01,\n",
       "           1.3779e+00,  2.5418e+00,  8.6800e-01, -1.7444e+00,  3.8036e-01,\n",
       "           1.6242e+00, -5.5812e-01,  2.9297e+00,  4.1229e-01,  6.1423e-01,\n",
       "           6.3456e-01,  4.0767e-01,  1.4687e+00,  2.6148e+00,  2.0519e+00,\n",
       "          -5.9144e-01, -1.2001e+00, -6.9606e-01, -8.2727e-02, -7.4896e-01,\n",
       "           1.7983e+00,  3.6013e-01,  2.4584e-01,  7.3127e-01,  3.4718e+00,\n",
       "           3.1955e+00,  2.5921e-01,  2.9488e+00, -2.5681e-02,  2.3054e+00,\n",
       "          -9.0860e-01,  4.7402e+00,  4.2050e+00,  1.1603e+00,  6.5215e+00,\n",
       "          -4.6101e-01,  6.7106e-01,  8.2843e+00,  7.0426e+00,  1.0437e-01,\n",
       "           5.6647e+00,  1.8799e+00,  7.6647e+00,  7.8751e+00, -4.5643e-02,\n",
       "          -1.2867e+00,  6.5268e+00, -9.6422e-01,  6.3066e+00,  7.7169e+00,\n",
       "           5.9514e+00,  2.2311e+00,  7.3230e+00,  9.2332e-02,  6.7280e-02,\n",
       "           1.9871e-01, -2.0542e-02,  6.0844e+00,  2.1825e-01,  5.9782e+00,\n",
       "           1.3844e-01, -9.2099e-01,  1.1652e+00]], dtype=torch.float64),\n",
       " tensor(0))"
      ]
     },
     "execution_count": 63,
     "metadata": {},
     "output_type": "execute_result"
    }
   ],
   "source": [
    "AllData_Set[0]"
   ]
  },
  {
   "cell_type": "code",
   "execution_count": 64,
   "metadata": {},
   "outputs": [],
   "source": [
    "# for holdout data\n",
    "HoldOutData_Set = []    \n",
    "Train_batch_1 = input_data(Data_T1_HoldOut_torch,torch.tensor(0), sequence_length, HoldOutData_Set)\n",
    "Train_batch_2 = input_data(Data_T2_HoldOut_torch,torch.tensor(1), sequence_length, Train_batch_1)\n",
    "Train_batch_3 = input_data(Data_T3_HoldOut_torch,torch.tensor(2), sequence_length, Train_batch_2)\n",
    "Train_batch_4 = input_data(Data_T4_HoldOut_torch,torch.tensor(3), sequence_length, Train_batch_3)\n",
    "HoldOutData_Set = Train_batch_4"
   ]
  },
  {
   "cell_type": "code",
   "execution_count": 65,
   "metadata": {},
   "outputs": [
    {
     "data": {
      "text/plain": [
       "4.421875"
      ]
     },
     "execution_count": 65,
     "metadata": {},
     "output_type": "execute_result"
    }
   ],
   "source": [
    "len(HoldOutData_Set)/64"
   ]
  },
  {
   "cell_type": "code",
   "execution_count": 66,
   "metadata": {},
   "outputs": [],
   "source": [
    "# spliting the data to 70% train and 30% test \n",
    "torch.manual_seed(101)\n",
    "train_set, test_set = torch.utils.data.random_split(AllData_Set, [round(0.7*len(AllData_Set)),len(AllData_Set)-round(0.7*len(AllData_Set))])\n"
   ]
  },
  {
   "cell_type": "code",
   "execution_count": 67,
   "metadata": {},
   "outputs": [
    {
     "data": {
      "text/plain": [
       "2976"
      ]
     },
     "execution_count": 67,
     "metadata": {},
     "output_type": "execute_result"
    }
   ],
   "source": [
    "len(train_set)"
   ]
  },
  {
   "cell_type": "code",
   "execution_count": 68,
   "metadata": {},
   "outputs": [],
   "source": [
    "# batching the data\n",
    "torch.manual_seed(101)\n",
    "train_loader = DataLoader(train_set, batch_size, shuffle=True)\n",
    "test_loader = DataLoader(test_set, batch_size, shuffle=False)\n",
    "holdout_loader = DataLoader(HoldOutData_Set, batch_size, shuffle=False)\n"
   ]
  },
  {
   "cell_type": "code",
   "execution_count": null,
   "metadata": {},
   "outputs": [],
   "source": []
  },
  {
   "cell_type": "code",
   "execution_count": null,
   "metadata": {},
   "outputs": [],
   "source": []
  },
  {
   "cell_type": "code",
   "execution_count": null,
   "metadata": {},
   "outputs": [],
   "source": []
  },
  {
   "cell_type": "code",
   "execution_count": null,
   "metadata": {},
   "outputs": [],
   "source": []
  },
  {
   "cell_type": "code",
   "execution_count": 69,
   "metadata": {},
   "outputs": [],
   "source": [
    "# create the LSTM model\n",
    "class LSTMModel(nn.Module):\n",
    "    def __init__(self, input_size, hidden_size, num_layers, num_classes):\n",
    "        super(LSTMModel, self).__init__()\n",
    "        self.hidden_size = hidden_size\n",
    "        self.num_layers = num_layers\n",
    "        self.lstm = nn.LSTM(input_size, hidden_size, num_layers, batch_first=True, dropout= 0)\n",
    "        self.fc = nn.Linear(hidden_size, num_classes)\n",
    "        \n",
    "        # additional layer for classification problem\n",
    "        #self.SoftAct = nn.Softmax()\n",
    "        # for batch normalization\n",
    "        # self.bn1 = nn.BatchNorm1d(sequence_length)\n",
    "        \n",
    "    \n",
    "    def forward(self, x):\n",
    "        h = torch.zeros(self.num_layers, x.size(0), self.hidden_size).to(device) \n",
    "        c = torch.zeros(self.num_layers, x.size(0), self.hidden_size).to(device)\n",
    "        \n",
    "        # for batch normalization\n",
    "        # x = self.bn1(x)\n",
    "        \n",
    "        out, _ = self.lstm(x, (h, c))  \n",
    "        \n",
    "        out = self.fc(out[:, -1, :])\n",
    "        \n",
    "        # additional layer for classification problem\n",
    "        # out = self.SoftAct(out)\n",
    "        \n",
    "        return out\n",
    "    "
   ]
  },
  {
   "cell_type": "code",
   "execution_count": 549,
   "metadata": {},
   "outputs": [],
   "source": [
    "test1 = nn.LSTM(input_size, hidden_size, num_layers, batch_first=True)\n",
    "h = torch.zeros(num_layers, images.size(0), hidden_size)\n",
    "c = torch.zeros(num_layers, images.size(0), hidden_size)"
   ]
  },
  {
   "cell_type": "code",
   "execution_count": 99,
   "metadata": {},
   "outputs": [],
   "source": [
    "out1, out2 = test1(images.cpu(), (h, c))"
   ]
  },
  {
   "cell_type": "code",
   "execution_count": 101,
   "metadata": {},
   "outputs": [
    {
     "data": {
      "text/plain": [
       "torch.Size([48, 200, 50])"
      ]
     },
     "execution_count": 101,
     "metadata": {},
     "output_type": "execute_result"
    }
   ],
   "source": [
    "out1.shape"
   ]
  },
  {
   "cell_type": "code",
   "execution_count": 130,
   "metadata": {},
   "outputs": [
    {
     "data": {
      "text/plain": [
       "torch.Size([34, 200, 384])"
      ]
     },
     "execution_count": 130,
     "metadata": {},
     "output_type": "execute_result"
    }
   ],
   "source": [
    "images.shape"
   ]
  },
  {
   "cell_type": "code",
   "execution_count": 112,
   "metadata": {},
   "outputs": [
    {
     "data": {
      "text/plain": [
       "torch.Size([1, 48, 50])"
      ]
     },
     "execution_count": 112,
     "metadata": {},
     "output_type": "execute_result"
    }
   ],
   "source": [
    "q1 = out2[1]\n",
    "q1.shape"
   ]
  },
  {
   "cell_type": "code",
   "execution_count": 113,
   "metadata": {},
   "outputs": [],
   "source": [
    "test2 = nn.Linear(hidden_size, num_classes) "
   ]
  },
  {
   "cell_type": "code",
   "execution_count": 115,
   "metadata": {},
   "outputs": [
    {
     "data": {
      "text/plain": [
       "torch.Size([48, 50])"
      ]
     },
     "execution_count": 115,
     "metadata": {},
     "output_type": "execute_result"
    }
   ],
   "source": [
    "q1 = out1[:, -1, :]\n",
    "q1.shape"
   ]
  },
  {
   "cell_type": "code",
   "execution_count": 117,
   "metadata": {},
   "outputs": [
    {
     "data": {
      "text/plain": [
       "torch.Size([48, 4])"
      ]
     },
     "execution_count": 117,
     "metadata": {},
     "output_type": "execute_result"
    }
   ],
   "source": [
    "test2(q1).shape"
   ]
  },
  {
   "cell_type": "code",
   "execution_count": 70,
   "metadata": {},
   "outputs": [
    {
     "data": {
      "text/plain": [
       "LSTMModel(\n",
       "  (lstm): LSTM(128, 50, batch_first=True)\n",
       "  (fc): Linear(in_features=50, out_features=4, bias=True)\n",
       ")"
      ]
     },
     "execution_count": 70,
     "metadata": {},
     "output_type": "execute_result"
    }
   ],
   "source": [
    "model = LSTMModel(input_size, hidden_size, num_layers, num_classes)\n",
    "to_device(model, device)"
   ]
  },
  {
   "cell_type": "code",
   "execution_count": 71,
   "metadata": {},
   "outputs": [],
   "source": [
    "criterion = nn.CrossEntropyLoss()\n",
    "optimizer = torch.optim.Adam(model.parameters(), lr=learning_rate)"
   ]
  },
  {
   "cell_type": "code",
   "execution_count": 72,
   "metadata": {},
   "outputs": [
    {
     "name": "stdout",
     "output_type": "stream",
     "text": [
      "Epoch [1/8], Step [100/186], Loss: 0.5550\n",
      "Test Accuracy of the model on the test images: 90.9090909090909 %\n",
      "Epoch [2/8], Step [100/186], Loss: 0.1371\n",
      "Test Accuracy of the model on the test images: 90.9090909090909 %\n",
      "Epoch [3/8], Step [100/186], Loss: 0.0310\n",
      "Test Accuracy of the model on the test images: 100.0 %\n",
      "Epoch [4/8], Step [100/186], Loss: 0.0254\n",
      "Test Accuracy of the model on the test images: 90.9090909090909 %\n",
      "Epoch [5/8], Step [100/186], Loss: 0.0183\n",
      "Test Accuracy of the model on the test images: 100.0 %\n",
      "Epoch [6/8], Step [100/186], Loss: 0.0385\n",
      "Test Accuracy of the model on the test images: 100.0 %\n",
      "Epoch [7/8], Step [100/186], Loss: 0.0231\n",
      "Test Accuracy of the model on the test images: 100.0 %\n",
      "Epoch [8/8], Step [100/186], Loss: 0.0050\n",
      "Test Accuracy of the model on the test images: 100.0 %\n"
     ]
    }
   ],
   "source": [
    "# Train the model\n",
    "\n",
    "All_y_pred = []\n",
    "All_y_train = []\n",
    "Accuracy_test = []\n",
    "loss_train = []\n",
    "loss_test = []\n",
    "\n",
    "#model = model.to(torch.long)\n",
    "model = model.to(torch.float)\n",
    "\n",
    "total_step = len(train_loader)\n",
    "for epoch in range(num_epochs):\n",
    "    for i, (images, labels) in enumerate(train_loader):\n",
    "        #print(labels.shape)\n",
    "        labels = labels.T\n",
    "        \n",
    "        # for saving\n",
    "        All_y_train.append(labels.numpy())\n",
    "        \n",
    "        images = images.reshape(-1, sequence_length, input_size).to(device)\n",
    "        labels = labels.to(torch.long)\n",
    "        labels = labels.to(device)\n",
    "        \n",
    "        #labels = labels.to(torch.float)\n",
    "        \n",
    "        # test with random inputs\n",
    "        #target = torch.empty(batch_size, dtype=torch.long).random_(num_classes)\n",
    "        #labels_1 = target\n",
    "        \n",
    "        #images = images.to(torch.long)\n",
    "        images = images.to(torch.float)\n",
    "        \n",
    "        # zero the parameter gradients\n",
    "        #optimizer.zero_grad()\n",
    "        # reset hidden states\n",
    "        #model.hidden = (torch.zeros(1, 1, model.hidden_size), torch.zeros(1, 1, model.hidden_size))\n",
    "        \n",
    "                \n",
    "        # Forward pass\n",
    "        outputs = model(images)\n",
    "        #outputs = outputs.to(torch.long)\n",
    "        outputs = outputs.to(torch.float)\n",
    "        loss = criterion(outputs, labels)\n",
    "        loss_train.append(criterion(outputs, labels))\n",
    "        \n",
    "        # for saving \n",
    "        _, predicted = torch.max(outputs.data, 1)\n",
    "        All_y_pred.append(predicted.cpu().numpy())\n",
    "        \n",
    "        \n",
    "        # Backward pass and optimize\n",
    "        optimizer.zero_grad()\n",
    "        loss.backward()\n",
    "        optimizer.step()\n",
    "        \n",
    "        if (i+1) % 100 == 0:\n",
    "            print ('Epoch [{}/{}], Step [{}/{}], Loss: {:.4f}' .format(epoch+1, num_epochs, i+1, total_step, loss.item()))\n",
    "            \n",
    "    # Evaluate the model\n",
    "    #model.eval()\n",
    "    with torch.no_grad():\n",
    "        right = 0\n",
    "        total = 0\n",
    "        for images, labels in test_loader:\n",
    "            images = images.reshape(-1, sequence_length, input_size).to(device)\n",
    "            labels = labels.T\n",
    "            labels = labels.to(torch.long)\n",
    "            labels = labels.to(device)\n",
    "            images = images.to(torch.float)\n",
    "            outputs = model(images)\n",
    "            loss_test.append(criterion(outputs, labels))\n",
    "            _, predicted = torch.max(outputs.data, 1)\n",
    "            total = labels.size(0)\n",
    "            right = (predicted == labels).sum().item()\n",
    "            Accuracy_test.append(100 * right / total)\n",
    "\n",
    "    print('Test Accuracy of the model on the test images: {} %'.format(100 * right / total))"
   ]
  },
  {
   "cell_type": "code",
   "execution_count": null,
   "metadata": {},
   "outputs": [],
   "source": [
    "\n"
   ]
  },
  {
   "cell_type": "code",
   "execution_count": 257,
   "metadata": {},
   "outputs": [
    {
     "data": {
      "text/plain": [
       "torch.Size([22, 300, 128])"
      ]
     },
     "execution_count": 257,
     "metadata": {},
     "output_type": "execute_result"
    }
   ],
   "source": [
    "images.shape\n",
    "\n",
    "\n"
   ]
  },
  {
   "cell_type": "code",
   "execution_count": 258,
   "metadata": {},
   "outputs": [
    {
     "data": {
      "text/plain": [
       "1.0"
      ]
     },
     "execution_count": 258,
     "metadata": {},
     "output_type": "execute_result"
    }
   ],
   "source": [
    "0.0020 + 0.3192 + 0.1581 + 0.5207"
   ]
  },
  {
   "cell_type": "code",
   "execution_count": null,
   "metadata": {},
   "outputs": [],
   "source": [
    "\n"
   ]
  },
  {
   "cell_type": "code",
   "execution_count": 245,
   "metadata": {},
   "outputs": [
    {
     "data": {
      "text/plain": [
       "tensor([3, 3, 3, 0, 0, 0, 2, 2, 0, 2, 3, 3, 0, 2, 1, 2, 3, 1, 1, 3, 3, 3, 2, 0,\n",
       "        1, 2, 0, 1, 1, 0, 0, 0, 3, 2, 2, 2, 2, 2, 0, 0, 3, 0, 3, 1, 0, 1, 3, 3,\n",
       "        2, 1, 3, 3, 1, 0, 0, 0, 3, 3, 1, 2, 1, 3, 0, 3])"
      ]
     },
     "execution_count": 245,
     "metadata": {},
     "output_type": "execute_result"
    }
   ],
   "source": [
    "labels-1"
   ]
  },
  {
   "cell_type": "code",
   "execution_count": 244,
   "metadata": {},
   "outputs": [
    {
     "data": {
      "text/plain": [
       "tensor([1, 2, 2, 2, 3, 0, 0, 1, 1, 1, 0, 0, 1, 2, 1, 3, 1, 3, 3, 2, 0, 3, 2, 1,\n",
       "        3, 0, 0, 3, 0, 2, 3, 0, 2, 0, 0, 3, 2, 0, 2, 1, 3, 0, 2, 2, 1, 3, 2, 2,\n",
       "        2, 2, 3, 0, 3, 1, 0, 2, 3, 1, 0, 2, 3, 0, 3, 3])"
      ]
     },
     "execution_count": 244,
     "metadata": {},
     "output_type": "execute_result"
    }
   ],
   "source": [
    "labels_1"
   ]
  },
  {
   "cell_type": "code",
   "execution_count": 39,
   "metadata": {},
   "outputs": [
    {
     "name": "stdout",
     "output_type": "stream",
     "text": [
      "76800\n",
      "10000\n",
      "200\n",
      "200\n",
      "200\n",
      "4\n"
     ]
    }
   ],
   "source": [
    "# check the number of parameters in layers\n",
    "for p in model.parameters():\n",
    "    print(p.numel())"
   ]
  },
  {
   "cell_type": "code",
   "execution_count": 81,
   "metadata": {},
   "outputs": [
    {
     "data": {
      "text/plain": [
       "array([3, 3, 3, 3, 3, 3, 3, 3, 3, 3, 3, 3, 3, 3, 3, 3, 3, 3, 3, 3, 3, 3,\n",
       "       3, 3, 3, 3, 3, 3, 3, 3, 3, 3, 3, 3, 3, 3, 3, 3, 3, 3, 3, 3, 3, 3,\n",
       "       3, 3, 3, 3, 3, 3, 3, 3, 3, 3, 3, 3, 3, 3, 3, 3, 3, 3, 3, 3])"
      ]
     },
     "execution_count": 81,
     "metadata": {},
     "output_type": "execute_result"
    }
   ],
   "source": [
    "All_y_pred[0]\n",
    "#All_y_train = []"
   ]
  },
  {
   "cell_type": "code",
   "execution_count": 82,
   "metadata": {},
   "outputs": [
    {
     "data": {
      "text/plain": [
       "array([2., 2., 3., 2., 2., 1., 0., 1., 2., 0., 1., 1., 2., 1., 3., 2., 3.,\n",
       "       0., 2., 3., 3., 3., 3., 3., 2., 2., 0., 2., 1., 3., 2., 1., 0., 2.,\n",
       "       1., 1., 1., 0., 0., 1., 2., 1., 3., 3., 3., 3., 0., 1., 2., 2., 3.,\n",
       "       0., 3., 3., 1., 3., 3., 2., 2., 3., 0., 1., 3., 3.], dtype=float32)"
      ]
     },
     "execution_count": 82,
     "metadata": {},
     "output_type": "execute_result"
    }
   ],
   "source": [
    "All_y_train[0].T"
   ]
  },
  {
   "cell_type": "code",
   "execution_count": 83,
   "metadata": {},
   "outputs": [
    {
     "data": {
      "text/plain": [
       "32.8125"
      ]
     },
     "execution_count": 83,
     "metadata": {},
     "output_type": "execute_result"
    }
   ],
   "source": [
    "((All_y_pred[0] == All_y_train[0].T).sum().item())/batch_size*100"
   ]
  },
  {
   "cell_type": "code",
   "execution_count": 73,
   "metadata": {},
   "outputs": [],
   "source": [
    "Accuracies = []\n",
    "for i in range(len(All_y_pred)):\n",
    "    acc = ((All_y_pred[i] == All_y_train[i].T).sum().item())/batch_size*100\n",
    "    Accuracies.append(acc)\n",
    "    \n",
    "    "
   ]
  },
  {
   "cell_type": "code",
   "execution_count": 74,
   "metadata": {},
   "outputs": [
    {
     "data": {
      "text/plain": [
       "(0, 100)"
      ]
     },
     "execution_count": 74,
     "metadata": {},
     "output_type": "execute_result"
    },
    {
     "data": {
      "image/png": "[encoded data removed]",
      "text/plain": [
       "<Figure size 1080x288 with 1 Axes>"
      ]
     },
     "metadata": {
      "needs_background": "light"
     },
     "output_type": "display_data"
    }
   ],
   "source": [
    "import matplotlib.pyplot as plt\n",
    "%matplotlib inline\n",
    "t_bin = np.arange(0,len(All_y_pred),1)\n",
    "fig = plt.figure(figsize=(15,4))\n",
    "ax = fig.add_axes([.10,.10,0.8,.8])\n",
    "ax.plot(t_bin,Accuracies,'r')\n",
    "ax.set_ylabel('Accuracy; train')\n",
    "ax.set_xlabel('Batch Number')\n",
    "plt.ylim([0, 100])\n",
    "#plt.savefig('LSTM_Classification4_trainAccBroadBand_4target.png',facecolor='w', transparent=False, dpi=300)\n"
   ]
  },
  {
   "cell_type": "code",
   "execution_count": 75,
   "metadata": {},
   "outputs": [
    {
     "data": {
      "text/plain": [
       "Text(0.5, 0, 'Batch Number')"
      ]
     },
     "execution_count": 75,
     "metadata": {},
     "output_type": "execute_result"
    },
    {
     "data": {
      "image/png": "[encoded data removed]",
      "text/plain": [
       "<Figure size 1080x288 with 1 Axes>"
      ]
     },
     "metadata": {
      "needs_background": "light"
     },
     "output_type": "display_data"
    }
   ],
   "source": [
    "import matplotlib.pyplot as plt\n",
    "%matplotlib inline\n",
    "t_bin = np.arange(0,len(loss_train),1)\n",
    "fig = plt.figure(figsize=(15,4))\n",
    "ax = fig.add_axes([.10,.10,0.8,.8])\n",
    "ax.plot(t_bin,loss_train,'r')\n",
    "ax.set_ylabel('Loss; train')\n",
    "ax.set_xlabel('Batch Number')\n",
    "#plt.ylim([0, 100])\n",
    "#plt.savefig('LSTM_Classification4_trainLossBroadBand_4target.png',facecolor='w', transparent=False, dpi=300)\n"
   ]
  },
  {
   "cell_type": "code",
   "execution_count": 76,
   "metadata": {},
   "outputs": [
    {
     "data": {
      "text/plain": [
       "(0, 100)"
      ]
     },
     "execution_count": 76,
     "metadata": {},
     "output_type": "execute_result"
    },
    {
     "data": {
      "image/png": "[encoded data removed]",
      "text/plain": [
       "<Figure size 576x288 with 1 Axes>"
      ]
     },
     "metadata": {
      "needs_background": "light"
     },
     "output_type": "display_data"
    }
   ],
   "source": [
    "import matplotlib.pyplot as plt\n",
    "%matplotlib inline\n",
    "t_bin = np.arange(0,len(Accuracy_test),1)\n",
    "fig = plt.figure(figsize=(8,4))\n",
    "ax = fig.add_axes([.10,.10,0.8,.8])\n",
    "ax.plot(t_bin,Accuracy_test,'r')\n",
    "ax.set_ylabel('Accuracy; test')\n",
    "ax.set_xlabel('Batch Number')\n",
    "plt.ylim([0, 100])\n",
    "#plt.savefig('LSTM_Classification4_testAccBroadBand_4target.png',facecolor='w', transparent=False, dpi=300)\n"
   ]
  },
  {
   "cell_type": "code",
   "execution_count": 77,
   "metadata": {},
   "outputs": [
    {
     "data": {
      "text/plain": [
       "Text(0.5, 0, 'Batch Number')"
      ]
     },
     "execution_count": 77,
     "metadata": {},
     "output_type": "execute_result"
    },
    {
     "data": {
      "image/png": "[encoded data removed]",
      "text/plain": [
       "<Figure size 1080x288 with 1 Axes>"
      ]
     },
     "metadata": {
      "needs_background": "light"
     },
     "output_type": "display_data"
    }
   ],
   "source": [
    "import matplotlib.pyplot as plt\n",
    "%matplotlib inline\n",
    "t_bin = np.arange(0,len(loss_train),1)\n",
    "fig = plt.figure(figsize=(15,4))\n",
    "ax = fig.add_axes([.10,.10,0.8,.8])\n",
    "ax.plot(t_bin,loss_train,'r')\n",
    "ax.set_ylabel('Loss; test')\n",
    "ax.set_xlabel('Batch Number')\n",
    "#plt.ylim([0, 100])\n",
    "#plt.savefig('LSTM_Classification4_testLossBroadBand_4target.png',facecolor='w', transparent=False, dpi=300)\n"
   ]
  },
  {
   "cell_type": "code",
   "execution_count": 78,
   "metadata": {},
   "outputs": [
    {
     "name": "stdout",
     "output_type": "stream",
     "text": [
      "Test Accuracy of the model on the test images: 63.63636363636363 %\n"
     ]
    }
   ],
   "source": [
    "# Evaluate the model\n",
    "#model.eval()\n",
    "# test on holdout data\n",
    "\n",
    "Accuracy_holdout = []\n",
    "\n",
    "with torch.no_grad():\n",
    "    right = 0\n",
    "    total = 0\n",
    "    for images, labels in holdout_loader:\n",
    "        images = images.reshape(-1, sequence_length, input_size).to(device)\n",
    "        labels = labels.T\n",
    "        #print(labels)\n",
    "        labels = labels.to(torch.long)\n",
    "        labels = labels.to(device)\n",
    "        images = images.to(torch.float)\n",
    "        outputs = model(images)\n",
    "        _, predicted = torch.max(outputs.data, 1)\n",
    "        total = labels.size(0)\n",
    "        right = (predicted == labels).sum().item()\n",
    "        Accuracy_holdout.append(100 * right / total)\n",
    "\n",
    "print('Test Accuracy of the model on the test images: {} %'.format(100 * right / total))"
   ]
  },
  {
   "cell_type": "code",
   "execution_count": 79,
   "metadata": {},
   "outputs": [
    {
     "data": {
      "text/plain": [
       "18"
      ]
     },
     "execution_count": 79,
     "metadata": {},
     "output_type": "execute_result"
    }
   ],
   "source": [
    "len(holdout_loader)"
   ]
  },
  {
   "cell_type": "code",
   "execution_count": 80,
   "metadata": {},
   "outputs": [
    {
     "data": {
      "text/plain": [
       "(0, 100)"
      ]
     },
     "execution_count": 80,
     "metadata": {},
     "output_type": "execute_result"
    },
    {
     "data": {
      "image/png": "[encoded data removed]",
      "text/plain": [
       "<Figure size 576x288 with 1 Axes>"
      ]
     },
     "metadata": {
      "needs_background": "light"
     },
     "output_type": "display_data"
    }
   ],
   "source": [
    "import matplotlib.pyplot as plt\n",
    "%matplotlib inline\n",
    "t_bin = np.arange(0,len(Accuracy_holdout),1)\n",
    "fig = plt.figure(figsize=(8,4))\n",
    "ax = fig.add_axes([.10,.10,0.8,.8])\n",
    "ax.plot(t_bin,Accuracy_holdout,'r')\n",
    "ax.set_ylabel('Accuracy; holdout')\n",
    "ax.set_xlabel('Batch Number')\n",
    "plt.ylim([0, 100])\n",
    "#plt.savefig('LSTM_Classification3_holdout3Features_4target.png',facecolor='w', transparent=False, dpi=300)\n"
   ]
  },
  {
   "cell_type": "code",
   "execution_count": 81,
   "metadata": {},
   "outputs": [],
   "source": [
    "# calculate the accuracy in trial based \n",
    "import statistics\n",
    "\n",
    "def Trial_Based_Accuracy(Trials_Num,Trials_Data_HoldOut,Trials_Sizes,Target,All_Predicted,Trials_Predicted):\n",
    "    \n",
    "\n",
    "    for i in range(Trials_Num):\n",
    "\n",
    "        HoldOutData_Set = []\n",
    "        Trial_Target = Trials_Data_HoldOut[int(sum(Trials_Sizes[0:i+1])):int(sum(Trials_Sizes[0:i+1])+Trials_Sizes[i+1]),:]\n",
    "        HoldOutData_Set = input_data(Trial_Target, Target, sequence_length, HoldOutData_Set)\n",
    "\n",
    "        with torch.no_grad():\n",
    "\n",
    "            for images, labels in HoldOutData_Set:\n",
    "                images = images.reshape(-1, sequence_length, input_size).to(device)\n",
    "                images = images.to(torch.float)\n",
    "                outputs = model(images)\n",
    "                _, predicted = torch.max(outputs.data, 1)\n",
    "                #print((predicted.cpu().numpy().item()))\n",
    "                All_Predicted.append(predicted.cpu().numpy().item())\n",
    "\n",
    "        Counting =[All_Predicted.count(0), All_Predicted.count(1), All_Predicted.count(2), All_Predicted.count(3)] \n",
    "        Trials_Predicted.append(np.argmax(Counting))\n",
    "        \n",
    "    return Trials_Predicted\n",
    "    \n",
    "\n",
    "\n"
   ]
  },
  {
   "cell_type": "code",
   "execution_count": 82,
   "metadata": {},
   "outputs": [
    {
     "data": {
      "text/plain": [
       "100.0"
      ]
     },
     "execution_count": 82,
     "metadata": {},
     "output_type": "execute_result"
    }
   ],
   "source": [
    "# for target one\n",
    "Trials_Num = len(Trials_Size_T1_HoldOut)\n",
    "Trials_Data_HoldOut = Data_T1_HoldOut_torch\n",
    "#Trials_Sizes = np.concatenate((np.array([0]),Trials_Size_T1_HoldOut))\n",
    "Trials_Sizes = np.concatenate((np.array([0]),Click_BinNum_T1_HoldOut))\n",
    "\n",
    "Target = torch.tensor(0)\n",
    "All_Predicted = []\n",
    "Trials_Predicted = []\n",
    "Trials_Predicted = Trial_Based_Accuracy(Trials_Num,Trials_Data_HoldOut,Trials_Sizes,Target,All_Predicted,Trials_Predicted)\n",
    "Trials_Predicted1 = Trials_Predicted\n",
    "Trials_Predicted.count(0)/len(Trials_Predicted)*100"
   ]
  },
  {
   "cell_type": "code",
   "execution_count": null,
   "metadata": {},
   "outputs": [],
   "source": []
  },
  {
   "cell_type": "code",
   "execution_count": null,
   "metadata": {},
   "outputs": [],
   "source": []
  },
  {
   "cell_type": "code",
   "execution_count": 83,
   "metadata": {},
   "outputs": [
    {
     "data": {
      "text/plain": [
       "100.0"
      ]
     },
     "execution_count": 83,
     "metadata": {},
     "output_type": "execute_result"
    }
   ],
   "source": [
    "# for target two\n",
    "Trials_Num = len(Trials_Size_T2_HoldOut)\n",
    "Trials_Data_HoldOut = Data_T2_HoldOut_torch\n",
    "#Trials_Sizes = np.concatenate((np.array([0]),Trials_Size_T2_HoldOut))\n",
    "Trials_Sizes = np.concatenate((np.array([0]),Click_BinNum_T2_HoldOut))\n",
    "Target = torch.tensor(1)\n",
    "All_Predicted = []\n",
    "Trials_Predicted = []\n",
    "Trials_Predicted = Trial_Based_Accuracy(Trials_Num,Trials_Data_HoldOut,Trials_Sizes,Target,All_Predicted,Trials_Predicted)\n",
    "Trials_Predicted2 = Trials_Predicted\n",
    "Trials_Predicted.count(1)/len(Trials_Predicted)*100\n",
    "\n"
   ]
  },
  {
   "cell_type": "code",
   "execution_count": 84,
   "metadata": {},
   "outputs": [
    {
     "data": {
      "text/plain": [
       "100.0"
      ]
     },
     "execution_count": 84,
     "metadata": {},
     "output_type": "execute_result"
    }
   ],
   "source": [
    "# for target three\n",
    "Trials_Num = len(Trials_Size_T3_HoldOut)\n",
    "Trials_Data_HoldOut = Data_T3_HoldOut_torch\n",
    "#Trials_Sizes = np.concatenate((np.array([0]),Trials_Size_T3_HoldOut))\n",
    "Trials_Sizes = np.concatenate((np.array([0]),Click_BinNum_T3_HoldOut))\n",
    "Target = torch.tensor(2)\n",
    "All_Predicted = []\n",
    "Trials_Predicted = []\n",
    "Trials_Predicted = Trial_Based_Accuracy(Trials_Num,Trials_Data_HoldOut,Trials_Sizes,Target,All_Predicted,Trials_Predicted)\n",
    "Trials_Predicted3 = Trials_Predicted\n",
    "Trials_Predicted.count(2)/len(Trials_Predicted)*100"
   ]
  },
  {
   "cell_type": "code",
   "execution_count": 85,
   "metadata": {},
   "outputs": [
    {
     "data": {
      "text/plain": [
       "100.0"
      ]
     },
     "execution_count": 85,
     "metadata": {},
     "output_type": "execute_result"
    }
   ],
   "source": [
    "# for target four\n",
    "Trials_Num = len(Trials_Size_T4_HoldOut)\n",
    "Trials_Data_HoldOut = Data_T4_HoldOut_torch\n",
    "#Trials_Sizes = np.concatenate((np.array([0]),Trials_Size_T4_HoldOut))\n",
    "Trials_Sizes = np.concatenate((np.array([0]),Click_BinNum_T4_HoldOut))\n",
    "Target = torch.tensor(3)\n",
    "All_Predicted = []\n",
    "Trials_Predicted = []\n",
    "Trials_Predicted = Trial_Based_Accuracy(Trials_Num,Trials_Data_HoldOut,Trials_Sizes,Target,All_Predicted,Trials_Predicted)\n",
    "Trials_Predicted4 = Trials_Predicted\n",
    "Trials_Predicted.count(3)/len(Trials_Predicted)*100"
   ]
  },
  {
   "cell_type": "code",
   "execution_count": 86,
   "metadata": {},
   "outputs": [],
   "source": [
    "y_true = len(Trials_Predicted1)*[0] + len(Trials_Predicted2)*[1] + len(Trials_Predicted3)*[2] + len(Trials_Predicted4)*[3]\n",
    "y_pred = Trials_Predicted1 + Trials_Predicted2 + Trials_Predicted3 + Trials_Predicted4 "
   ]
  },
  {
   "cell_type": "code",
   "execution_count": 87,
   "metadata": {},
   "outputs": [
    {
     "name": "stdout",
     "output_type": "stream",
     "text": [
      "[[13  0  0  0]\n",
      " [ 0 16  0  0]\n",
      " [ 0  0 14  0]\n",
      " [ 0  0  0 16]]\n"
     ]
    }
   ],
   "source": [
    "# confusion matrix\n",
    "from sklearn.metrics import confusion_matrix\n",
    "#from sklearn.metrics import plot_confusion_matrix\n",
    "\n",
    "CM1 = confusion_matrix(y_true, y_pred)\n",
    "print(CM1)\n",
    "CM2 = np.zeros((4,4))\n",
    "for i in range(4):\n",
    "    for j in range(4):\n",
    "        CM2[i][j] = CM1[i][j]/sum(CM1[i,:])*100\n",
    "\n"
   ]
  },
  {
   "cell_type": "code",
   "execution_count": null,
   "metadata": {},
   "outputs": [],
   "source": []
  },
  {
   "cell_type": "code",
   "execution_count": 88,
   "metadata": {},
   "outputs": [
    {
     "data": {
      "image/png": "[encoded data removed]",
      "text/plain": [
       "<Figure size 432x288 with 2 Axes>"
      ]
     },
     "metadata": {
      "needs_background": "light"
     },
     "output_type": "display_data"
    }
   ],
   "source": [
    "import seaborn as sns\n",
    "ax = sns.heatmap(CM2, annot=True)\n",
    "#plt.savefig('./CVAcrossDays/3Fe_3bin_DropoutLayer_TestOn_Day07.png')"
   ]
  },
  {
   "cell_type": "markdown",
   "metadata": {},
   "source": [
    "# Testing the model over all period of each trial; is it responding faster? "
   ]
  },
  {
   "cell_type": "code",
   "execution_count": 132,
   "metadata": {},
   "outputs": [],
   "source": [
    "# replay the trial data through the generated model and exit after correct selection \n",
    "import statistics\n",
    "\n",
    "def Trial_Based_OutPuts(Trials_Data_HoldOut,Click_Num,Target,All_Predicted):\n",
    "    \n",
    "    HoldOutData_Set = []\n",
    "    HoldOutData_Set = input_data(Trials_Data_HoldOut, Target, sequence_length, HoldOutData_Set)\n",
    "\n",
    "    with torch.no_grad():\n",
    "\n",
    "        for images, labels in HoldOutData_Set:\n",
    "            images = images.reshape(-1, sequence_length, input_size).to(device)\n",
    "            images = images.to(torch.float)\n",
    "            outputs = model(images)\n",
    "            _, predicted = torch.max(outputs.data, 1)\n",
    "            #print((predicted.cpu().numpy().item()))\n",
    "            All_Predicted.append(predicted.cpu().numpy().item())\n",
    "\n",
    "    # moving window for selection based on Click_Num\n",
    "    Bin_Prediction = []\n",
    "    if int(len(All_Predicted)-Click_Num)<= int(Click_Num):\n",
    "        Window_Predicted = All_Predicted\n",
    "        Counting =[Window_Predicted.count(0), Window_Predicted.count(1), Window_Predicted.count(2), Window_Predicted.count(3)]\n",
    "        Bin_Prediction.append(np.argmax(Counting))\n",
    "\n",
    "    else:\n",
    "        for i in range(int(len(All_Predicted)-Click_Num)):\n",
    "            Window_Predicted = All_Predicted[i:i+int(Click_Num)]\n",
    "            Counting =[Window_Predicted.count(0), Window_Predicted.count(1), Window_Predicted.count(2), Window_Predicted.count(3)]\n",
    "            Bin_Prediction.append(np.argmax(Counting))\n",
    "\n",
    "            \n",
    "    return Bin_Prediction"
   ]
  },
  {
   "cell_type": "code",
   "execution_count": 148,
   "metadata": {},
   "outputs": [],
   "source": [
    "# for target one\n",
    "Bin_SelectionNum = []\n",
    "for i in range(len(Trials_T1_BinControl_HoldOut)):\n",
    "    \n",
    "    Click_Num, Trials_Data_HoldOut_allFe = Trials_T1_BinControl_HoldOut[i]\n",
    "    Trials_Data_HoldOut = Trials_Data_HoldOut_allFe[:,6*128:]\n",
    "    Trials_Data_HoldOut_torch = torch.from_numpy(Trials_Data_HoldOut)\n",
    "    All_Predicted = []\n",
    "    Target = torch.tensor(0)\n",
    "    Bin_Prediction = Trial_Based_OutPuts(Trials_Data_HoldOut_torch,Click_Num,Target,All_Predicted)\n",
    "    \n",
    "    for j in range(len(Bin_Prediction)): \n",
    "        if Bin_Prediction[j] == 0: \n",
    "            Bin_SelectionNum.append(tuple((Trials_Data_HoldOut_allFe.shape[0], j))) \n",
    "            break \n"
   ]
  },
  {
   "cell_type": "code",
   "execution_count": 149,
   "metadata": {},
   "outputs": [
    {
     "data": {
      "text/plain": [
       "[(7, 0),\n",
       " (17, 0),\n",
       " (28, 0),\n",
       " (6, 0),\n",
       " (7, 0),\n",
       " (28, 0),\n",
       " (21, 0),\n",
       " (7, 0),\n",
       " (11, 0),\n",
       " (20, 0),\n",
       " (9, 0),\n",
       " (19, 0),\n",
       " (7, 0)]"
      ]
     },
     "execution_count": 149,
     "metadata": {},
     "output_type": "execute_result"
    }
   ],
   "source": [
    "Bin_SelectionNum"
   ]
  },
  {
   "cell_type": "code",
   "execution_count": 152,
   "metadata": {},
   "outputs": [],
   "source": [
    "# for target two\n",
    "Bin_SelectionNum = []\n",
    "for i in range(len(Trials_T2_BinControl_HoldOut)):\n",
    "    \n",
    "    Click_Num, Trials_Data_HoldOut_allFe = Trials_T2_BinControl_HoldOut[i]\n",
    "    Trials_Data_HoldOut = Trials_Data_HoldOut_allFe[:,6*128:]\n",
    "    Trials_Data_HoldOut_torch = torch.from_numpy(Trials_Data_HoldOut)\n",
    "    All_Predicted = []\n",
    "    Target = torch.tensor(1)\n",
    "    Bin_Prediction = Trial_Based_OutPuts(Trials_Data_HoldOut_torch,Click_Num,Target,All_Predicted)\n",
    "        \n",
    "    for j in range(len(Bin_Prediction)): \n",
    "        if Bin_Prediction[j] == 1: \n",
    "            Bin_SelectionNum.append(tuple((Trials_Data_HoldOut_allFe.shape[0], j))) \n",
    "            break \n"
   ]
  },
  {
   "cell_type": "code",
   "execution_count": 153,
   "metadata": {},
   "outputs": [
    {
     "data": {
      "text/plain": [
       "[(23, 0),\n",
       " (23, 10),\n",
       " (31, 10),\n",
       " (34, 0),\n",
       " (50, 8),\n",
       " (40, 2),\n",
       " (37, 0),\n",
       " (7, 0),\n",
       " (15, 3),\n",
       " (24, 7),\n",
       " (23, 0),\n",
       " (73, 9),\n",
       " (30, 3),\n",
       " (49, 2)]"
      ]
     },
     "execution_count": 153,
     "metadata": {},
     "output_type": "execute_result"
    }
   ],
   "source": [
    "Bin_SelectionNum"
   ]
  },
  {
   "cell_type": "code",
   "execution_count": 156,
   "metadata": {},
   "outputs": [],
   "source": [
    "# for target three \n",
    "Bin_SelectionNum = []\n",
    "for i in range(len(Trials_T3_BinControl_HoldOut)):\n",
    "    \n",
    "    Click_Num, Trials_Data_HoldOut_allFe = Trials_T3_BinControl_HoldOut[i]\n",
    "    Trials_Data_HoldOut = Trials_Data_HoldOut_allFe[:,6*128:]\n",
    "    Trials_Data_HoldOut_torch = torch.from_numpy(Trials_Data_HoldOut)\n",
    "    All_Predicted = []\n",
    "    Target = torch.tensor(2)\n",
    "    Bin_Prediction = Trial_Based_OutPuts(Trials_Data_HoldOut_torch,Click_Num,Target,All_Predicted)\n",
    "        \n",
    "    for j in range(len(Bin_Prediction)): \n",
    "        if Bin_Prediction[j] == 2: \n",
    "            Bin_SelectionNum.append(tuple((Trials_Data_HoldOut_allFe.shape[0], j))) \n",
    "            break \n"
   ]
  },
  {
   "cell_type": "code",
   "execution_count": 157,
   "metadata": {},
   "outputs": [
    {
     "data": {
      "text/plain": [
       "[(9, 0),\n",
       " (9, 0),\n",
       " (11, 0),\n",
       " (10, 0),\n",
       " (22, 8),\n",
       " (29, 0),\n",
       " (7, 0),\n",
       " (5, 0),\n",
       " (12, 0),\n",
       " (13, 0),\n",
       " (12, 0),\n",
       " (15, 0),\n",
       " (16, 0)]"
      ]
     },
     "execution_count": 157,
     "metadata": {},
     "output_type": "execute_result"
    }
   ],
   "source": [
    "Bin_SelectionNum"
   ]
  },
  {
   "cell_type": "code",
   "execution_count": 158,
   "metadata": {},
   "outputs": [],
   "source": [
    "# for target four \n",
    "Bin_SelectionNum = []\n",
    "for i in range(len(Trials_T4_BinControl_HoldOut)):\n",
    "    \n",
    "    Click_Num, Trials_Data_HoldOut_allFe = Trials_T4_BinControl_HoldOut[i]\n",
    "    Trials_Data_HoldOut = Trials_Data_HoldOut_allFe[:,6*128:]\n",
    "    Trials_Data_HoldOut_torch = torch.from_numpy(Trials_Data_HoldOut)\n",
    "    All_Predicted = []\n",
    "    Target = torch.tensor(3)\n",
    "    Bin_Prediction = Trial_Based_OutPuts(Trials_Data_HoldOut_torch,Click_Num,Target,All_Predicted)\n",
    "        \n",
    "    for j in range(len(Bin_Prediction)): \n",
    "        if Bin_Prediction[j] == 3: \n",
    "            Bin_SelectionNum.append(tuple((Trials_Data_HoldOut_allFe.shape[0], j))) \n",
    "            break "
   ]
  },
  {
   "cell_type": "code",
   "execution_count": 159,
   "metadata": {},
   "outputs": [
    {
     "data": {
      "text/plain": [
       "[(33, 0),\n",
       " (8, 0),\n",
       " (5, 0),\n",
       " (27, 0),\n",
       " (6, 0),\n",
       " (8, 0),\n",
       " (5, 0),\n",
       " (5, 0),\n",
       " (19, 0),\n",
       " (5, 0),\n",
       " (14, 0),\n",
       " (19, 0),\n",
       " (8, 0)]"
      ]
     },
     "execution_count": 159,
     "metadata": {},
     "output_type": "execute_result"
    }
   ],
   "source": [
    "Bin_SelectionNum"
   ]
  },
  {
   "cell_type": "code",
   "execution_count": null,
   "metadata": {},
   "outputs": [],
   "source": []
  }
 ],
 "metadata": {
  "kernelspec": {
   "display_name": "ECoGControl_RNN",
   "language": "python",
   "name": "ecogcontrol_rnn"
  },
  "language_info": {
   "codemirror_mode": {
    "name": "ipython",
    "version": 3
   },
   "file_extension": ".py",
   "mimetype": "text/x-python",
   "name": "python",
   "nbconvert_exporter": "python",
   "pygments_lexer": "ipython3",
   "version": "3.7.3"
  }
 },
 "nbformat": 4,
 "nbformat_minor": 5
}
